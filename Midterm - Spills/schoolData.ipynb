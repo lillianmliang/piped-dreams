{
 "cells": [
  {
   "cell_type": "markdown",
   "id": "548e1df5-96ab-43c1-aeb3-a0d93b69689b",
   "metadata": {},
   "source": [
    "# School Expulsion Data Exploration\n",
    "\n",
    "In this notebook I will be exploring and joining 2 datasets from the California Department of Education. The first dataset is school expulsion data listing expulsions for each school, which is the 'substantive' dataset, which doesn't contain any geometry. The second dataset contains the geometry data, in the form of angular latitude and longitude coordinates. I will ultimately be merging both together by a shared attribute 'school code.' I have pre-filtered both datasets to only include schools located within L.A. County before importing into Jupyter Notebooks.\n",
    "\n",
    "\n",
    "## School Expulsion Data\n",
    "\n",
    "This data from the California Department of Education can be found [here](https://www.cde.ca.gov/ds/ad/filesed.asp), and its documentation can be found [here](https://www.cde.ca.gov/ds/ad/fsed.asp). I have pre-filtered this dataset the reporting category 'TA' before importing into Jupyter Notebooks.\n",
    "\n",
    "Steps:\n",
    "* look at the data\n",
    "* clean the data, including adding a CDSCode column to the School Expulsion Data\n",
    "* filter the data\n",
    "\n",
    "### Looking at the Data"
   ]
  },
  {
   "cell_type": "code",
   "execution_count": 123,
   "id": "3f6738ea-8eb0-48c1-a108-82cd2e12efd6",
   "metadata": {},
   "outputs": [],
   "source": [
    "# first, import the pandas library\n",
    "import geopandas as gpd\n",
    "\n",
    "# next, import the school expulsion data\n",
    "expgdf = gpd.read_file('exp1920_LA.csv')"
   ]
  },
  {
   "cell_type": "code",
   "execution_count": 91,
   "id": "6e0474c6-1764-4529-86e7-4598f931691c",
   "metadata": {},
   "outputs": [
    {
     "data": {
      "text/html": [
       "<div>\n",
       "<style scoped>\n",
       "    .dataframe tbody tr th:only-of-type {\n",
       "        vertical-align: middle;\n",
       "    }\n",
       "\n",
       "    .dataframe tbody tr th {\n",
       "        vertical-align: top;\n",
       "    }\n",
       "\n",
       "    .dataframe thead th {\n",
       "        text-align: right;\n",
       "    }\n",
       "</style>\n",
       "<table border=\"1\" class=\"dataframe\">\n",
       "  <thead>\n",
       "    <tr style=\"text-align: right;\">\n",
       "      <th></th>\n",
       "      <th>AcademicYear</th>\n",
       "      <th>AggregateLevel</th>\n",
       "      <th>CountyCode</th>\n",
       "      <th>DistrictCode</th>\n",
       "      <th>SchoolCode</th>\n",
       "      <th>CountyName</th>\n",
       "      <th>DistrictName</th>\n",
       "      <th>SchoolName</th>\n",
       "      <th>CharterYN</th>\n",
       "      <th>ReportingCategory</th>\n",
       "      <th>...</th>\n",
       "      <th>Unduplicated Count of Students Expelled (Total)</th>\n",
       "      <th>Unduplicated Count of Students Expelled (Defiance-Only)</th>\n",
       "      <th>Expulsion Rate (Total)</th>\n",
       "      <th>Expulsion Count Violent Incident (Injury)</th>\n",
       "      <th>Expulsion Count Violent Incident (No Injury)</th>\n",
       "      <th>Expulsion Count Weapons Possession</th>\n",
       "      <th>Expulsion Count Illicit Drug-Related</th>\n",
       "      <th>Expulsion Count Defiance-Only</th>\n",
       "      <th>Expulsion Count Other Reasons</th>\n",
       "      <th>geometry</th>\n",
       "    </tr>\n",
       "  </thead>\n",
       "  <tbody>\n",
       "    <tr>\n",
       "      <th>0</th>\n",
       "      <td>2019-20</td>\n",
       "      <td>S</td>\n",
       "      <td>19</td>\n",
       "      <td>64212</td>\n",
       "      <td>1995596</td>\n",
       "      <td>Los Angeles</td>\n",
       "      <td>ABC Unified</td>\n",
       "      <td>ABC Secondary (Alternative)</td>\n",
       "      <td>No</td>\n",
       "      <td>TA</td>\n",
       "      <td>...</td>\n",
       "      <td>0</td>\n",
       "      <td>0</td>\n",
       "      <td>0</td>\n",
       "      <td>0</td>\n",
       "      <td>0</td>\n",
       "      <td>0</td>\n",
       "      <td>0</td>\n",
       "      <td>0</td>\n",
       "      <td>0</td>\n",
       "      <td>None</td>\n",
       "    </tr>\n",
       "    <tr>\n",
       "      <th>1</th>\n",
       "      <td>2019-20</td>\n",
       "      <td>S</td>\n",
       "      <td>19</td>\n",
       "      <td>64212</td>\n",
       "      <td>6010862</td>\n",
       "      <td>Los Angeles</td>\n",
       "      <td>ABC Unified</td>\n",
       "      <td>Aloha Elementary</td>\n",
       "      <td>No</td>\n",
       "      <td>TA</td>\n",
       "      <td>...</td>\n",
       "      <td>0</td>\n",
       "      <td>0</td>\n",
       "      <td>0</td>\n",
       "      <td>0</td>\n",
       "      <td>0</td>\n",
       "      <td>0</td>\n",
       "      <td>0</td>\n",
       "      <td>0</td>\n",
       "      <td>0</td>\n",
       "      <td>None</td>\n",
       "    </tr>\n",
       "    <tr>\n",
       "      <th>2</th>\n",
       "      <td>2019-20</td>\n",
       "      <td>S</td>\n",
       "      <td>19</td>\n",
       "      <td>64212</td>\n",
       "      <td>1930361</td>\n",
       "      <td>Los Angeles</td>\n",
       "      <td>ABC Unified</td>\n",
       "      <td>Artesia High</td>\n",
       "      <td>No</td>\n",
       "      <td>TA</td>\n",
       "      <td>...</td>\n",
       "      <td>0</td>\n",
       "      <td>0</td>\n",
       "      <td>0</td>\n",
       "      <td>0</td>\n",
       "      <td>0</td>\n",
       "      <td>0</td>\n",
       "      <td>0</td>\n",
       "      <td>0</td>\n",
       "      <td>0</td>\n",
       "      <td>None</td>\n",
       "    </tr>\n",
       "    <tr>\n",
       "      <th>3</th>\n",
       "      <td>2019-20</td>\n",
       "      <td>S</td>\n",
       "      <td>19</td>\n",
       "      <td>64212</td>\n",
       "      <td>6071369</td>\n",
       "      <td>Los Angeles</td>\n",
       "      <td>ABC Unified</td>\n",
       "      <td>Bragg Elementary</td>\n",
       "      <td>No</td>\n",
       "      <td>TA</td>\n",
       "      <td>...</td>\n",
       "      <td>0</td>\n",
       "      <td>0</td>\n",
       "      <td>0</td>\n",
       "      <td>0</td>\n",
       "      <td>0</td>\n",
       "      <td>0</td>\n",
       "      <td>0</td>\n",
       "      <td>0</td>\n",
       "      <td>0</td>\n",
       "      <td>None</td>\n",
       "    </tr>\n",
       "    <tr>\n",
       "      <th>4</th>\n",
       "      <td>2019-20</td>\n",
       "      <td>S</td>\n",
       "      <td>19</td>\n",
       "      <td>64212</td>\n",
       "      <td>6010953</td>\n",
       "      <td>Los Angeles</td>\n",
       "      <td>ABC Unified</td>\n",
       "      <td>Burbank (Luther) Elementary</td>\n",
       "      <td>No</td>\n",
       "      <td>TA</td>\n",
       "      <td>...</td>\n",
       "      <td>0</td>\n",
       "      <td>0</td>\n",
       "      <td>0</td>\n",
       "      <td>0</td>\n",
       "      <td>0</td>\n",
       "      <td>0</td>\n",
       "      <td>0</td>\n",
       "      <td>0</td>\n",
       "      <td>0</td>\n",
       "      <td>None</td>\n",
       "    </tr>\n",
       "  </tbody>\n",
       "</table>\n",
       "<p>5 rows × 22 columns</p>\n",
       "</div>"
      ],
      "text/plain": [
       "  AcademicYear AggregateLevel CountyCode DistrictCode SchoolCode   CountyName  \\\n",
       "0      2019-20              S         19        64212    1995596  Los Angeles   \n",
       "1      2019-20              S         19        64212    6010862  Los Angeles   \n",
       "2      2019-20              S         19        64212    1930361  Los Angeles   \n",
       "3      2019-20              S         19        64212    6071369  Los Angeles   \n",
       "4      2019-20              S         19        64212    6010953  Los Angeles   \n",
       "\n",
       "  DistrictName                   SchoolName CharterYN ReportingCategory  ...  \\\n",
       "0  ABC Unified  ABC Secondary (Alternative)       No                 TA  ...   \n",
       "1  ABC Unified             Aloha Elementary       No                 TA  ...   \n",
       "2  ABC Unified                 Artesia High       No                 TA  ...   \n",
       "3  ABC Unified             Bragg Elementary       No                 TA  ...   \n",
       "4  ABC Unified  Burbank (Luther) Elementary       No                 TA  ...   \n",
       "\n",
       "  Unduplicated Count of Students Expelled (Total)  \\\n",
       "0                                               0   \n",
       "1                                               0   \n",
       "2                                               0   \n",
       "3                                               0   \n",
       "4                                               0   \n",
       "\n",
       "  Unduplicated Count of Students Expelled (Defiance-Only)  \\\n",
       "0                                                  0        \n",
       "1                                                  0        \n",
       "2                                                  0        \n",
       "3                                                  0        \n",
       "4                                                  0        \n",
       "\n",
       "  Expulsion Rate (Total) Expulsion Count Violent Incident (Injury)  \\\n",
       "0                      0                                         0   \n",
       "1                      0                                         0   \n",
       "2                      0                                         0   \n",
       "3                      0                                         0   \n",
       "4                      0                                         0   \n",
       "\n",
       "  Expulsion Count Violent Incident (No Injury)  \\\n",
       "0                                            0   \n",
       "1                                            0   \n",
       "2                                            0   \n",
       "3                                            0   \n",
       "4                                            0   \n",
       "\n",
       "  Expulsion Count Weapons Possession Expulsion Count Illicit Drug-Related  \\\n",
       "0                                  0                                    0   \n",
       "1                                  0                                    0   \n",
       "2                                  0                                    0   \n",
       "3                                  0                                    0   \n",
       "4                                  0                                    0   \n",
       "\n",
       "  Expulsion Count Defiance-Only Expulsion Count Other Reasons geometry  \n",
       "0                             0                             0     None  \n",
       "1                             0                             0     None  \n",
       "2                             0                             0     None  \n",
       "3                             0                             0     None  \n",
       "4                             0                             0     None  \n",
       "\n",
       "[5 rows x 22 columns]"
      ]
     },
     "execution_count": 91,
     "metadata": {},
     "output_type": "execute_result"
    }
   ],
   "source": [
    "expgdf.head()"
   ]
  },
  {
   "cell_type": "code",
   "execution_count": 92,
   "id": "d872c0b0-dfd0-493e-a5e8-c6eaffc5f078",
   "metadata": {},
   "outputs": [
    {
     "data": {
      "text/plain": [
       "Index(['AcademicYear', 'AggregateLevel', 'CountyCode', 'DistrictCode',\n",
       "       'SchoolCode', 'CountyName', 'DistrictName', 'SchoolName', 'CharterYN',\n",
       "       'ReportingCategory', 'CumulativeEnrollment', 'Total Expulsions',\n",
       "       'Unduplicated Count of Students Expelled (Total)',\n",
       "       'Unduplicated Count of Students Expelled (Defiance-Only)',\n",
       "       'Expulsion Rate (Total)', 'Expulsion Count Violent Incident (Injury)',\n",
       "       'Expulsion Count Violent Incident (No Injury)',\n",
       "       'Expulsion Count Weapons Possession',\n",
       "       'Expulsion Count Illicit Drug-Related', 'Expulsion Count Defiance-Only',\n",
       "       'Expulsion Count Other Reasons', 'geometry'],\n",
       "      dtype='object')"
      ]
     },
     "execution_count": 92,
     "metadata": {},
     "output_type": "execute_result"
    }
   ],
   "source": [
    "# check the column names\n",
    "expgdf.columns"
   ]
  },
  {
   "cell_type": "code",
   "execution_count": 93,
   "id": "4da32bc9-81cd-46e5-be49-a7147e1d58f9",
   "metadata": {},
   "outputs": [
    {
     "name": "stdout",
     "output_type": "stream",
     "text": [
      "<class 'geopandas.geodataframe.GeoDataFrame'>\n",
      "RangeIndex: 2310 entries, 0 to 2309\n",
      "Data columns (total 22 columns):\n",
      " #   Column                                                   Non-Null Count  Dtype   \n",
      "---  ------                                                   --------------  -----   \n",
      " 0   AcademicYear                                             2310 non-null   object  \n",
      " 1   AggregateLevel                                           2310 non-null   object  \n",
      " 2   CountyCode                                               2310 non-null   object  \n",
      " 3   DistrictCode                                             2310 non-null   object  \n",
      " 4   SchoolCode                                               2310 non-null   object  \n",
      " 5   CountyName                                               2310 non-null   object  \n",
      " 6   DistrictName                                             2310 non-null   object  \n",
      " 7   SchoolName                                               2310 non-null   object  \n",
      " 8   CharterYN                                                2310 non-null   object  \n",
      " 9   ReportingCategory                                        2310 non-null   object  \n",
      " 10  CumulativeEnrollment                                     2310 non-null   object  \n",
      " 11  Total Expulsions                                         2310 non-null   object  \n",
      " 12  Unduplicated Count of Students Expelled (Total)          2310 non-null   object  \n",
      " 13  Unduplicated Count of Students Expelled (Defiance-Only)  2310 non-null   object  \n",
      " 14  Expulsion Rate (Total)                                   2310 non-null   object  \n",
      " 15  Expulsion Count Violent Incident (Injury)                2310 non-null   object  \n",
      " 16  Expulsion Count Violent Incident (No Injury)             2310 non-null   object  \n",
      " 17  Expulsion Count Weapons Possession                       2310 non-null   object  \n",
      " 18  Expulsion Count Illicit Drug-Related                     2310 non-null   object  \n",
      " 19  Expulsion Count Defiance-Only                            2310 non-null   object  \n",
      " 20  Expulsion Count Other Reasons                            2310 non-null   object  \n",
      " 21  geometry                                                 0 non-null      geometry\n",
      "dtypes: geometry(1), object(21)\n",
      "memory usage: 397.2+ KB\n"
     ]
    }
   ],
   "source": [
    "# check the types of each column\n",
    "expgdf.info()"
   ]
  },
  {
   "cell_type": "markdown",
   "id": "a1fde265-4779-4e97-9251-3bbfbcf28038",
   "metadata": {},
   "source": [
    "### Clean the Data"
   ]
  },
  {
   "cell_type": "code",
   "execution_count": 94,
   "id": "d7f3aa28-0800-4dbb-8820-e86e719b5218",
   "metadata": {},
   "outputs": [
    {
     "name": "stdout",
     "output_type": "stream",
     "text": [
      "<class 'geopandas.geodataframe.GeoDataFrame'>\n",
      "RangeIndex: 2310 entries, 0 to 2309\n",
      "Data columns (total 23 columns):\n",
      " #   Column                                                   Non-Null Count  Dtype   \n",
      "---  ------                                                   --------------  -----   \n",
      " 0   AcademicYear                                             2310 non-null   object  \n",
      " 1   AggregateLevel                                           2310 non-null   object  \n",
      " 2   CountyCode                                               2310 non-null   object  \n",
      " 3   DistrictCode                                             2310 non-null   object  \n",
      " 4   SchoolCode                                               2310 non-null   object  \n",
      " 5   CountyName                                               2310 non-null   object  \n",
      " 6   DistrictName                                             2310 non-null   object  \n",
      " 7   SchoolName                                               2310 non-null   object  \n",
      " 8   CharterYN                                                2310 non-null   object  \n",
      " 9   ReportingCategory                                        2310 non-null   object  \n",
      " 10  CumulativeEnrollment                                     2310 non-null   object  \n",
      " 11  Total Expulsions                                         2310 non-null   object  \n",
      " 12  Unduplicated Count of Students Expelled (Total)          2310 non-null   object  \n",
      " 13  Unduplicated Count of Students Expelled (Defiance-Only)  2310 non-null   object  \n",
      " 14  Expulsion Rate (Total)                                   2310 non-null   object  \n",
      " 15  Expulsion Count Violent Incident (Injury)                2310 non-null   object  \n",
      " 16  Expulsion Count Violent Incident (No Injury)             2310 non-null   object  \n",
      " 17  Expulsion Count Weapons Possession                       2310 non-null   object  \n",
      " 18  Expulsion Count Illicit Drug-Related                     2310 non-null   object  \n",
      " 19  Expulsion Count Defiance-Only                            2310 non-null   object  \n",
      " 20  Expulsion Count Other Reasons                            2310 non-null   object  \n",
      " 21  geometry                                                 0 non-null      geometry\n",
      " 22  CDSCode                                                  2310 non-null   object  \n",
      "dtypes: geometry(1), object(22)\n",
      "memory usage: 415.2+ KB\n"
     ]
    },
    {
     "data": {
      "text/html": [
       "<div>\n",
       "<style scoped>\n",
       "    .dataframe tbody tr th:only-of-type {\n",
       "        vertical-align: middle;\n",
       "    }\n",
       "\n",
       "    .dataframe tbody tr th {\n",
       "        vertical-align: top;\n",
       "    }\n",
       "\n",
       "    .dataframe thead th {\n",
       "        text-align: right;\n",
       "    }\n",
       "</style>\n",
       "<table border=\"1\" class=\"dataframe\">\n",
       "  <thead>\n",
       "    <tr style=\"text-align: right;\">\n",
       "      <th></th>\n",
       "      <th>AcademicYear</th>\n",
       "      <th>AggregateLevel</th>\n",
       "      <th>CountyCode</th>\n",
       "      <th>DistrictCode</th>\n",
       "      <th>SchoolCode</th>\n",
       "      <th>CountyName</th>\n",
       "      <th>DistrictName</th>\n",
       "      <th>SchoolName</th>\n",
       "      <th>CharterYN</th>\n",
       "      <th>ReportingCategory</th>\n",
       "      <th>...</th>\n",
       "      <th>Unduplicated Count of Students Expelled (Defiance-Only)</th>\n",
       "      <th>Expulsion Rate (Total)</th>\n",
       "      <th>Expulsion Count Violent Incident (Injury)</th>\n",
       "      <th>Expulsion Count Violent Incident (No Injury)</th>\n",
       "      <th>Expulsion Count Weapons Possession</th>\n",
       "      <th>Expulsion Count Illicit Drug-Related</th>\n",
       "      <th>Expulsion Count Defiance-Only</th>\n",
       "      <th>Expulsion Count Other Reasons</th>\n",
       "      <th>geometry</th>\n",
       "      <th>CDSCode</th>\n",
       "    </tr>\n",
       "  </thead>\n",
       "  <tbody>\n",
       "    <tr>\n",
       "      <th>0</th>\n",
       "      <td>2019-20</td>\n",
       "      <td>S</td>\n",
       "      <td>19</td>\n",
       "      <td>64212</td>\n",
       "      <td>1995596</td>\n",
       "      <td>Los Angeles</td>\n",
       "      <td>ABC Unified</td>\n",
       "      <td>ABC Secondary (Alternative)</td>\n",
       "      <td>No</td>\n",
       "      <td>TA</td>\n",
       "      <td>...</td>\n",
       "      <td>0</td>\n",
       "      <td>0</td>\n",
       "      <td>0</td>\n",
       "      <td>0</td>\n",
       "      <td>0</td>\n",
       "      <td>0</td>\n",
       "      <td>0</td>\n",
       "      <td>0</td>\n",
       "      <td>None</td>\n",
       "      <td>19642121995596</td>\n",
       "    </tr>\n",
       "    <tr>\n",
       "      <th>1</th>\n",
       "      <td>2019-20</td>\n",
       "      <td>S</td>\n",
       "      <td>19</td>\n",
       "      <td>64212</td>\n",
       "      <td>6010862</td>\n",
       "      <td>Los Angeles</td>\n",
       "      <td>ABC Unified</td>\n",
       "      <td>Aloha Elementary</td>\n",
       "      <td>No</td>\n",
       "      <td>TA</td>\n",
       "      <td>...</td>\n",
       "      <td>0</td>\n",
       "      <td>0</td>\n",
       "      <td>0</td>\n",
       "      <td>0</td>\n",
       "      <td>0</td>\n",
       "      <td>0</td>\n",
       "      <td>0</td>\n",
       "      <td>0</td>\n",
       "      <td>None</td>\n",
       "      <td>19642126010862</td>\n",
       "    </tr>\n",
       "    <tr>\n",
       "      <th>2</th>\n",
       "      <td>2019-20</td>\n",
       "      <td>S</td>\n",
       "      <td>19</td>\n",
       "      <td>64212</td>\n",
       "      <td>1930361</td>\n",
       "      <td>Los Angeles</td>\n",
       "      <td>ABC Unified</td>\n",
       "      <td>Artesia High</td>\n",
       "      <td>No</td>\n",
       "      <td>TA</td>\n",
       "      <td>...</td>\n",
       "      <td>0</td>\n",
       "      <td>0</td>\n",
       "      <td>0</td>\n",
       "      <td>0</td>\n",
       "      <td>0</td>\n",
       "      <td>0</td>\n",
       "      <td>0</td>\n",
       "      <td>0</td>\n",
       "      <td>None</td>\n",
       "      <td>19642121930361</td>\n",
       "    </tr>\n",
       "    <tr>\n",
       "      <th>3</th>\n",
       "      <td>2019-20</td>\n",
       "      <td>S</td>\n",
       "      <td>19</td>\n",
       "      <td>64212</td>\n",
       "      <td>6071369</td>\n",
       "      <td>Los Angeles</td>\n",
       "      <td>ABC Unified</td>\n",
       "      <td>Bragg Elementary</td>\n",
       "      <td>No</td>\n",
       "      <td>TA</td>\n",
       "      <td>...</td>\n",
       "      <td>0</td>\n",
       "      <td>0</td>\n",
       "      <td>0</td>\n",
       "      <td>0</td>\n",
       "      <td>0</td>\n",
       "      <td>0</td>\n",
       "      <td>0</td>\n",
       "      <td>0</td>\n",
       "      <td>None</td>\n",
       "      <td>19642126071369</td>\n",
       "    </tr>\n",
       "    <tr>\n",
       "      <th>4</th>\n",
       "      <td>2019-20</td>\n",
       "      <td>S</td>\n",
       "      <td>19</td>\n",
       "      <td>64212</td>\n",
       "      <td>6010953</td>\n",
       "      <td>Los Angeles</td>\n",
       "      <td>ABC Unified</td>\n",
       "      <td>Burbank (Luther) Elementary</td>\n",
       "      <td>No</td>\n",
       "      <td>TA</td>\n",
       "      <td>...</td>\n",
       "      <td>0</td>\n",
       "      <td>0</td>\n",
       "      <td>0</td>\n",
       "      <td>0</td>\n",
       "      <td>0</td>\n",
       "      <td>0</td>\n",
       "      <td>0</td>\n",
       "      <td>0</td>\n",
       "      <td>None</td>\n",
       "      <td>19642126010953</td>\n",
       "    </tr>\n",
       "  </tbody>\n",
       "</table>\n",
       "<p>5 rows × 23 columns</p>\n",
       "</div>"
      ],
      "text/plain": [
       "  AcademicYear AggregateLevel CountyCode DistrictCode SchoolCode   CountyName  \\\n",
       "0      2019-20              S         19        64212    1995596  Los Angeles   \n",
       "1      2019-20              S         19        64212    6010862  Los Angeles   \n",
       "2      2019-20              S         19        64212    1930361  Los Angeles   \n",
       "3      2019-20              S         19        64212    6071369  Los Angeles   \n",
       "4      2019-20              S         19        64212    6010953  Los Angeles   \n",
       "\n",
       "  DistrictName                   SchoolName CharterYN ReportingCategory  ...  \\\n",
       "0  ABC Unified  ABC Secondary (Alternative)       No                 TA  ...   \n",
       "1  ABC Unified             Aloha Elementary       No                 TA  ...   \n",
       "2  ABC Unified                 Artesia High       No                 TA  ...   \n",
       "3  ABC Unified             Bragg Elementary       No                 TA  ...   \n",
       "4  ABC Unified  Burbank (Luther) Elementary       No                 TA  ...   \n",
       "\n",
       "  Unduplicated Count of Students Expelled (Defiance-Only)  \\\n",
       "0                                                  0        \n",
       "1                                                  0        \n",
       "2                                                  0        \n",
       "3                                                  0        \n",
       "4                                                  0        \n",
       "\n",
       "  Expulsion Rate (Total) Expulsion Count Violent Incident (Injury)  \\\n",
       "0                      0                                         0   \n",
       "1                      0                                         0   \n",
       "2                      0                                         0   \n",
       "3                      0                                         0   \n",
       "4                      0                                         0   \n",
       "\n",
       "  Expulsion Count Violent Incident (No Injury)  \\\n",
       "0                                            0   \n",
       "1                                            0   \n",
       "2                                            0   \n",
       "3                                            0   \n",
       "4                                            0   \n",
       "\n",
       "  Expulsion Count Weapons Possession Expulsion Count Illicit Drug-Related  \\\n",
       "0                                  0                                    0   \n",
       "1                                  0                                    0   \n",
       "2                                  0                                    0   \n",
       "3                                  0                                    0   \n",
       "4                                  0                                    0   \n",
       "\n",
       "  Expulsion Count Defiance-Only Expulsion Count Other Reasons geometry  \\\n",
       "0                             0                             0     None   \n",
       "1                             0                             0     None   \n",
       "2                             0                             0     None   \n",
       "3                             0                             0     None   \n",
       "4                             0                             0     None   \n",
       "\n",
       "          CDSCode  \n",
       "0  19642121995596  \n",
       "1  19642126010862  \n",
       "2  19642121930361  \n",
       "3  19642126071369  \n",
       "4  19642126010953  \n",
       "\n",
       "[5 rows x 23 columns]"
      ]
     },
     "execution_count": 94,
     "metadata": {},
     "output_type": "execute_result"
    }
   ],
   "source": [
    "# add a column that concatenates the County Code, District Code, and School Code to get a new 'CDSCode' that will match the other dataset.\n",
    "expgdf['CDSCode'] = expgdf['CountyCode'] + expgdf['DistrictCode'] + expgdf['SchoolCode']\n",
    "\n",
    "expgdf.info()\n",
    "expgdf.head()"
   ]
  },
  {
   "cell_type": "code",
   "execution_count": 95,
   "id": "dba7fdcd-9a4f-41d1-ab5c-3a8789b94389",
   "metadata": {},
   "outputs": [
    {
     "data": {
      "text/plain": [
       "AcademicYear                                                 object\n",
       "AggregateLevel                                               object\n",
       "CountyCode                                                   object\n",
       "DistrictCode                                                 object\n",
       "SchoolCode                                                   object\n",
       "CountyName                                                   object\n",
       "DistrictName                                                 object\n",
       "SchoolName                                                   object\n",
       "CharterYN                                                    object\n",
       "ReportingCategory                                            object\n",
       "CumulativeEnrollment                                         object\n",
       "Total Expulsions                                              int64\n",
       "Unduplicated Count of Students Expelled (Total)               int64\n",
       "Unduplicated Count of Students Expelled (Defiance-Only)       int64\n",
       "Expulsion Rate (Total)                                      float64\n",
       "Expulsion Count Violent Incident (Injury)                     int64\n",
       "Expulsion Count Violent Incident (No Injury)                  int64\n",
       "Expulsion Count Weapons Possession                            int64\n",
       "Expulsion Count Illicit Drug-Related                          int64\n",
       "Expulsion Count Defiance-Only                                 int64\n",
       "Expulsion Count Other Reasons                                 int64\n",
       "geometry                                                   geometry\n",
       "CDSCode                                                       int64\n",
       "dtype: object"
      ]
     },
     "execution_count": 95,
     "metadata": {},
     "output_type": "execute_result"
    }
   ],
   "source": [
    "# expulsion counts and CDSCode should be expressed as int\n",
    "int_indices = [11,12,13,15,16,17,18,19,20,22]\n",
    "for x in int_indices:\n",
    "    expgdf.iloc[:,x] = expgdf.iloc[:,x].astype(int)\n",
    "    \n",
    "# expulsion rate should be expressed as a float\n",
    "expgdf.iloc[:,14] = expgdf.iloc[:,14].astype(float)\n",
    "\n",
    "expgdf.dtypes"
   ]
  },
  {
   "cell_type": "markdown",
   "id": "04fe7311-4fac-468b-a7ee-ac5be7bb9b42",
   "metadata": {},
   "source": [
    "### Filter the Data\n",
    "Now that our data is appropriately typed, we can filter them based on value."
   ]
  },
  {
   "cell_type": "code",
   "execution_count": 96,
   "id": "3b0b2353-d1e1-443c-9669-c9b949873b01",
   "metadata": {},
   "outputs": [
    {
     "name": "stdout",
     "output_type": "stream",
     "text": [
      "<class 'geopandas.geodataframe.GeoDataFrame'>\n",
      "RangeIndex: 154 entries, 0 to 153\n",
      "Data columns (total 24 columns):\n",
      " #   Column                                                   Non-Null Count  Dtype   \n",
      "---  ------                                                   --------------  -----   \n",
      " 0   index                                                    154 non-null    int64   \n",
      " 1   AcademicYear                                             154 non-null    object  \n",
      " 2   AggregateLevel                                           154 non-null    object  \n",
      " 3   CountyCode                                               154 non-null    object  \n",
      " 4   DistrictCode                                             154 non-null    object  \n",
      " 5   SchoolCode                                               154 non-null    object  \n",
      " 6   CountyName                                               154 non-null    object  \n",
      " 7   DistrictName                                             154 non-null    object  \n",
      " 8   SchoolName                                               154 non-null    object  \n",
      " 9   CharterYN                                                154 non-null    object  \n",
      " 10  ReportingCategory                                        154 non-null    object  \n",
      " 11  CumulativeEnrollment                                     154 non-null    object  \n",
      " 12  Total Expulsions                                         154 non-null    int64   \n",
      " 13  Unduplicated Count of Students Expelled (Total)          154 non-null    int64   \n",
      " 14  Unduplicated Count of Students Expelled (Defiance-Only)  154 non-null    int64   \n",
      " 15  Expulsion Rate (Total)                                   154 non-null    float64 \n",
      " 16  Expulsion Count Violent Incident (Injury)                154 non-null    int64   \n",
      " 17  Expulsion Count Violent Incident (No Injury)             154 non-null    int64   \n",
      " 18  Expulsion Count Weapons Possession                       154 non-null    int64   \n",
      " 19  Expulsion Count Illicit Drug-Related                     154 non-null    int64   \n",
      " 20  Expulsion Count Defiance-Only                            154 non-null    int64   \n",
      " 21  Expulsion Count Other Reasons                            154 non-null    int64   \n",
      " 22  geometry                                                 0 non-null      geometry\n",
      " 23  CDSCode                                                  154 non-null    int64   \n",
      "dtypes: float64(1), geometry(1), int64(11), object(11)\n",
      "memory usage: 29.0+ KB\n"
     ]
    }
   ],
   "source": [
    "# Only include data for schools with expulsions greater than 0.\n",
    "expgdf_filtered = expgdf[expgdf['Total Expulsions']>0]\n",
    "expgdf_filtered.reset_index(inplace = True)\n",
    "expgdf_filtered.info()"
   ]
  },
  {
   "cell_type": "markdown",
   "id": "1707d862-c92e-4086-adee-9d7110525c69",
   "metadata": {},
   "source": [
    "Notice this filtering reduced the overall number of entries from 2310 to 154!"
   ]
  },
  {
   "cell_type": "code",
   "execution_count": 97,
   "id": "caf8cb39-42c1-4f4d-b4a2-f41ec67e6f35",
   "metadata": {},
   "outputs": [
    {
     "data": {
      "text/html": [
       "<div>\n",
       "<style scoped>\n",
       "    .dataframe tbody tr th:only-of-type {\n",
       "        vertical-align: middle;\n",
       "    }\n",
       "\n",
       "    .dataframe tbody tr th {\n",
       "        vertical-align: top;\n",
       "    }\n",
       "\n",
       "    .dataframe thead th {\n",
       "        text-align: right;\n",
       "    }\n",
       "</style>\n",
       "<table border=\"1\" class=\"dataframe\">\n",
       "  <thead>\n",
       "    <tr style=\"text-align: right;\">\n",
       "      <th></th>\n",
       "      <th>DistrictName</th>\n",
       "      <th>SchoolName</th>\n",
       "      <th>CharterYN</th>\n",
       "      <th>ReportingCategory</th>\n",
       "      <th>CumulativeEnrollment</th>\n",
       "      <th>Total Expulsions</th>\n",
       "      <th>Unduplicated Count of Students Expelled (Total)</th>\n",
       "      <th>Unduplicated Count of Students Expelled (Defiance-Only)</th>\n",
       "      <th>Expulsion Rate (Total)</th>\n",
       "      <th>Expulsion Count Violent Incident (Injury)</th>\n",
       "      <th>Expulsion Count Violent Incident (No Injury)</th>\n",
       "      <th>Expulsion Count Weapons Possession</th>\n",
       "      <th>Expulsion Count Illicit Drug-Related</th>\n",
       "      <th>Expulsion Count Defiance-Only</th>\n",
       "      <th>Expulsion Count Other Reasons</th>\n",
       "      <th>geometry</th>\n",
       "      <th>CDSCode</th>\n",
       "    </tr>\n",
       "  </thead>\n",
       "  <tbody>\n",
       "    <tr>\n",
       "      <th>0</th>\n",
       "      <td>Alhambra Unified</td>\n",
       "      <td>Alhambra High</td>\n",
       "      <td>No</td>\n",
       "      <td>TA</td>\n",
       "      <td>2426</td>\n",
       "      <td>4</td>\n",
       "      <td>4</td>\n",
       "      <td>0</td>\n",
       "      <td>0.2</td>\n",
       "      <td>2</td>\n",
       "      <td>0</td>\n",
       "      <td>1</td>\n",
       "      <td>1</td>\n",
       "      <td>0</td>\n",
       "      <td>0</td>\n",
       "      <td>None</td>\n",
       "      <td>19757131930163</td>\n",
       "    </tr>\n",
       "    <tr>\n",
       "      <th>1</th>\n",
       "      <td>Alhambra Unified</td>\n",
       "      <td>Mark Keppel High</td>\n",
       "      <td>No</td>\n",
       "      <td>TA</td>\n",
       "      <td>2312</td>\n",
       "      <td>1</td>\n",
       "      <td>1</td>\n",
       "      <td>0</td>\n",
       "      <td>0.0</td>\n",
       "      <td>0</td>\n",
       "      <td>0</td>\n",
       "      <td>0</td>\n",
       "      <td>0</td>\n",
       "      <td>0</td>\n",
       "      <td>1</td>\n",
       "      <td>None</td>\n",
       "      <td>19757131934553</td>\n",
       "    </tr>\n",
       "    <tr>\n",
       "      <th>2</th>\n",
       "      <td>Alhambra Unified</td>\n",
       "      <td>San Gabriel High</td>\n",
       "      <td>No</td>\n",
       "      <td>TA</td>\n",
       "      <td>2094</td>\n",
       "      <td>7</td>\n",
       "      <td>7</td>\n",
       "      <td>0</td>\n",
       "      <td>0.3</td>\n",
       "      <td>0</td>\n",
       "      <td>7</td>\n",
       "      <td>0</td>\n",
       "      <td>0</td>\n",
       "      <td>0</td>\n",
       "      <td>0</td>\n",
       "      <td>None</td>\n",
       "      <td>19757131937697</td>\n",
       "    </tr>\n",
       "    <tr>\n",
       "      <th>3</th>\n",
       "      <td>Antelope Valley Union High</td>\n",
       "      <td>Antelope Valley High</td>\n",
       "      <td>No</td>\n",
       "      <td>TA</td>\n",
       "      <td>1809</td>\n",
       "      <td>4</td>\n",
       "      <td>4</td>\n",
       "      <td>0</td>\n",
       "      <td>0.2</td>\n",
       "      <td>1</td>\n",
       "      <td>1</td>\n",
       "      <td>2</td>\n",
       "      <td>0</td>\n",
       "      <td>0</td>\n",
       "      <td>0</td>\n",
       "      <td>None</td>\n",
       "      <td>19642461930213</td>\n",
       "    </tr>\n",
       "    <tr>\n",
       "      <th>4</th>\n",
       "      <td>Antelope Valley Union High</td>\n",
       "      <td>Eastside High</td>\n",
       "      <td>No</td>\n",
       "      <td>TA</td>\n",
       "      <td>2798</td>\n",
       "      <td>2</td>\n",
       "      <td>2</td>\n",
       "      <td>0</td>\n",
       "      <td>0.1</td>\n",
       "      <td>0</td>\n",
       "      <td>1</td>\n",
       "      <td>1</td>\n",
       "      <td>0</td>\n",
       "      <td>0</td>\n",
       "      <td>0</td>\n",
       "      <td>None</td>\n",
       "      <td>1964246108407</td>\n",
       "    </tr>\n",
       "  </tbody>\n",
       "</table>\n",
       "</div>"
      ],
      "text/plain": [
       "                 DistrictName            SchoolName CharterYN  \\\n",
       "0            Alhambra Unified         Alhambra High       No    \n",
       "1            Alhambra Unified      Mark Keppel High       No    \n",
       "2            Alhambra Unified      San Gabriel High       No    \n",
       "3  Antelope Valley Union High  Antelope Valley High       No    \n",
       "4  Antelope Valley Union High         Eastside High       No    \n",
       "\n",
       "  ReportingCategory CumulativeEnrollment  Total Expulsions  \\\n",
       "0                TA                 2426                 4   \n",
       "1                TA                 2312                 1   \n",
       "2                TA                 2094                 7   \n",
       "3                TA                 1809                 4   \n",
       "4                TA                 2798                 2   \n",
       "\n",
       "   Unduplicated Count of Students Expelled (Total)  \\\n",
       "0                                                4   \n",
       "1                                                1   \n",
       "2                                                7   \n",
       "3                                                4   \n",
       "4                                                2   \n",
       "\n",
       "   Unduplicated Count of Students Expelled (Defiance-Only)  \\\n",
       "0                                                  0         \n",
       "1                                                  0         \n",
       "2                                                  0         \n",
       "3                                                  0         \n",
       "4                                                  0         \n",
       "\n",
       "   Expulsion Rate (Total)  Expulsion Count Violent Incident (Injury)  \\\n",
       "0                     0.2                                          2   \n",
       "1                     0.0                                          0   \n",
       "2                     0.3                                          0   \n",
       "3                     0.2                                          1   \n",
       "4                     0.1                                          0   \n",
       "\n",
       "   Expulsion Count Violent Incident (No Injury)  \\\n",
       "0                                             0   \n",
       "1                                             0   \n",
       "2                                             7   \n",
       "3                                             1   \n",
       "4                                             1   \n",
       "\n",
       "   Expulsion Count Weapons Possession  Expulsion Count Illicit Drug-Related  \\\n",
       "0                                   1                                     1   \n",
       "1                                   0                                     0   \n",
       "2                                   0                                     0   \n",
       "3                                   2                                     0   \n",
       "4                                   1                                     0   \n",
       "\n",
       "   Expulsion Count Defiance-Only  Expulsion Count Other Reasons geometry  \\\n",
       "0                              0                              0     None   \n",
       "1                              0                              1     None   \n",
       "2                              0                              0     None   \n",
       "3                              0                              0     None   \n",
       "4                              0                              0     None   \n",
       "\n",
       "          CDSCode  \n",
       "0  19757131930163  \n",
       "1  19757131934553  \n",
       "2  19757131937697  \n",
       "3  19642461930213  \n",
       "4   1964246108407  "
      ]
     },
     "execution_count": 97,
     "metadata": {},
     "output_type": "execute_result"
    }
   ],
   "source": [
    "# filter the columns\n",
    "new_columns = ['DistrictName', 'SchoolName', 'CharterYN',\n",
    "       'ReportingCategory', 'CumulativeEnrollment', 'Total Expulsions',\n",
    "       'Unduplicated Count of Students Expelled (Total)',\n",
    "       'Unduplicated Count of Students Expelled (Defiance-Only)',\n",
    "       'Expulsion Rate (Total)', 'Expulsion Count Violent Incident (Injury)',\n",
    "       'Expulsion Count Violent Incident (No Injury)',\n",
    "       'Expulsion Count Weapons Possession',\n",
    "       'Expulsion Count Illicit Drug-Related', 'Expulsion Count Defiance-Only',\n",
    "       'Expulsion Count Other Reasons', 'geometry','CDSCode']\n",
    "\n",
    "expgdf_filtered = expgdf_filtered[new_columns]\n",
    "expgdf_filtered.head()"
   ]
  },
  {
   "cell_type": "markdown",
   "id": "be6d3f55-3705-4501-a082-f47bcf26a9c6",
   "metadata": {},
   "source": [
    "## School Directory Data\n",
    "\n",
    "This [dataset](https://www.cde.ca.gov/ds/si/ds/pubschls.asp ), also provided by the CA Department of Education, contains information about each school in the dataset - importantly, it contains the latitude and longitude! The documentation can be found [here](https://www.cde.ca.gov/ds/si/ds/fspubschls.asp).\n",
    "\n",
    "### Looking at the Data"
   ]
  },
  {
   "cell_type": "code",
   "execution_count": 98,
   "id": "9e49e9ac-5145-449e-a97b-a4476e3e9698",
   "metadata": {},
   "outputs": [
    {
     "name": "stdout",
     "output_type": "stream",
     "text": [
      "<class 'geopandas.geodataframe.GeoDataFrame'>\n",
      "RangeIndex: 3722 entries, 0 to 3721\n",
      "Data columns (total 48 columns):\n",
      " #   Column                Non-Null Count  Dtype   \n",
      "---  ------                --------------  -----   \n",
      " 0   CDSCode               3722 non-null   object  \n",
      " 1   NCESDist              3722 non-null   object  \n",
      " 2   NCESSchool            3722 non-null   object  \n",
      " 3   StatusType            3722 non-null   object  \n",
      " 4   County                3722 non-null   object  \n",
      " 5   District              3722 non-null   object  \n",
      " 6   School                3722 non-null   object  \n",
      " 7   Street                3722 non-null   object  \n",
      " 8   StreetAbr             3722 non-null   object  \n",
      " 9   City                  3722 non-null   object  \n",
      " 10  Zip                   3722 non-null   object  \n",
      " 11  State                 3722 non-null   object  \n",
      " 12  MailStreet            3722 non-null   object  \n",
      " 13  MailStrAbr            3722 non-null   object  \n",
      " 14  MailCity              3722 non-null   object  \n",
      " 15  MailZip               3722 non-null   object  \n",
      " 16  MailState             3722 non-null   object  \n",
      " 17  Phone                 3722 non-null   object  \n",
      " 18  Ext                   3722 non-null   object  \n",
      " 19  FaxNumber             3722 non-null   object  \n",
      " 20  Email                 3722 non-null   object  \n",
      " 21  WebSite               3722 non-null   object  \n",
      " 22  OpenDate              3722 non-null   object  \n",
      " 23  ClosedDate            3722 non-null   object  \n",
      " 24  Charter               3722 non-null   object  \n",
      " 25  CharterNum            3722 non-null   object  \n",
      " 26  FundingType           3722 non-null   object  \n",
      " 27  DOC                   3722 non-null   object  \n",
      " 28  DOCType               3722 non-null   object  \n",
      " 29  SOC                   3722 non-null   object  \n",
      " 30  SOCType               3722 non-null   object  \n",
      " 31  EdOpsCode             3722 non-null   object  \n",
      " 32  EdOpsName             3722 non-null   object  \n",
      " 33  EILCode               3722 non-null   object  \n",
      " 34  EILName               3722 non-null   object  \n",
      " 35  GSoffered             3722 non-null   object  \n",
      " 36  GSserved              3722 non-null   object  \n",
      " 37  Virtual               3722 non-null   object  \n",
      " 38  Magnet                3722 non-null   object  \n",
      " 39  YearRoundYN           3722 non-null   object  \n",
      " 40  FederalDFCDistrictID  3722 non-null   object  \n",
      " 41  Latitude              3722 non-null   object  \n",
      " 42  Longitude             3722 non-null   object  \n",
      " 43  AdmFName              3722 non-null   object  \n",
      " 44  AdmLName              3722 non-null   object  \n",
      " 45  AdmEmail              3722 non-null   object  \n",
      " 46  LastUpDate            3722 non-null   object  \n",
      " 47  geometry              0 non-null      geometry\n",
      "dtypes: geometry(1), object(47)\n",
      "memory usage: 1.4+ MB\n"
     ]
    },
    {
     "data": {
      "text/html": [
       "<div>\n",
       "<style scoped>\n",
       "    .dataframe tbody tr th:only-of-type {\n",
       "        vertical-align: middle;\n",
       "    }\n",
       "\n",
       "    .dataframe tbody tr th {\n",
       "        vertical-align: top;\n",
       "    }\n",
       "\n",
       "    .dataframe thead th {\n",
       "        text-align: right;\n",
       "    }\n",
       "</style>\n",
       "<table border=\"1\" class=\"dataframe\">\n",
       "  <thead>\n",
       "    <tr style=\"text-align: right;\">\n",
       "      <th></th>\n",
       "      <th>CDSCode</th>\n",
       "      <th>NCESDist</th>\n",
       "      <th>NCESSchool</th>\n",
       "      <th>StatusType</th>\n",
       "      <th>County</th>\n",
       "      <th>District</th>\n",
       "      <th>School</th>\n",
       "      <th>Street</th>\n",
       "      <th>StreetAbr</th>\n",
       "      <th>City</th>\n",
       "      <th>...</th>\n",
       "      <th>Magnet</th>\n",
       "      <th>YearRoundYN</th>\n",
       "      <th>FederalDFCDistrictID</th>\n",
       "      <th>Latitude</th>\n",
       "      <th>Longitude</th>\n",
       "      <th>AdmFName</th>\n",
       "      <th>AdmLName</th>\n",
       "      <th>AdmEmail</th>\n",
       "      <th>LastUpDate</th>\n",
       "      <th>geometry</th>\n",
       "    </tr>\n",
       "  </thead>\n",
       "  <tbody>\n",
       "    <tr>\n",
       "      <th>0</th>\n",
       "      <td>19101990000000</td>\n",
       "      <td>0691078</td>\n",
       "      <td>No Data</td>\n",
       "      <td>Active</td>\n",
       "      <td>Los Angeles</td>\n",
       "      <td>Los Angeles County Office of Education</td>\n",
       "      <td>No Data</td>\n",
       "      <td>9300 Imperial Highway</td>\n",
       "      <td>9300 Imperial Hwy.</td>\n",
       "      <td>Downey</td>\n",
       "      <td>...</td>\n",
       "      <td>No Data</td>\n",
       "      <td>No Data</td>\n",
       "      <td>No Data</td>\n",
       "      <td>33.916978</td>\n",
       "      <td>-118.12860</td>\n",
       "      <td>Debra</td>\n",
       "      <td>Duardo</td>\n",
       "      <td>duardo_debra@lacoe.edu</td>\n",
       "      <td>4/2/2019</td>\n",
       "      <td>None</td>\n",
       "    </tr>\n",
       "    <tr>\n",
       "      <th>1</th>\n",
       "      <td>19101990100776</td>\n",
       "      <td>0691078</td>\n",
       "      <td>11339</td>\n",
       "      <td>Active</td>\n",
       "      <td>Los Angeles</td>\n",
       "      <td>Los Angeles County Office of Education</td>\n",
       "      <td>North Valley Military Institute College Prepar...</td>\n",
       "      <td>12105 Allegheny Street</td>\n",
       "      <td>12105 Allegheny St.</td>\n",
       "      <td>Sun Valley</td>\n",
       "      <td>...</td>\n",
       "      <td>N</td>\n",
       "      <td>N</td>\n",
       "      <td>0601564</td>\n",
       "      <td>34.234622</td>\n",
       "      <td>-118.39656</td>\n",
       "      <td>Mark</td>\n",
       "      <td>Ryan</td>\n",
       "      <td>mryan@novamil.org</td>\n",
       "      <td>8/13/2020</td>\n",
       "      <td>None</td>\n",
       "    </tr>\n",
       "    <tr>\n",
       "      <th>2</th>\n",
       "      <td>19101990102145</td>\n",
       "      <td>0691078</td>\n",
       "      <td>11343</td>\n",
       "      <td>Closed</td>\n",
       "      <td>Los Angeles</td>\n",
       "      <td>Los Angeles County Office of Education</td>\n",
       "      <td>Progressive Education Entrepreneurial Charter</td>\n",
       "      <td>2600 South LaBrea Avenue</td>\n",
       "      <td>2600 South LaBrea Ave.</td>\n",
       "      <td>Los Angeles</td>\n",
       "      <td>...</td>\n",
       "      <td>No Data</td>\n",
       "      <td>Y</td>\n",
       "      <td>No Data</td>\n",
       "      <td>No Data</td>\n",
       "      <td>No Data</td>\n",
       "      <td>No Data</td>\n",
       "      <td>No Data</td>\n",
       "      <td>No Data</td>\n",
       "      <td>1/30/2009</td>\n",
       "      <td>None</td>\n",
       "    </tr>\n",
       "    <tr>\n",
       "      <th>3</th>\n",
       "      <td>19101990106880</td>\n",
       "      <td>0691078</td>\n",
       "      <td>10853</td>\n",
       "      <td>Active</td>\n",
       "      <td>Los Angeles</td>\n",
       "      <td>Los Angeles County Office of Education</td>\n",
       "      <td>Jardin de la Infancia</td>\n",
       "      <td>1400 S Broadway Los Angeles, CA 90015</td>\n",
       "      <td>1400 S Broadway Los Angeles, CA 90015</td>\n",
       "      <td>Los Angeles</td>\n",
       "      <td>...</td>\n",
       "      <td>N</td>\n",
       "      <td>N</td>\n",
       "      <td>0602019</td>\n",
       "      <td>34.035321</td>\n",
       "      <td>-118.26241</td>\n",
       "      <td>Zuzy</td>\n",
       "      <td>Chavez</td>\n",
       "      <td>jardindelainfancia@me.com</td>\n",
       "      <td>8/31/2021</td>\n",
       "      <td>None</td>\n",
       "    </tr>\n",
       "    <tr>\n",
       "      <th>4</th>\n",
       "      <td>19101990109660</td>\n",
       "      <td>0691078</td>\n",
       "      <td>10891</td>\n",
       "      <td>Active</td>\n",
       "      <td>Los Angeles</td>\n",
       "      <td>Los Angeles County Office of Education</td>\n",
       "      <td>Aspire Antonio Maria Lugo Academy</td>\n",
       "      <td>6100 Carmelita Avenue</td>\n",
       "      <td>6100 Carmelita Ave.</td>\n",
       "      <td>Huntington Park</td>\n",
       "      <td>...</td>\n",
       "      <td>N</td>\n",
       "      <td>N</td>\n",
       "      <td>0601821</td>\n",
       "      <td>33.984203</td>\n",
       "      <td>-118.19659</td>\n",
       "      <td>Dawn</td>\n",
       "      <td>Barnes</td>\n",
       "      <td>data-contact@aspirepublicschools.org</td>\n",
       "      <td>12/30/2020</td>\n",
       "      <td>None</td>\n",
       "    </tr>\n",
       "  </tbody>\n",
       "</table>\n",
       "<p>5 rows × 48 columns</p>\n",
       "</div>"
      ],
      "text/plain": [
       "          CDSCode NCESDist NCESSchool StatusType       County  \\\n",
       "0  19101990000000  0691078    No Data     Active  Los Angeles   \n",
       "1  19101990100776  0691078      11339     Active  Los Angeles   \n",
       "2  19101990102145  0691078      11343     Closed  Los Angeles   \n",
       "3  19101990106880  0691078      10853     Active  Los Angeles   \n",
       "4  19101990109660  0691078      10891     Active  Los Angeles   \n",
       "\n",
       "                                 District  \\\n",
       "0  Los Angeles County Office of Education   \n",
       "1  Los Angeles County Office of Education   \n",
       "2  Los Angeles County Office of Education   \n",
       "3  Los Angeles County Office of Education   \n",
       "4  Los Angeles County Office of Education   \n",
       "\n",
       "                                              School  \\\n",
       "0                                            No Data   \n",
       "1  North Valley Military Institute College Prepar...   \n",
       "2      Progressive Education Entrepreneurial Charter   \n",
       "3                              Jardin de la Infancia   \n",
       "4                  Aspire Antonio Maria Lugo Academy   \n",
       "\n",
       "                                  Street  \\\n",
       "0                  9300 Imperial Highway   \n",
       "1                 12105 Allegheny Street   \n",
       "2               2600 South LaBrea Avenue   \n",
       "3  1400 S Broadway Los Angeles, CA 90015   \n",
       "4                  6100 Carmelita Avenue   \n",
       "\n",
       "                               StreetAbr             City  ...   Magnet  \\\n",
       "0                     9300 Imperial Hwy.           Downey  ...  No Data   \n",
       "1                    12105 Allegheny St.       Sun Valley  ...        N   \n",
       "2                 2600 South LaBrea Ave.      Los Angeles  ...  No Data   \n",
       "3  1400 S Broadway Los Angeles, CA 90015      Los Angeles  ...        N   \n",
       "4                    6100 Carmelita Ave.  Huntington Park  ...        N   \n",
       "\n",
       "  YearRoundYN FederalDFCDistrictID   Latitude   Longitude AdmFName AdmLName  \\\n",
       "0     No Data              No Data  33.916978  -118.12860    Debra   Duardo   \n",
       "1           N              0601564  34.234622  -118.39656     Mark     Ryan   \n",
       "2           Y              No Data    No Data     No Data  No Data  No Data   \n",
       "3           N              0602019  34.035321  -118.26241     Zuzy   Chavez   \n",
       "4           N              0601821  33.984203  -118.19659     Dawn   Barnes   \n",
       "\n",
       "                               AdmEmail  LastUpDate geometry  \n",
       "0                duardo_debra@lacoe.edu    4/2/2019     None  \n",
       "1                     mryan@novamil.org   8/13/2020     None  \n",
       "2                               No Data   1/30/2009     None  \n",
       "3             jardindelainfancia@me.com   8/31/2021     None  \n",
       "4  data-contact@aspirepublicschools.org  12/30/2020     None  \n",
       "\n",
       "[5 rows x 48 columns]"
      ]
     },
     "execution_count": 98,
     "metadata": {},
     "output_type": "execute_result"
    }
   ],
   "source": [
    "# next, import the school directory data\n",
    "schoolgdf = gpd.read_file('pubschls_LA.csv')\n",
    "\n",
    "schoolgdf.info()\n",
    "schoolgdf.head()"
   ]
  },
  {
   "cell_type": "markdown",
   "id": "ea34e603-ed8d-4d38-9890-90b2dc6a904a",
   "metadata": {},
   "source": [
    "### Cleaning the Data"
   ]
  },
  {
   "cell_type": "code",
   "execution_count": 99,
   "id": "0cc3d617-36fd-4873-843c-cc1992ebbe59",
   "metadata": {},
   "outputs": [],
   "source": [
    "# CDS Code in row 0 should be expressed as an int so we can eventually compare and join with the other dataset\n",
    "schoolgdf.iloc[:,0] = schoolgdf.iloc[:,0].astype(int)"
   ]
  },
  {
   "cell_type": "code",
   "execution_count": 100,
   "id": "8514373c-736c-4b84-83fa-8f2242057043",
   "metadata": {},
   "outputs": [
    {
     "name": "stdout",
     "output_type": "stream",
     "text": [
      "<class 'geopandas.geodataframe.GeoDataFrame'>\n",
      "RangeIndex: 3722 entries, 0 to 3721\n",
      "Data columns (total 48 columns):\n",
      " #   Column                Non-Null Count  Dtype   \n",
      "---  ------                --------------  -----   \n",
      " 0   CDSCode               3722 non-null   int64   \n",
      " 1   NCESDist              3349 non-null   object  \n",
      " 2   NCESSchool            2714 non-null   object  \n",
      " 3   StatusType            3722 non-null   object  \n",
      " 4   County                3722 non-null   object  \n",
      " 5   District              3722 non-null   object  \n",
      " 6   School                3594 non-null   object  \n",
      " 7   Street                3670 non-null   object  \n",
      " 8   StreetAbr             3670 non-null   object  \n",
      " 9   City                  3670 non-null   object  \n",
      " 10  Zip                   3670 non-null   object  \n",
      " 11  State                 3670 non-null   object  \n",
      " 12  MailStreet            3670 non-null   object  \n",
      " 13  MailStrAbr            3670 non-null   object  \n",
      " 14  MailCity              3670 non-null   object  \n",
      " 15  MailZip               3670 non-null   object  \n",
      " 16  MailState             3670 non-null   object  \n",
      " 17  Phone                 2382 non-null   object  \n",
      " 18  Ext                   114 non-null    object  \n",
      " 19  FaxNumber             2283 non-null   object  \n",
      " 20  Email                 500 non-null    object  \n",
      " 21  WebSite               1898 non-null   object  \n",
      " 22  OpenDate              3594 non-null   object  \n",
      " 23  ClosedDate            1306 non-null   object  \n",
      " 24  Charter               3594 non-null   object  \n",
      " 25  CharterNum            536 non-null    object  \n",
      " 26  FundingType           513 non-null    object  \n",
      " 27  DOC                   3722 non-null   object  \n",
      " 28  DOCType               3722 non-null   object  \n",
      " 29  SOC                   3594 non-null   object  \n",
      " 30  SOCType               3594 non-null   object  \n",
      " 31  EdOpsCode             2643 non-null   object  \n",
      " 32  EdOpsName             2643 non-null   object  \n",
      " 33  EILCode               3594 non-null   object  \n",
      " 34  EILName               3594 non-null   object  \n",
      " 35  GSoffered             2873 non-null   object  \n",
      " 36  GSserved              2556 non-null   object  \n",
      " 37  Virtual               2474 non-null   object  \n",
      " 38  Magnet                2406 non-null   object  \n",
      " 39  YearRoundYN           3594 non-null   object  \n",
      " 40  FederalDFCDistrictID  339 non-null    object  \n",
      " 41  Latitude              2713 non-null   float64 \n",
      " 42  Longitude             2713 non-null   float64 \n",
      " 43  AdmFName              2379 non-null   object  \n",
      " 44  AdmLName              2379 non-null   object  \n",
      " 45  AdmEmail              2379 non-null   object  \n",
      " 46  LastUpDate            3722 non-null   object  \n",
      " 47  geometry              0 non-null      geometry\n",
      "dtypes: float64(2), geometry(1), int64(1), object(44)\n",
      "memory usage: 1.4+ MB\n"
     ]
    },
    {
     "data": {
      "text/html": [
       "<div>\n",
       "<style scoped>\n",
       "    .dataframe tbody tr th:only-of-type {\n",
       "        vertical-align: middle;\n",
       "    }\n",
       "\n",
       "    .dataframe tbody tr th {\n",
       "        vertical-align: top;\n",
       "    }\n",
       "\n",
       "    .dataframe thead th {\n",
       "        text-align: right;\n",
       "    }\n",
       "</style>\n",
       "<table border=\"1\" class=\"dataframe\">\n",
       "  <thead>\n",
       "    <tr style=\"text-align: right;\">\n",
       "      <th></th>\n",
       "      <th>CDSCode</th>\n",
       "      <th>NCESDist</th>\n",
       "      <th>NCESSchool</th>\n",
       "      <th>StatusType</th>\n",
       "      <th>County</th>\n",
       "      <th>District</th>\n",
       "      <th>School</th>\n",
       "      <th>Street</th>\n",
       "      <th>StreetAbr</th>\n",
       "      <th>City</th>\n",
       "      <th>...</th>\n",
       "      <th>Magnet</th>\n",
       "      <th>YearRoundYN</th>\n",
       "      <th>FederalDFCDistrictID</th>\n",
       "      <th>Latitude</th>\n",
       "      <th>Longitude</th>\n",
       "      <th>AdmFName</th>\n",
       "      <th>AdmLName</th>\n",
       "      <th>AdmEmail</th>\n",
       "      <th>LastUpDate</th>\n",
       "      <th>geometry</th>\n",
       "    </tr>\n",
       "  </thead>\n",
       "  <tbody>\n",
       "    <tr>\n",
       "      <th>0</th>\n",
       "      <td>19101990000000</td>\n",
       "      <td>0691078</td>\n",
       "      <td>NaN</td>\n",
       "      <td>Active</td>\n",
       "      <td>Los Angeles</td>\n",
       "      <td>Los Angeles County Office of Education</td>\n",
       "      <td>NaN</td>\n",
       "      <td>9300 Imperial Highway</td>\n",
       "      <td>9300 Imperial Hwy.</td>\n",
       "      <td>Downey</td>\n",
       "      <td>...</td>\n",
       "      <td>NaN</td>\n",
       "      <td>NaN</td>\n",
       "      <td>NaN</td>\n",
       "      <td>33.916978</td>\n",
       "      <td>-118.12860</td>\n",
       "      <td>Debra</td>\n",
       "      <td>Duardo</td>\n",
       "      <td>duardo_debra@lacoe.edu</td>\n",
       "      <td>4/2/2019</td>\n",
       "      <td>None</td>\n",
       "    </tr>\n",
       "    <tr>\n",
       "      <th>1</th>\n",
       "      <td>19101990100776</td>\n",
       "      <td>0691078</td>\n",
       "      <td>11339</td>\n",
       "      <td>Active</td>\n",
       "      <td>Los Angeles</td>\n",
       "      <td>Los Angeles County Office of Education</td>\n",
       "      <td>North Valley Military Institute College Prepar...</td>\n",
       "      <td>12105 Allegheny Street</td>\n",
       "      <td>12105 Allegheny St.</td>\n",
       "      <td>Sun Valley</td>\n",
       "      <td>...</td>\n",
       "      <td>N</td>\n",
       "      <td>N</td>\n",
       "      <td>0601564</td>\n",
       "      <td>34.234622</td>\n",
       "      <td>-118.39656</td>\n",
       "      <td>Mark</td>\n",
       "      <td>Ryan</td>\n",
       "      <td>mryan@novamil.org</td>\n",
       "      <td>8/13/2020</td>\n",
       "      <td>None</td>\n",
       "    </tr>\n",
       "    <tr>\n",
       "      <th>2</th>\n",
       "      <td>19101990102145</td>\n",
       "      <td>0691078</td>\n",
       "      <td>11343</td>\n",
       "      <td>Closed</td>\n",
       "      <td>Los Angeles</td>\n",
       "      <td>Los Angeles County Office of Education</td>\n",
       "      <td>Progressive Education Entrepreneurial Charter</td>\n",
       "      <td>2600 South LaBrea Avenue</td>\n",
       "      <td>2600 South LaBrea Ave.</td>\n",
       "      <td>Los Angeles</td>\n",
       "      <td>...</td>\n",
       "      <td>NaN</td>\n",
       "      <td>Y</td>\n",
       "      <td>NaN</td>\n",
       "      <td>NaN</td>\n",
       "      <td>NaN</td>\n",
       "      <td>NaN</td>\n",
       "      <td>NaN</td>\n",
       "      <td>NaN</td>\n",
       "      <td>1/30/2009</td>\n",
       "      <td>None</td>\n",
       "    </tr>\n",
       "    <tr>\n",
       "      <th>3</th>\n",
       "      <td>19101990106880</td>\n",
       "      <td>0691078</td>\n",
       "      <td>10853</td>\n",
       "      <td>Active</td>\n",
       "      <td>Los Angeles</td>\n",
       "      <td>Los Angeles County Office of Education</td>\n",
       "      <td>Jardin de la Infancia</td>\n",
       "      <td>1400 S Broadway Los Angeles, CA 90015</td>\n",
       "      <td>1400 S Broadway Los Angeles, CA 90015</td>\n",
       "      <td>Los Angeles</td>\n",
       "      <td>...</td>\n",
       "      <td>N</td>\n",
       "      <td>N</td>\n",
       "      <td>0602019</td>\n",
       "      <td>34.035321</td>\n",
       "      <td>-118.26241</td>\n",
       "      <td>Zuzy</td>\n",
       "      <td>Chavez</td>\n",
       "      <td>jardindelainfancia@me.com</td>\n",
       "      <td>8/31/2021</td>\n",
       "      <td>None</td>\n",
       "    </tr>\n",
       "    <tr>\n",
       "      <th>4</th>\n",
       "      <td>19101990109660</td>\n",
       "      <td>0691078</td>\n",
       "      <td>10891</td>\n",
       "      <td>Active</td>\n",
       "      <td>Los Angeles</td>\n",
       "      <td>Los Angeles County Office of Education</td>\n",
       "      <td>Aspire Antonio Maria Lugo Academy</td>\n",
       "      <td>6100 Carmelita Avenue</td>\n",
       "      <td>6100 Carmelita Ave.</td>\n",
       "      <td>Huntington Park</td>\n",
       "      <td>...</td>\n",
       "      <td>N</td>\n",
       "      <td>N</td>\n",
       "      <td>0601821</td>\n",
       "      <td>33.984203</td>\n",
       "      <td>-118.19659</td>\n",
       "      <td>Dawn</td>\n",
       "      <td>Barnes</td>\n",
       "      <td>data-contact@aspirepublicschools.org</td>\n",
       "      <td>12/30/2020</td>\n",
       "      <td>None</td>\n",
       "    </tr>\n",
       "  </tbody>\n",
       "</table>\n",
       "<p>5 rows × 48 columns</p>\n",
       "</div>"
      ],
      "text/plain": [
       "          CDSCode NCESDist NCESSchool StatusType       County  \\\n",
       "0  19101990000000  0691078        NaN     Active  Los Angeles   \n",
       "1  19101990100776  0691078      11339     Active  Los Angeles   \n",
       "2  19101990102145  0691078      11343     Closed  Los Angeles   \n",
       "3  19101990106880  0691078      10853     Active  Los Angeles   \n",
       "4  19101990109660  0691078      10891     Active  Los Angeles   \n",
       "\n",
       "                                 District  \\\n",
       "0  Los Angeles County Office of Education   \n",
       "1  Los Angeles County Office of Education   \n",
       "2  Los Angeles County Office of Education   \n",
       "3  Los Angeles County Office of Education   \n",
       "4  Los Angeles County Office of Education   \n",
       "\n",
       "                                              School  \\\n",
       "0                                                NaN   \n",
       "1  North Valley Military Institute College Prepar...   \n",
       "2      Progressive Education Entrepreneurial Charter   \n",
       "3                              Jardin de la Infancia   \n",
       "4                  Aspire Antonio Maria Lugo Academy   \n",
       "\n",
       "                                  Street  \\\n",
       "0                  9300 Imperial Highway   \n",
       "1                 12105 Allegheny Street   \n",
       "2               2600 South LaBrea Avenue   \n",
       "3  1400 S Broadway Los Angeles, CA 90015   \n",
       "4                  6100 Carmelita Avenue   \n",
       "\n",
       "                               StreetAbr             City  ... Magnet  \\\n",
       "0                     9300 Imperial Hwy.           Downey  ...    NaN   \n",
       "1                    12105 Allegheny St.       Sun Valley  ...      N   \n",
       "2                 2600 South LaBrea Ave.      Los Angeles  ...    NaN   \n",
       "3  1400 S Broadway Los Angeles, CA 90015      Los Angeles  ...      N   \n",
       "4                    6100 Carmelita Ave.  Huntington Park  ...      N   \n",
       "\n",
       "  YearRoundYN FederalDFCDistrictID   Latitude  Longitude AdmFName AdmLName  \\\n",
       "0         NaN                  NaN  33.916978 -118.12860    Debra   Duardo   \n",
       "1           N              0601564  34.234622 -118.39656     Mark     Ryan   \n",
       "2           Y                  NaN        NaN        NaN      NaN      NaN   \n",
       "3           N              0602019  34.035321 -118.26241     Zuzy   Chavez   \n",
       "4           N              0601821  33.984203 -118.19659     Dawn   Barnes   \n",
       "\n",
       "                               AdmEmail  LastUpDate geometry  \n",
       "0                duardo_debra@lacoe.edu    4/2/2019     None  \n",
       "1                     mryan@novamil.org   8/13/2020     None  \n",
       "2                                   NaN   1/30/2009     None  \n",
       "3             jardindelainfancia@me.com   8/31/2021     None  \n",
       "4  data-contact@aspirepublicschools.org  12/30/2020     None  \n",
       "\n",
       "[5 rows x 48 columns]"
      ]
     },
     "execution_count": 100,
     "metadata": {},
     "output_type": "execute_result"
    }
   ],
   "source": [
    "import numpy as np\n",
    "\n",
    "# replace all 'No Data' entries as NaN\n",
    "schoolgdf_cleaned = schoolgdf.replace('No Data',np.NaN)\n",
    "\n",
    "# convert the Lat & Lon to values so they can be used for geometry\n",
    "schoolgdf_cleaned['Longitude'] = schoolgdf_cleaned['Longitude'].astype(float)\n",
    "schoolgdf_cleaned['Latitude'] = schoolgdf_cleaned['Latitude'].astype(float)\n",
    "\n",
    "# now check that there are null values, and that they are represented in the Lat & Lon columns\n",
    "schoolgdf_cleaned.info()\n",
    "schoolgdf_cleaned.head()"
   ]
  },
  {
   "cell_type": "code",
   "execution_count": 101,
   "id": "5843462f-7306-4932-b826-1a968a8fcfeb",
   "metadata": {},
   "outputs": [
    {
     "name": "stdout",
     "output_type": "stream",
     "text": [
      "<class 'geopandas.geodataframe.GeoDataFrame'>\n",
      "RangeIndex: 3722 entries, 0 to 3721\n",
      "Data columns (total 48 columns):\n",
      " #   Column                Non-Null Count  Dtype   \n",
      "---  ------                --------------  -----   \n",
      " 0   CDSCode               3722 non-null   int64   \n",
      " 1   NCESDist              3349 non-null   object  \n",
      " 2   NCESSchool            2714 non-null   object  \n",
      " 3   StatusType            3722 non-null   object  \n",
      " 4   County                3722 non-null   object  \n",
      " 5   District              3722 non-null   object  \n",
      " 6   School                3594 non-null   object  \n",
      " 7   Street                3670 non-null   object  \n",
      " 8   StreetAbr             3670 non-null   object  \n",
      " 9   City                  3670 non-null   object  \n",
      " 10  Zip                   3670 non-null   object  \n",
      " 11  State                 3670 non-null   object  \n",
      " 12  MailStreet            3670 non-null   object  \n",
      " 13  MailStrAbr            3670 non-null   object  \n",
      " 14  MailCity              3670 non-null   object  \n",
      " 15  MailZip               3670 non-null   object  \n",
      " 16  MailState             3670 non-null   object  \n",
      " 17  Phone                 2382 non-null   object  \n",
      " 18  Ext                   114 non-null    object  \n",
      " 19  FaxNumber             2283 non-null   object  \n",
      " 20  Email                 500 non-null    object  \n",
      " 21  WebSite               1898 non-null   object  \n",
      " 22  OpenDate              3594 non-null   object  \n",
      " 23  ClosedDate            1306 non-null   object  \n",
      " 24  Charter               3594 non-null   object  \n",
      " 25  CharterNum            536 non-null    object  \n",
      " 26  FundingType           513 non-null    object  \n",
      " 27  DOC                   3722 non-null   object  \n",
      " 28  DOCType               3722 non-null   object  \n",
      " 29  SOC                   3594 non-null   object  \n",
      " 30  SOCType               3594 non-null   object  \n",
      " 31  EdOpsCode             2643 non-null   object  \n",
      " 32  EdOpsName             2643 non-null   object  \n",
      " 33  EILCode               3594 non-null   object  \n",
      " 34  EILName               3594 non-null   object  \n",
      " 35  GSoffered             2873 non-null   object  \n",
      " 36  GSserved              2556 non-null   object  \n",
      " 37  Virtual               2474 non-null   object  \n",
      " 38  Magnet                2406 non-null   object  \n",
      " 39  YearRoundYN           3594 non-null   object  \n",
      " 40  FederalDFCDistrictID  339 non-null    object  \n",
      " 41  Latitude              2713 non-null   float64 \n",
      " 42  Longitude             2713 non-null   float64 \n",
      " 43  AdmFName              2379 non-null   object  \n",
      " 44  AdmLName              2379 non-null   object  \n",
      " 45  AdmEmail              2379 non-null   object  \n",
      " 46  LastUpDate            3722 non-null   object  \n",
      " 47  geometry              2713 non-null   geometry\n",
      "dtypes: float64(2), geometry(1), int64(1), object(44)\n",
      "memory usage: 1.4+ MB\n"
     ]
    },
    {
     "data": {
      "text/html": [
       "<div>\n",
       "<style scoped>\n",
       "    .dataframe tbody tr th:only-of-type {\n",
       "        vertical-align: middle;\n",
       "    }\n",
       "\n",
       "    .dataframe tbody tr th {\n",
       "        vertical-align: top;\n",
       "    }\n",
       "\n",
       "    .dataframe thead th {\n",
       "        text-align: right;\n",
       "    }\n",
       "</style>\n",
       "<table border=\"1\" class=\"dataframe\">\n",
       "  <thead>\n",
       "    <tr style=\"text-align: right;\">\n",
       "      <th></th>\n",
       "      <th>CDSCode</th>\n",
       "      <th>NCESDist</th>\n",
       "      <th>NCESSchool</th>\n",
       "      <th>StatusType</th>\n",
       "      <th>County</th>\n",
       "      <th>District</th>\n",
       "      <th>School</th>\n",
       "      <th>Street</th>\n",
       "      <th>StreetAbr</th>\n",
       "      <th>City</th>\n",
       "      <th>...</th>\n",
       "      <th>Magnet</th>\n",
       "      <th>YearRoundYN</th>\n",
       "      <th>FederalDFCDistrictID</th>\n",
       "      <th>Latitude</th>\n",
       "      <th>Longitude</th>\n",
       "      <th>AdmFName</th>\n",
       "      <th>AdmLName</th>\n",
       "      <th>AdmEmail</th>\n",
       "      <th>LastUpDate</th>\n",
       "      <th>geometry</th>\n",
       "    </tr>\n",
       "  </thead>\n",
       "  <tbody>\n",
       "    <tr>\n",
       "      <th>0</th>\n",
       "      <td>19101990000000</td>\n",
       "      <td>0691078</td>\n",
       "      <td>NaN</td>\n",
       "      <td>Active</td>\n",
       "      <td>Los Angeles</td>\n",
       "      <td>Los Angeles County Office of Education</td>\n",
       "      <td>NaN</td>\n",
       "      <td>9300 Imperial Highway</td>\n",
       "      <td>9300 Imperial Hwy.</td>\n",
       "      <td>Downey</td>\n",
       "      <td>...</td>\n",
       "      <td>NaN</td>\n",
       "      <td>NaN</td>\n",
       "      <td>NaN</td>\n",
       "      <td>33.916978</td>\n",
       "      <td>-118.12860</td>\n",
       "      <td>Debra</td>\n",
       "      <td>Duardo</td>\n",
       "      <td>duardo_debra@lacoe.edu</td>\n",
       "      <td>4/2/2019</td>\n",
       "      <td>POINT (-118.12860 33.91698)</td>\n",
       "    </tr>\n",
       "    <tr>\n",
       "      <th>1</th>\n",
       "      <td>19101990100776</td>\n",
       "      <td>0691078</td>\n",
       "      <td>11339</td>\n",
       "      <td>Active</td>\n",
       "      <td>Los Angeles</td>\n",
       "      <td>Los Angeles County Office of Education</td>\n",
       "      <td>North Valley Military Institute College Prepar...</td>\n",
       "      <td>12105 Allegheny Street</td>\n",
       "      <td>12105 Allegheny St.</td>\n",
       "      <td>Sun Valley</td>\n",
       "      <td>...</td>\n",
       "      <td>N</td>\n",
       "      <td>N</td>\n",
       "      <td>0601564</td>\n",
       "      <td>34.234622</td>\n",
       "      <td>-118.39656</td>\n",
       "      <td>Mark</td>\n",
       "      <td>Ryan</td>\n",
       "      <td>mryan@novamil.org</td>\n",
       "      <td>8/13/2020</td>\n",
       "      <td>POINT (-118.39656 34.23462)</td>\n",
       "    </tr>\n",
       "    <tr>\n",
       "      <th>2</th>\n",
       "      <td>19101990102145</td>\n",
       "      <td>0691078</td>\n",
       "      <td>11343</td>\n",
       "      <td>Closed</td>\n",
       "      <td>Los Angeles</td>\n",
       "      <td>Los Angeles County Office of Education</td>\n",
       "      <td>Progressive Education Entrepreneurial Charter</td>\n",
       "      <td>2600 South LaBrea Avenue</td>\n",
       "      <td>2600 South LaBrea Ave.</td>\n",
       "      <td>Los Angeles</td>\n",
       "      <td>...</td>\n",
       "      <td>NaN</td>\n",
       "      <td>Y</td>\n",
       "      <td>NaN</td>\n",
       "      <td>NaN</td>\n",
       "      <td>NaN</td>\n",
       "      <td>NaN</td>\n",
       "      <td>NaN</td>\n",
       "      <td>NaN</td>\n",
       "      <td>1/30/2009</td>\n",
       "      <td>None</td>\n",
       "    </tr>\n",
       "    <tr>\n",
       "      <th>3</th>\n",
       "      <td>19101990106880</td>\n",
       "      <td>0691078</td>\n",
       "      <td>10853</td>\n",
       "      <td>Active</td>\n",
       "      <td>Los Angeles</td>\n",
       "      <td>Los Angeles County Office of Education</td>\n",
       "      <td>Jardin de la Infancia</td>\n",
       "      <td>1400 S Broadway Los Angeles, CA 90015</td>\n",
       "      <td>1400 S Broadway Los Angeles, CA 90015</td>\n",
       "      <td>Los Angeles</td>\n",
       "      <td>...</td>\n",
       "      <td>N</td>\n",
       "      <td>N</td>\n",
       "      <td>0602019</td>\n",
       "      <td>34.035321</td>\n",
       "      <td>-118.26241</td>\n",
       "      <td>Zuzy</td>\n",
       "      <td>Chavez</td>\n",
       "      <td>jardindelainfancia@me.com</td>\n",
       "      <td>8/31/2021</td>\n",
       "      <td>POINT (-118.26241 34.03532)</td>\n",
       "    </tr>\n",
       "    <tr>\n",
       "      <th>4</th>\n",
       "      <td>19101990109660</td>\n",
       "      <td>0691078</td>\n",
       "      <td>10891</td>\n",
       "      <td>Active</td>\n",
       "      <td>Los Angeles</td>\n",
       "      <td>Los Angeles County Office of Education</td>\n",
       "      <td>Aspire Antonio Maria Lugo Academy</td>\n",
       "      <td>6100 Carmelita Avenue</td>\n",
       "      <td>6100 Carmelita Ave.</td>\n",
       "      <td>Huntington Park</td>\n",
       "      <td>...</td>\n",
       "      <td>N</td>\n",
       "      <td>N</td>\n",
       "      <td>0601821</td>\n",
       "      <td>33.984203</td>\n",
       "      <td>-118.19659</td>\n",
       "      <td>Dawn</td>\n",
       "      <td>Barnes</td>\n",
       "      <td>data-contact@aspirepublicschools.org</td>\n",
       "      <td>12/30/2020</td>\n",
       "      <td>POINT (-118.19659 33.98420)</td>\n",
       "    </tr>\n",
       "  </tbody>\n",
       "</table>\n",
       "<p>5 rows × 48 columns</p>\n",
       "</div>"
      ],
      "text/plain": [
       "          CDSCode NCESDist NCESSchool StatusType       County  \\\n",
       "0  19101990000000  0691078        NaN     Active  Los Angeles   \n",
       "1  19101990100776  0691078      11339     Active  Los Angeles   \n",
       "2  19101990102145  0691078      11343     Closed  Los Angeles   \n",
       "3  19101990106880  0691078      10853     Active  Los Angeles   \n",
       "4  19101990109660  0691078      10891     Active  Los Angeles   \n",
       "\n",
       "                                 District  \\\n",
       "0  Los Angeles County Office of Education   \n",
       "1  Los Angeles County Office of Education   \n",
       "2  Los Angeles County Office of Education   \n",
       "3  Los Angeles County Office of Education   \n",
       "4  Los Angeles County Office of Education   \n",
       "\n",
       "                                              School  \\\n",
       "0                                                NaN   \n",
       "1  North Valley Military Institute College Prepar...   \n",
       "2      Progressive Education Entrepreneurial Charter   \n",
       "3                              Jardin de la Infancia   \n",
       "4                  Aspire Antonio Maria Lugo Academy   \n",
       "\n",
       "                                  Street  \\\n",
       "0                  9300 Imperial Highway   \n",
       "1                 12105 Allegheny Street   \n",
       "2               2600 South LaBrea Avenue   \n",
       "3  1400 S Broadway Los Angeles, CA 90015   \n",
       "4                  6100 Carmelita Avenue   \n",
       "\n",
       "                               StreetAbr             City  ... Magnet  \\\n",
       "0                     9300 Imperial Hwy.           Downey  ...    NaN   \n",
       "1                    12105 Allegheny St.       Sun Valley  ...      N   \n",
       "2                 2600 South LaBrea Ave.      Los Angeles  ...    NaN   \n",
       "3  1400 S Broadway Los Angeles, CA 90015      Los Angeles  ...      N   \n",
       "4                    6100 Carmelita Ave.  Huntington Park  ...      N   \n",
       "\n",
       "  YearRoundYN FederalDFCDistrictID   Latitude  Longitude AdmFName AdmLName  \\\n",
       "0         NaN                  NaN  33.916978 -118.12860    Debra   Duardo   \n",
       "1           N              0601564  34.234622 -118.39656     Mark     Ryan   \n",
       "2           Y                  NaN        NaN        NaN      NaN      NaN   \n",
       "3           N              0602019  34.035321 -118.26241     Zuzy   Chavez   \n",
       "4           N              0601821  33.984203 -118.19659     Dawn   Barnes   \n",
       "\n",
       "                               AdmEmail  LastUpDate  \\\n",
       "0                duardo_debra@lacoe.edu    4/2/2019   \n",
       "1                     mryan@novamil.org   8/13/2020   \n",
       "2                                   NaN   1/30/2009   \n",
       "3             jardindelainfancia@me.com   8/31/2021   \n",
       "4  data-contact@aspirepublicschools.org  12/30/2020   \n",
       "\n",
       "                      geometry  \n",
       "0  POINT (-118.12860 33.91698)  \n",
       "1  POINT (-118.39656 34.23462)  \n",
       "2                         None  \n",
       "3  POINT (-118.26241 34.03532)  \n",
       "4  POINT (-118.19659 33.98420)  \n",
       "\n",
       "[5 rows x 48 columns]"
      ]
     },
     "execution_count": 101,
     "metadata": {},
     "output_type": "execute_result"
    }
   ],
   "source": [
    "# populate column for geometry\n",
    "schoolgdf_cleaned['geometry'] = gpd.points_from_xy(schoolgdf_cleaned.Longitude, schoolgdf_cleaned.Latitude)\n",
    "\n",
    "# now the geometry points that are created from Lat/Lon will be [NaN Nan], which is an invalid geometry\n",
    "# replace these invalid geometries with NaN\n",
    "schoolgdf_cleaned['geometry'][~schoolgdf_cleaned['geometry'].is_valid]=np.NaN\n",
    "\n",
    "# check that the same number of non-null lat/lon values are represented in the geometry column!\n",
    "schoolgdf_cleaned.info()\n",
    "schoolgdf_cleaned.head()"
   ]
  },
  {
   "cell_type": "markdown",
   "id": "45ee8aa6-48ee-4ff0-a9c4-af45753fa484",
   "metadata": {},
   "source": [
    "### Filtering the Data\n",
    "\n",
    "only keep the columns we want!"
   ]
  },
  {
   "cell_type": "code",
   "execution_count": 102,
   "id": "28bf43e5-2a3f-449b-8beb-07c571ca3195",
   "metadata": {},
   "outputs": [
    {
     "data": {
      "text/plain": [
       "Index(['CDSCode', 'NCESDist', 'NCESSchool', 'StatusType', 'County', 'District',\n",
       "       'School', 'Street', 'StreetAbr', 'City', 'Zip', 'State', 'MailStreet',\n",
       "       'MailStrAbr', 'MailCity', 'MailZip', 'MailState', 'Phone', 'Ext',\n",
       "       'FaxNumber', 'Email', 'WebSite', 'OpenDate', 'ClosedDate', 'Charter',\n",
       "       'CharterNum', 'FundingType', 'DOC', 'DOCType', 'SOC', 'SOCType',\n",
       "       'EdOpsCode', 'EdOpsName', 'EILCode', 'EILName', 'GSoffered', 'GSserved',\n",
       "       'Virtual', 'Magnet', 'YearRoundYN', 'FederalDFCDistrictID', 'Latitude',\n",
       "       'Longitude', 'AdmFName', 'AdmLName', 'AdmEmail', 'LastUpDate',\n",
       "       'geometry'],\n",
       "      dtype='object')"
      ]
     },
     "execution_count": 102,
     "metadata": {},
     "output_type": "execute_result"
    }
   ],
   "source": [
    "# filter the columns\n",
    "schoolgdf_cleaned.columns"
   ]
  },
  {
   "cell_type": "code",
   "execution_count": 103,
   "id": "a7b18a45-2bee-486f-af5c-56f01e88d061",
   "metadata": {},
   "outputs": [
    {
     "name": "stdout",
     "output_type": "stream",
     "text": [
      "(3722, 48)\n",
      "(2379, 48)\n"
     ]
    },
    {
     "data": {
      "text/html": [
       "<div>\n",
       "<style scoped>\n",
       "    .dataframe tbody tr th:only-of-type {\n",
       "        vertical-align: middle;\n",
       "    }\n",
       "\n",
       "    .dataframe tbody tr th {\n",
       "        vertical-align: top;\n",
       "    }\n",
       "\n",
       "    .dataframe thead th {\n",
       "        text-align: right;\n",
       "    }\n",
       "</style>\n",
       "<table border=\"1\" class=\"dataframe\">\n",
       "  <thead>\n",
       "    <tr style=\"text-align: right;\">\n",
       "      <th></th>\n",
       "      <th>CDSCode</th>\n",
       "      <th>NCESDist</th>\n",
       "      <th>NCESSchool</th>\n",
       "      <th>StatusType</th>\n",
       "      <th>County</th>\n",
       "      <th>District</th>\n",
       "      <th>School</th>\n",
       "      <th>Street</th>\n",
       "      <th>StreetAbr</th>\n",
       "      <th>City</th>\n",
       "      <th>...</th>\n",
       "      <th>Magnet</th>\n",
       "      <th>YearRoundYN</th>\n",
       "      <th>FederalDFCDistrictID</th>\n",
       "      <th>Latitude</th>\n",
       "      <th>Longitude</th>\n",
       "      <th>AdmFName</th>\n",
       "      <th>AdmLName</th>\n",
       "      <th>AdmEmail</th>\n",
       "      <th>LastUpDate</th>\n",
       "      <th>geometry</th>\n",
       "    </tr>\n",
       "  </thead>\n",
       "  <tbody>\n",
       "    <tr>\n",
       "      <th>0</th>\n",
       "      <td>19101990000000</td>\n",
       "      <td>0691078</td>\n",
       "      <td>NaN</td>\n",
       "      <td>Active</td>\n",
       "      <td>Los Angeles</td>\n",
       "      <td>Los Angeles County Office of Education</td>\n",
       "      <td>NaN</td>\n",
       "      <td>9300 Imperial Highway</td>\n",
       "      <td>9300 Imperial Hwy.</td>\n",
       "      <td>Downey</td>\n",
       "      <td>...</td>\n",
       "      <td>NaN</td>\n",
       "      <td>NaN</td>\n",
       "      <td>NaN</td>\n",
       "      <td>33.916978</td>\n",
       "      <td>-118.12860</td>\n",
       "      <td>Debra</td>\n",
       "      <td>Duardo</td>\n",
       "      <td>duardo_debra@lacoe.edu</td>\n",
       "      <td>4/2/2019</td>\n",
       "      <td>POINT (-118.12860 33.91698)</td>\n",
       "    </tr>\n",
       "    <tr>\n",
       "      <th>1</th>\n",
       "      <td>19101990100776</td>\n",
       "      <td>0691078</td>\n",
       "      <td>11339</td>\n",
       "      <td>Active</td>\n",
       "      <td>Los Angeles</td>\n",
       "      <td>Los Angeles County Office of Education</td>\n",
       "      <td>North Valley Military Institute College Prepar...</td>\n",
       "      <td>12105 Allegheny Street</td>\n",
       "      <td>12105 Allegheny St.</td>\n",
       "      <td>Sun Valley</td>\n",
       "      <td>...</td>\n",
       "      <td>N</td>\n",
       "      <td>N</td>\n",
       "      <td>0601564</td>\n",
       "      <td>34.234622</td>\n",
       "      <td>-118.39656</td>\n",
       "      <td>Mark</td>\n",
       "      <td>Ryan</td>\n",
       "      <td>mryan@novamil.org</td>\n",
       "      <td>8/13/2020</td>\n",
       "      <td>POINT (-118.39656 34.23462)</td>\n",
       "    </tr>\n",
       "    <tr>\n",
       "      <th>3</th>\n",
       "      <td>19101990106880</td>\n",
       "      <td>0691078</td>\n",
       "      <td>10853</td>\n",
       "      <td>Active</td>\n",
       "      <td>Los Angeles</td>\n",
       "      <td>Los Angeles County Office of Education</td>\n",
       "      <td>Jardin de la Infancia</td>\n",
       "      <td>1400 S Broadway Los Angeles, CA 90015</td>\n",
       "      <td>1400 S Broadway Los Angeles, CA 90015</td>\n",
       "      <td>Los Angeles</td>\n",
       "      <td>...</td>\n",
       "      <td>N</td>\n",
       "      <td>N</td>\n",
       "      <td>0602019</td>\n",
       "      <td>34.035321</td>\n",
       "      <td>-118.26241</td>\n",
       "      <td>Zuzy</td>\n",
       "      <td>Chavez</td>\n",
       "      <td>jardindelainfancia@me.com</td>\n",
       "      <td>8/31/2021</td>\n",
       "      <td>POINT (-118.26241 34.03532)</td>\n",
       "    </tr>\n",
       "    <tr>\n",
       "      <th>4</th>\n",
       "      <td>19101990109660</td>\n",
       "      <td>0691078</td>\n",
       "      <td>10891</td>\n",
       "      <td>Active</td>\n",
       "      <td>Los Angeles</td>\n",
       "      <td>Los Angeles County Office of Education</td>\n",
       "      <td>Aspire Antonio Maria Lugo Academy</td>\n",
       "      <td>6100 Carmelita Avenue</td>\n",
       "      <td>6100 Carmelita Ave.</td>\n",
       "      <td>Huntington Park</td>\n",
       "      <td>...</td>\n",
       "      <td>N</td>\n",
       "      <td>N</td>\n",
       "      <td>0601821</td>\n",
       "      <td>33.984203</td>\n",
       "      <td>-118.19659</td>\n",
       "      <td>Dawn</td>\n",
       "      <td>Barnes</td>\n",
       "      <td>data-contact@aspirepublicschools.org</td>\n",
       "      <td>12/30/2020</td>\n",
       "      <td>POINT (-118.19659 33.98420)</td>\n",
       "    </tr>\n",
       "    <tr>\n",
       "      <th>6</th>\n",
       "      <td>19101990112128</td>\n",
       "      <td>0691078</td>\n",
       "      <td>11655</td>\n",
       "      <td>Active</td>\n",
       "      <td>Los Angeles</td>\n",
       "      <td>Los Angeles County Office of Education</td>\n",
       "      <td>Aspire Ollin University Preparatory Academy</td>\n",
       "      <td>2540 East 58th Street</td>\n",
       "      <td>2540 East 58th St.</td>\n",
       "      <td>Huntington Park</td>\n",
       "      <td>...</td>\n",
       "      <td>N</td>\n",
       "      <td>N</td>\n",
       "      <td>0601857</td>\n",
       "      <td>33.990154</td>\n",
       "      <td>-118.22653</td>\n",
       "      <td>Joel</td>\n",
       "      <td>Ramirez</td>\n",
       "      <td>data-contact@aspirepublicschools.org</td>\n",
       "      <td>8/13/2020</td>\n",
       "      <td>POINT (-118.22653 33.99015)</td>\n",
       "    </tr>\n",
       "  </tbody>\n",
       "</table>\n",
       "<p>5 rows × 48 columns</p>\n",
       "</div>"
      ],
      "text/plain": [
       "          CDSCode NCESDist NCESSchool StatusType       County  \\\n",
       "0  19101990000000  0691078        NaN     Active  Los Angeles   \n",
       "1  19101990100776  0691078      11339     Active  Los Angeles   \n",
       "3  19101990106880  0691078      10853     Active  Los Angeles   \n",
       "4  19101990109660  0691078      10891     Active  Los Angeles   \n",
       "6  19101990112128  0691078      11655     Active  Los Angeles   \n",
       "\n",
       "                                 District  \\\n",
       "0  Los Angeles County Office of Education   \n",
       "1  Los Angeles County Office of Education   \n",
       "3  Los Angeles County Office of Education   \n",
       "4  Los Angeles County Office of Education   \n",
       "6  Los Angeles County Office of Education   \n",
       "\n",
       "                                              School  \\\n",
       "0                                                NaN   \n",
       "1  North Valley Military Institute College Prepar...   \n",
       "3                              Jardin de la Infancia   \n",
       "4                  Aspire Antonio Maria Lugo Academy   \n",
       "6        Aspire Ollin University Preparatory Academy   \n",
       "\n",
       "                                  Street  \\\n",
       "0                  9300 Imperial Highway   \n",
       "1                 12105 Allegheny Street   \n",
       "3  1400 S Broadway Los Angeles, CA 90015   \n",
       "4                  6100 Carmelita Avenue   \n",
       "6                  2540 East 58th Street   \n",
       "\n",
       "                               StreetAbr             City  ... Magnet  \\\n",
       "0                     9300 Imperial Hwy.           Downey  ...    NaN   \n",
       "1                    12105 Allegheny St.       Sun Valley  ...      N   \n",
       "3  1400 S Broadway Los Angeles, CA 90015      Los Angeles  ...      N   \n",
       "4                    6100 Carmelita Ave.  Huntington Park  ...      N   \n",
       "6                     2540 East 58th St.  Huntington Park  ...      N   \n",
       "\n",
       "  YearRoundYN FederalDFCDistrictID   Latitude  Longitude AdmFName AdmLName  \\\n",
       "0         NaN                  NaN  33.916978 -118.12860    Debra   Duardo   \n",
       "1           N              0601564  34.234622 -118.39656     Mark     Ryan   \n",
       "3           N              0602019  34.035321 -118.26241     Zuzy   Chavez   \n",
       "4           N              0601821  33.984203 -118.19659     Dawn   Barnes   \n",
       "6           N              0601857  33.990154 -118.22653     Joel  Ramirez   \n",
       "\n",
       "                               AdmEmail  LastUpDate  \\\n",
       "0                duardo_debra@lacoe.edu    4/2/2019   \n",
       "1                     mryan@novamil.org   8/13/2020   \n",
       "3             jardindelainfancia@me.com   8/31/2021   \n",
       "4  data-contact@aspirepublicschools.org  12/30/2020   \n",
       "6  data-contact@aspirepublicschools.org   8/13/2020   \n",
       "\n",
       "                      geometry  \n",
       "0  POINT (-118.12860 33.91698)  \n",
       "1  POINT (-118.39656 34.23462)  \n",
       "3  POINT (-118.26241 34.03532)  \n",
       "4  POINT (-118.19659 33.98420)  \n",
       "6  POINT (-118.22653 33.99015)  \n",
       "\n",
       "[5 rows x 48 columns]"
      ]
     },
     "execution_count": 103,
     "metadata": {},
     "output_type": "execute_result"
    }
   ],
   "source": [
    "# Now, filter out the schools that aren't active!\n",
    "print(schoolgdf_cleaned.shape)\n",
    "schoolgdf_filtered_cleaned = schoolgdf_cleaned[schoolgdf_cleaned['StatusType']=='Active']\n",
    "print(schoolgdf_filtered_cleaned.shape)\n",
    "schoolgdf_filtered_cleaned.head()"
   ]
  },
  {
   "cell_type": "code",
   "execution_count": 104,
   "id": "274d221a-7cf1-4f71-9184-0a4f455ed1ff",
   "metadata": {},
   "outputs": [
    {
     "data": {
      "text/html": [
       "<div>\n",
       "<style scoped>\n",
       "    .dataframe tbody tr th:only-of-type {\n",
       "        vertical-align: middle;\n",
       "    }\n",
       "\n",
       "    .dataframe tbody tr th {\n",
       "        vertical-align: top;\n",
       "    }\n",
       "\n",
       "    .dataframe thead th {\n",
       "        text-align: right;\n",
       "    }\n",
       "</style>\n",
       "<table border=\"1\" class=\"dataframe\">\n",
       "  <thead>\n",
       "    <tr style=\"text-align: right;\">\n",
       "      <th></th>\n",
       "      <th>CDSCode</th>\n",
       "      <th>District</th>\n",
       "      <th>School</th>\n",
       "      <th>Street</th>\n",
       "      <th>StreetAbr</th>\n",
       "      <th>City</th>\n",
       "      <th>Zip</th>\n",
       "      <th>State</th>\n",
       "      <th>MailStreet</th>\n",
       "      <th>MailStrAbr</th>\n",
       "      <th>...</th>\n",
       "      <th>GSoffered</th>\n",
       "      <th>GSserved</th>\n",
       "      <th>Virtual</th>\n",
       "      <th>Magnet</th>\n",
       "      <th>YearRoundYN</th>\n",
       "      <th>FederalDFCDistrictID</th>\n",
       "      <th>Latitude</th>\n",
       "      <th>Longitude</th>\n",
       "      <th>LastUpDate</th>\n",
       "      <th>geometry</th>\n",
       "    </tr>\n",
       "  </thead>\n",
       "  <tbody>\n",
       "    <tr>\n",
       "      <th>0</th>\n",
       "      <td>19101990000000</td>\n",
       "      <td>Los Angeles County Office of Education</td>\n",
       "      <td>NaN</td>\n",
       "      <td>9300 Imperial Highway</td>\n",
       "      <td>9300 Imperial Hwy.</td>\n",
       "      <td>Downey</td>\n",
       "      <td>90242-2890</td>\n",
       "      <td>CA</td>\n",
       "      <td>9300 Imperial Highway</td>\n",
       "      <td>9300 Imperial Hwy.</td>\n",
       "      <td>...</td>\n",
       "      <td>NaN</td>\n",
       "      <td>NaN</td>\n",
       "      <td>NaN</td>\n",
       "      <td>NaN</td>\n",
       "      <td>NaN</td>\n",
       "      <td>NaN</td>\n",
       "      <td>33.916978</td>\n",
       "      <td>-118.12860</td>\n",
       "      <td>4/2/2019</td>\n",
       "      <td>POINT (-118.12860 33.91698)</td>\n",
       "    </tr>\n",
       "    <tr>\n",
       "      <th>1</th>\n",
       "      <td>19101990100776</td>\n",
       "      <td>Los Angeles County Office of Education</td>\n",
       "      <td>North Valley Military Institute College Prepar...</td>\n",
       "      <td>12105 Allegheny Street</td>\n",
       "      <td>12105 Allegheny St.</td>\n",
       "      <td>Sun Valley</td>\n",
       "      <td>91352</td>\n",
       "      <td>CA</td>\n",
       "      <td>8309 Laurel Canyon Boulevard, #295</td>\n",
       "      <td>8309 Laurel Canyon Blvd., #295</td>\n",
       "      <td>...</td>\n",
       "      <td>6-12</td>\n",
       "      <td>6-12</td>\n",
       "      <td>C</td>\n",
       "      <td>N</td>\n",
       "      <td>N</td>\n",
       "      <td>0601564</td>\n",
       "      <td>34.234622</td>\n",
       "      <td>-118.39656</td>\n",
       "      <td>8/13/2020</td>\n",
       "      <td>POINT (-118.39656 34.23462)</td>\n",
       "    </tr>\n",
       "    <tr>\n",
       "      <th>2</th>\n",
       "      <td>19101990102145</td>\n",
       "      <td>Los Angeles County Office of Education</td>\n",
       "      <td>Progressive Education Entrepreneurial Charter</td>\n",
       "      <td>2600 South LaBrea Avenue</td>\n",
       "      <td>2600 South LaBrea Ave.</td>\n",
       "      <td>Los Angeles</td>\n",
       "      <td>90016</td>\n",
       "      <td>CA</td>\n",
       "      <td>2600 S. La Brea Avenue</td>\n",
       "      <td>2600 S. La Brea Ave.</td>\n",
       "      <td>...</td>\n",
       "      <td>6-12</td>\n",
       "      <td>6-10</td>\n",
       "      <td>NaN</td>\n",
       "      <td>NaN</td>\n",
       "      <td>Y</td>\n",
       "      <td>NaN</td>\n",
       "      <td>NaN</td>\n",
       "      <td>NaN</td>\n",
       "      <td>1/30/2009</td>\n",
       "      <td>None</td>\n",
       "    </tr>\n",
       "    <tr>\n",
       "      <th>3</th>\n",
       "      <td>19101990106880</td>\n",
       "      <td>Los Angeles County Office of Education</td>\n",
       "      <td>Jardin de la Infancia</td>\n",
       "      <td>1400 S Broadway Los Angeles, CA 90015</td>\n",
       "      <td>1400 S Broadway Los Angeles, CA 90015</td>\n",
       "      <td>Los Angeles</td>\n",
       "      <td>90015-2209</td>\n",
       "      <td>CA</td>\n",
       "      <td>1400 S Broadway Los Angeles, CA 90015</td>\n",
       "      <td>1400 S Broadway Los Angeles, CA 90015</td>\n",
       "      <td>...</td>\n",
       "      <td>K-1</td>\n",
       "      <td>K-1</td>\n",
       "      <td>N</td>\n",
       "      <td>N</td>\n",
       "      <td>N</td>\n",
       "      <td>0602019</td>\n",
       "      <td>34.035321</td>\n",
       "      <td>-118.26241</td>\n",
       "      <td>8/31/2021</td>\n",
       "      <td>POINT (-118.26241 34.03532)</td>\n",
       "    </tr>\n",
       "    <tr>\n",
       "      <th>4</th>\n",
       "      <td>19101990109660</td>\n",
       "      <td>Los Angeles County Office of Education</td>\n",
       "      <td>Aspire Antonio Maria Lugo Academy</td>\n",
       "      <td>6100 Carmelita Avenue</td>\n",
       "      <td>6100 Carmelita Ave.</td>\n",
       "      <td>Huntington Park</td>\n",
       "      <td>90255-4138</td>\n",
       "      <td>CA</td>\n",
       "      <td>1001 22nd Avenue, Suite 100</td>\n",
       "      <td>1001 22nd Ave., Ste. 100</td>\n",
       "      <td>...</td>\n",
       "      <td>K-6</td>\n",
       "      <td>K-5</td>\n",
       "      <td>N</td>\n",
       "      <td>N</td>\n",
       "      <td>N</td>\n",
       "      <td>0601821</td>\n",
       "      <td>33.984203</td>\n",
       "      <td>-118.19659</td>\n",
       "      <td>12/30/2020</td>\n",
       "      <td>POINT (-118.19659 33.98420)</td>\n",
       "    </tr>\n",
       "  </tbody>\n",
       "</table>\n",
       "<p>5 rows × 36 columns</p>\n",
       "</div>"
      ],
      "text/plain": [
       "          CDSCode                                District  \\\n",
       "0  19101990000000  Los Angeles County Office of Education   \n",
       "1  19101990100776  Los Angeles County Office of Education   \n",
       "2  19101990102145  Los Angeles County Office of Education   \n",
       "3  19101990106880  Los Angeles County Office of Education   \n",
       "4  19101990109660  Los Angeles County Office of Education   \n",
       "\n",
       "                                              School  \\\n",
       "0                                                NaN   \n",
       "1  North Valley Military Institute College Prepar...   \n",
       "2      Progressive Education Entrepreneurial Charter   \n",
       "3                              Jardin de la Infancia   \n",
       "4                  Aspire Antonio Maria Lugo Academy   \n",
       "\n",
       "                                  Street  \\\n",
       "0                  9300 Imperial Highway   \n",
       "1                 12105 Allegheny Street   \n",
       "2               2600 South LaBrea Avenue   \n",
       "3  1400 S Broadway Los Angeles, CA 90015   \n",
       "4                  6100 Carmelita Avenue   \n",
       "\n",
       "                               StreetAbr             City         Zip State  \\\n",
       "0                     9300 Imperial Hwy.           Downey  90242-2890    CA   \n",
       "1                    12105 Allegheny St.       Sun Valley       91352    CA   \n",
       "2                 2600 South LaBrea Ave.      Los Angeles       90016    CA   \n",
       "3  1400 S Broadway Los Angeles, CA 90015      Los Angeles  90015-2209    CA   \n",
       "4                    6100 Carmelita Ave.  Huntington Park  90255-4138    CA   \n",
       "\n",
       "                              MailStreet  \\\n",
       "0                  9300 Imperial Highway   \n",
       "1     8309 Laurel Canyon Boulevard, #295   \n",
       "2                 2600 S. La Brea Avenue   \n",
       "3  1400 S Broadway Los Angeles, CA 90015   \n",
       "4            1001 22nd Avenue, Suite 100   \n",
       "\n",
       "                              MailStrAbr  ... GSoffered GSserved Virtual  \\\n",
       "0                     9300 Imperial Hwy.  ...       NaN      NaN     NaN   \n",
       "1         8309 Laurel Canyon Blvd., #295  ...      6-12     6-12       C   \n",
       "2                   2600 S. La Brea Ave.  ...      6-12     6-10     NaN   \n",
       "3  1400 S Broadway Los Angeles, CA 90015  ...       K-1      K-1       N   \n",
       "4               1001 22nd Ave., Ste. 100  ...       K-6      K-5       N   \n",
       "\n",
       "  Magnet YearRoundYN FederalDFCDistrictID   Latitude  Longitude  LastUpDate  \\\n",
       "0    NaN         NaN                  NaN  33.916978 -118.12860    4/2/2019   \n",
       "1      N           N              0601564  34.234622 -118.39656   8/13/2020   \n",
       "2    NaN           Y                  NaN        NaN        NaN   1/30/2009   \n",
       "3      N           N              0602019  34.035321 -118.26241   8/31/2021   \n",
       "4      N           N              0601821  33.984203 -118.19659  12/30/2020   \n",
       "\n",
       "                      geometry  \n",
       "0  POINT (-118.12860 33.91698)  \n",
       "1  POINT (-118.39656 34.23462)  \n",
       "2                         None  \n",
       "3  POINT (-118.26241 34.03532)  \n",
       "4  POINT (-118.19659 33.98420)  \n",
       "\n",
       "[5 rows x 36 columns]"
      ]
     },
     "execution_count": 104,
     "metadata": {},
     "output_type": "execute_result"
    }
   ],
   "source": [
    "schoolgdf_filtered_cleaned = schoolgdf_cleaned\n",
    "\n",
    "keep_columns = ['CDSCode', 'District',\n",
    "       'School', 'Street', 'StreetAbr', 'City', 'Zip', 'State', 'MailStreet',\n",
    "       'MailStrAbr', 'MailCity', 'MailZip', 'MailState', 'Email', 'WebSite', 'Charter',\n",
    "       'CharterNum', 'FundingType', 'DOC', 'DOCType', 'SOC', 'SOCType',\n",
    "       'EdOpsCode', 'EdOpsName', 'EILCode', 'EILName', 'GSoffered', 'GSserved',\n",
    "       'Virtual', 'Magnet', 'YearRoundYN', 'FederalDFCDistrictID', 'Latitude',\n",
    "       'Longitude', 'LastUpDate','geometry']\n",
    "schoolgdf_filtered_cleaned = schoolgdf_filtered_cleaned[keep_columns]\n",
    "schoolgdf_filtered_cleaned.head()"
   ]
  },
  {
   "cell_type": "markdown",
   "id": "4f0a2aaa-e899-4f9e-8e48-976a000505bd",
   "metadata": {},
   "source": [
    "I'm intentionally keeping some of the columns that will have redundant data when combined with the first dataset, so that I can do a spot check to verify the join. However, I do want to be able to differentiate these columns, so I'll rename them for clarity."
   ]
  },
  {
   "cell_type": "code",
   "execution_count": 105,
   "id": "17c72619-1600-4d5f-9103-418cdbe44ce2",
   "metadata": {},
   "outputs": [
    {
     "data": {
      "text/html": [
       "<div>\n",
       "<style scoped>\n",
       "    .dataframe tbody tr th:only-of-type {\n",
       "        vertical-align: middle;\n",
       "    }\n",
       "\n",
       "    .dataframe tbody tr th {\n",
       "        vertical-align: top;\n",
       "    }\n",
       "\n",
       "    .dataframe thead th {\n",
       "        text-align: right;\n",
       "    }\n",
       "</style>\n",
       "<table border=\"1\" class=\"dataframe\">\n",
       "  <thead>\n",
       "    <tr style=\"text-align: right;\">\n",
       "      <th></th>\n",
       "      <th>CDSCode</th>\n",
       "      <th>Directory_District</th>\n",
       "      <th>Directory_School</th>\n",
       "      <th>Street</th>\n",
       "      <th>StreetAbr</th>\n",
       "      <th>City</th>\n",
       "      <th>Zip</th>\n",
       "      <th>State</th>\n",
       "      <th>MailStreet</th>\n",
       "      <th>MailStrAbr</th>\n",
       "      <th>...</th>\n",
       "      <th>GSoffered</th>\n",
       "      <th>GSserved</th>\n",
       "      <th>Virtual</th>\n",
       "      <th>Magnet</th>\n",
       "      <th>YearRoundYN</th>\n",
       "      <th>FederalDFCDistrictID</th>\n",
       "      <th>Latitude</th>\n",
       "      <th>Longitude</th>\n",
       "      <th>LastUpDate</th>\n",
       "      <th>geometry</th>\n",
       "    </tr>\n",
       "  </thead>\n",
       "  <tbody>\n",
       "    <tr>\n",
       "      <th>0</th>\n",
       "      <td>19101990000000</td>\n",
       "      <td>Los Angeles County Office of Education</td>\n",
       "      <td>NaN</td>\n",
       "      <td>9300 Imperial Highway</td>\n",
       "      <td>9300 Imperial Hwy.</td>\n",
       "      <td>Downey</td>\n",
       "      <td>90242-2890</td>\n",
       "      <td>CA</td>\n",
       "      <td>9300 Imperial Highway</td>\n",
       "      <td>9300 Imperial Hwy.</td>\n",
       "      <td>...</td>\n",
       "      <td>NaN</td>\n",
       "      <td>NaN</td>\n",
       "      <td>NaN</td>\n",
       "      <td>NaN</td>\n",
       "      <td>NaN</td>\n",
       "      <td>NaN</td>\n",
       "      <td>33.916978</td>\n",
       "      <td>-118.12860</td>\n",
       "      <td>4/2/2019</td>\n",
       "      <td>POINT (-118.12860 33.91698)</td>\n",
       "    </tr>\n",
       "    <tr>\n",
       "      <th>1</th>\n",
       "      <td>19101990100776</td>\n",
       "      <td>Los Angeles County Office of Education</td>\n",
       "      <td>North Valley Military Institute College Prepar...</td>\n",
       "      <td>12105 Allegheny Street</td>\n",
       "      <td>12105 Allegheny St.</td>\n",
       "      <td>Sun Valley</td>\n",
       "      <td>91352</td>\n",
       "      <td>CA</td>\n",
       "      <td>8309 Laurel Canyon Boulevard, #295</td>\n",
       "      <td>8309 Laurel Canyon Blvd., #295</td>\n",
       "      <td>...</td>\n",
       "      <td>6-12</td>\n",
       "      <td>6-12</td>\n",
       "      <td>C</td>\n",
       "      <td>N</td>\n",
       "      <td>N</td>\n",
       "      <td>0601564</td>\n",
       "      <td>34.234622</td>\n",
       "      <td>-118.39656</td>\n",
       "      <td>8/13/2020</td>\n",
       "      <td>POINT (-118.39656 34.23462)</td>\n",
       "    </tr>\n",
       "    <tr>\n",
       "      <th>2</th>\n",
       "      <td>19101990102145</td>\n",
       "      <td>Los Angeles County Office of Education</td>\n",
       "      <td>Progressive Education Entrepreneurial Charter</td>\n",
       "      <td>2600 South LaBrea Avenue</td>\n",
       "      <td>2600 South LaBrea Ave.</td>\n",
       "      <td>Los Angeles</td>\n",
       "      <td>90016</td>\n",
       "      <td>CA</td>\n",
       "      <td>2600 S. La Brea Avenue</td>\n",
       "      <td>2600 S. La Brea Ave.</td>\n",
       "      <td>...</td>\n",
       "      <td>6-12</td>\n",
       "      <td>6-10</td>\n",
       "      <td>NaN</td>\n",
       "      <td>NaN</td>\n",
       "      <td>Y</td>\n",
       "      <td>NaN</td>\n",
       "      <td>NaN</td>\n",
       "      <td>NaN</td>\n",
       "      <td>1/30/2009</td>\n",
       "      <td>None</td>\n",
       "    </tr>\n",
       "    <tr>\n",
       "      <th>3</th>\n",
       "      <td>19101990106880</td>\n",
       "      <td>Los Angeles County Office of Education</td>\n",
       "      <td>Jardin de la Infancia</td>\n",
       "      <td>1400 S Broadway Los Angeles, CA 90015</td>\n",
       "      <td>1400 S Broadway Los Angeles, CA 90015</td>\n",
       "      <td>Los Angeles</td>\n",
       "      <td>90015-2209</td>\n",
       "      <td>CA</td>\n",
       "      <td>1400 S Broadway Los Angeles, CA 90015</td>\n",
       "      <td>1400 S Broadway Los Angeles, CA 90015</td>\n",
       "      <td>...</td>\n",
       "      <td>K-1</td>\n",
       "      <td>K-1</td>\n",
       "      <td>N</td>\n",
       "      <td>N</td>\n",
       "      <td>N</td>\n",
       "      <td>0602019</td>\n",
       "      <td>34.035321</td>\n",
       "      <td>-118.26241</td>\n",
       "      <td>8/31/2021</td>\n",
       "      <td>POINT (-118.26241 34.03532)</td>\n",
       "    </tr>\n",
       "    <tr>\n",
       "      <th>4</th>\n",
       "      <td>19101990109660</td>\n",
       "      <td>Los Angeles County Office of Education</td>\n",
       "      <td>Aspire Antonio Maria Lugo Academy</td>\n",
       "      <td>6100 Carmelita Avenue</td>\n",
       "      <td>6100 Carmelita Ave.</td>\n",
       "      <td>Huntington Park</td>\n",
       "      <td>90255-4138</td>\n",
       "      <td>CA</td>\n",
       "      <td>1001 22nd Avenue, Suite 100</td>\n",
       "      <td>1001 22nd Ave., Ste. 100</td>\n",
       "      <td>...</td>\n",
       "      <td>K-6</td>\n",
       "      <td>K-5</td>\n",
       "      <td>N</td>\n",
       "      <td>N</td>\n",
       "      <td>N</td>\n",
       "      <td>0601821</td>\n",
       "      <td>33.984203</td>\n",
       "      <td>-118.19659</td>\n",
       "      <td>12/30/2020</td>\n",
       "      <td>POINT (-118.19659 33.98420)</td>\n",
       "    </tr>\n",
       "  </tbody>\n",
       "</table>\n",
       "<p>5 rows × 36 columns</p>\n",
       "</div>"
      ],
      "text/plain": [
       "          CDSCode                      Directory_District  \\\n",
       "0  19101990000000  Los Angeles County Office of Education   \n",
       "1  19101990100776  Los Angeles County Office of Education   \n",
       "2  19101990102145  Los Angeles County Office of Education   \n",
       "3  19101990106880  Los Angeles County Office of Education   \n",
       "4  19101990109660  Los Angeles County Office of Education   \n",
       "\n",
       "                                    Directory_School  \\\n",
       "0                                                NaN   \n",
       "1  North Valley Military Institute College Prepar...   \n",
       "2      Progressive Education Entrepreneurial Charter   \n",
       "3                              Jardin de la Infancia   \n",
       "4                  Aspire Antonio Maria Lugo Academy   \n",
       "\n",
       "                                  Street  \\\n",
       "0                  9300 Imperial Highway   \n",
       "1                 12105 Allegheny Street   \n",
       "2               2600 South LaBrea Avenue   \n",
       "3  1400 S Broadway Los Angeles, CA 90015   \n",
       "4                  6100 Carmelita Avenue   \n",
       "\n",
       "                               StreetAbr             City         Zip State  \\\n",
       "0                     9300 Imperial Hwy.           Downey  90242-2890    CA   \n",
       "1                    12105 Allegheny St.       Sun Valley       91352    CA   \n",
       "2                 2600 South LaBrea Ave.      Los Angeles       90016    CA   \n",
       "3  1400 S Broadway Los Angeles, CA 90015      Los Angeles  90015-2209    CA   \n",
       "4                    6100 Carmelita Ave.  Huntington Park  90255-4138    CA   \n",
       "\n",
       "                              MailStreet  \\\n",
       "0                  9300 Imperial Highway   \n",
       "1     8309 Laurel Canyon Boulevard, #295   \n",
       "2                 2600 S. La Brea Avenue   \n",
       "3  1400 S Broadway Los Angeles, CA 90015   \n",
       "4            1001 22nd Avenue, Suite 100   \n",
       "\n",
       "                              MailStrAbr  ... GSoffered GSserved Virtual  \\\n",
       "0                     9300 Imperial Hwy.  ...       NaN      NaN     NaN   \n",
       "1         8309 Laurel Canyon Blvd., #295  ...      6-12     6-12       C   \n",
       "2                   2600 S. La Brea Ave.  ...      6-12     6-10     NaN   \n",
       "3  1400 S Broadway Los Angeles, CA 90015  ...       K-1      K-1       N   \n",
       "4               1001 22nd Ave., Ste. 100  ...       K-6      K-5       N   \n",
       "\n",
       "  Magnet YearRoundYN FederalDFCDistrictID   Latitude  Longitude  LastUpDate  \\\n",
       "0    NaN         NaN                  NaN  33.916978 -118.12860    4/2/2019   \n",
       "1      N           N              0601564  34.234622 -118.39656   8/13/2020   \n",
       "2    NaN           Y                  NaN        NaN        NaN   1/30/2009   \n",
       "3      N           N              0602019  34.035321 -118.26241   8/31/2021   \n",
       "4      N           N              0601821  33.984203 -118.19659  12/30/2020   \n",
       "\n",
       "                      geometry  \n",
       "0  POINT (-118.12860 33.91698)  \n",
       "1  POINT (-118.39656 34.23462)  \n",
       "2                         None  \n",
       "3  POINT (-118.26241 34.03532)  \n",
       "4  POINT (-118.19659 33.98420)  \n",
       "\n",
       "[5 rows x 36 columns]"
      ]
     },
     "execution_count": 105,
     "metadata": {},
     "output_type": "execute_result"
    }
   ],
   "source": [
    "renamed_columns = ['CDSCode', 'Directory_District',\n",
    "       'Directory_School', 'Street', 'StreetAbr', 'City', 'Zip', 'State', 'MailStreet',\n",
    "       'MailStrAbr', 'MailCity', 'MailZip', 'MailState', 'Email', 'WebSite', 'Directory_Charter',\n",
    "       'CharterNum', 'FundingType', 'DOC', 'DOCType', 'SOC', 'SOCType',\n",
    "       'EdOpsCode', 'EdOpsName', 'EILCode', 'EILName', 'GSoffered', 'GSserved',\n",
    "       'Virtual', 'Magnet', 'YearRoundYN', 'FederalDFCDistrictID', 'Latitude',\n",
    "       'Longitude', 'LastUpDate','geometry']\n",
    "\n",
    "schoolgdf_filtered_cleaned.columns = renamed_columns;\n",
    "schoolgdf_filtered_cleaned.head()"
   ]
  },
  {
   "cell_type": "markdown",
   "id": "48df89a6-6079-49cb-a390-fa97e4f34afb",
   "metadata": {},
   "source": [
    "### Mapping the data"
   ]
  },
  {
   "cell_type": "code",
   "execution_count": 106,
   "id": "cc7a98fd-8096-430b-b6f4-ba9c8c5ab60d",
   "metadata": {},
   "outputs": [],
   "source": [
    "# import libraries for mapping\n",
    "import contextily as ctx\n",
    "import matplotlib.pyplot as plt"
   ]
  },
  {
   "cell_type": "code",
   "execution_count": 107,
   "id": "da4f0bbb-426f-457d-a626-16e1a2183102",
   "metadata": {},
   "outputs": [
    {
     "name": "stderr",
     "output_type": "stream",
     "text": [
      "/opt/conda/lib/python3.9/site-packages/geopandas/geodataframe.py:1322: SettingWithCopyWarning:\n",
      "\n",
      "\n",
      "A value is trying to be set on a copy of a slice from a DataFrame.\n",
      "Try using .loc[row_indexer,col_indexer] = value instead\n",
      "\n",
      "See the caveats in the documentation: https://pandas.pydata.org/pandas-docs/stable/user_guide/indexing.html#returning-a-view-versus-a-copy\n",
      "\n"
     ]
    },
    {
     "data": {
      "text/plain": [
       "<Geographic 2D CRS: EPSG:4326>\n",
       "Name: WGS 84\n",
       "Axis Info [ellipsoidal]:\n",
       "- Lat[north]: Geodetic latitude (degree)\n",
       "- Lon[east]: Geodetic longitude (degree)\n",
       "Area of Use:\n",
       "- name: World.\n",
       "- bounds: (-180.0, -90.0, 180.0, 90.0)\n",
       "Datum: World Geodetic System 1984 ensemble\n",
       "- Ellipsoid: WGS 84\n",
       "- Prime Meridian: Greenwich"
      ]
     },
     "execution_count": 107,
     "metadata": {},
     "output_type": "execute_result"
    }
   ],
   "source": [
    "# Set the CRS\n",
    "schoolgdf_filtered_cleaned.set_crs(epsg=4326, inplace=True)\n",
    "schoolgdf_filtered_cleaned.crs"
   ]
  },
  {
   "cell_type": "code",
   "execution_count": 108,
   "id": "5743b0b7-6c0e-44f7-8a67-a19d6636dd42",
   "metadata": {},
   "outputs": [
    {
     "data": {
      "image/png": "[encoded data removed]",
      "text/plain": [
       "<Figure size 1080x360 with 1 Axes>"
      ]
     },
     "metadata": {
      "needs_background": "light"
     },
     "output_type": "display_data"
    }
   ],
   "source": [
    "# reproject to web mercator\n",
    "schoolgdf_web_mercator = schoolgdf_filtered_cleaned.to_crs(epsg=3857)\n",
    "\n",
    "# map it\n",
    "fig, ax = plt.subplots(figsize=(15,5))\n",
    "\n",
    "schoolgdf_web_mercator.plot(ax=ax, \n",
    "                      marker='X',\n",
    "                      markersize=50,\n",
    "                      color='red')\n",
    "\n",
    "ax.axis('off')\n",
    "\n",
    "ax.set_title('Schools in LA County')\n",
    "\n",
    "ctx.add_basemap(ax)"
   ]
  },
  {
   "cell_type": "markdown",
   "id": "ae034b9d-6ba2-4b52-ba1c-b8b710bb947c",
   "metadata": {},
   "source": [
    "So much red! Oh well, once I join the data it should be filtered down to just the schools that have expulsions."
   ]
  },
  {
   "cell_type": "markdown",
   "id": "04a90c7c-9aab-4fa3-89c5-97f3c15f9400",
   "metadata": {},
   "source": [
    "## Joining the Data\n",
    "\n",
    "And finally, I will be merging the two datasets.\n",
    "* join the datasets by attribute: CDSCode\n",
    "* map the combined data"
   ]
  },
  {
   "cell_type": "code",
   "execution_count": 109,
   "id": "7fcb0eb2-d344-4dc5-9fd0-adb0d19982c9",
   "metadata": {},
   "outputs": [
    {
     "name": "stdout",
     "output_type": "stream",
     "text": [
      "<class 'geopandas.geodataframe.GeoDataFrame'>\n",
      "RangeIndex: 154 entries, 0 to 153\n",
      "Data columns (total 17 columns):\n",
      " #   Column                                                   Non-Null Count  Dtype   \n",
      "---  ------                                                   --------------  -----   \n",
      " 0   DistrictName                                             154 non-null    object  \n",
      " 1   SchoolName                                               154 non-null    object  \n",
      " 2   CharterYN                                                154 non-null    object  \n",
      " 3   ReportingCategory                                        154 non-null    object  \n",
      " 4   CumulativeEnrollment                                     154 non-null    object  \n",
      " 5   Total Expulsions                                         154 non-null    int64   \n",
      " 6   Unduplicated Count of Students Expelled (Total)          154 non-null    int64   \n",
      " 7   Unduplicated Count of Students Expelled (Defiance-Only)  154 non-null    int64   \n",
      " 8   Expulsion Rate (Total)                                   154 non-null    float64 \n",
      " 9   Expulsion Count Violent Incident (Injury)                154 non-null    int64   \n",
      " 10  Expulsion Count Violent Incident (No Injury)             154 non-null    int64   \n",
      " 11  Expulsion Count Weapons Possession                       154 non-null    int64   \n",
      " 12  Expulsion Count Illicit Drug-Related                     154 non-null    int64   \n",
      " 13  Expulsion Count Defiance-Only                            154 non-null    int64   \n",
      " 14  Expulsion Count Other Reasons                            154 non-null    int64   \n",
      " 15  geometry                                                 0 non-null      geometry\n",
      " 16  CDSCode                                                  154 non-null    int64   \n",
      "dtypes: float64(1), geometry(1), int64(10), object(5)\n",
      "memory usage: 20.6+ KB\n"
     ]
    }
   ],
   "source": [
    "expgdf_filtered.info()"
   ]
  },
  {
   "cell_type": "code",
   "execution_count": 110,
   "id": "a366346e-6afe-46cc-98e5-7332ff6f2de6",
   "metadata": {},
   "outputs": [
    {
     "name": "stdout",
     "output_type": "stream",
     "text": [
      "<class 'geopandas.geodataframe.GeoDataFrame'>\n",
      "RangeIndex: 3722 entries, 0 to 3721\n",
      "Data columns (total 36 columns):\n",
      " #   Column                Non-Null Count  Dtype   \n",
      "---  ------                --------------  -----   \n",
      " 0   CDSCode               3722 non-null   int64   \n",
      " 1   Directory_District    3722 non-null   object  \n",
      " 2   Directory_School      3594 non-null   object  \n",
      " 3   Street                3670 non-null   object  \n",
      " 4   StreetAbr             3670 non-null   object  \n",
      " 5   City                  3670 non-null   object  \n",
      " 6   Zip                   3670 non-null   object  \n",
      " 7   State                 3670 non-null   object  \n",
      " 8   MailStreet            3670 non-null   object  \n",
      " 9   MailStrAbr            3670 non-null   object  \n",
      " 10  MailCity              3670 non-null   object  \n",
      " 11  MailZip               3670 non-null   object  \n",
      " 12  MailState             3670 non-null   object  \n",
      " 13  Email                 500 non-null    object  \n",
      " 14  WebSite               1898 non-null   object  \n",
      " 15  Directory_Charter     3594 non-null   object  \n",
      " 16  CharterNum            536 non-null    object  \n",
      " 17  FundingType           513 non-null    object  \n",
      " 18  DOC                   3722 non-null   object  \n",
      " 19  DOCType               3722 non-null   object  \n",
      " 20  SOC                   3594 non-null   object  \n",
      " 21  SOCType               3594 non-null   object  \n",
      " 22  EdOpsCode             2643 non-null   object  \n",
      " 23  EdOpsName             2643 non-null   object  \n",
      " 24  EILCode               3594 non-null   object  \n",
      " 25  EILName               3594 non-null   object  \n",
      " 26  GSoffered             2873 non-null   object  \n",
      " 27  GSserved              2556 non-null   object  \n",
      " 28  Virtual               2474 non-null   object  \n",
      " 29  Magnet                2406 non-null   object  \n",
      " 30  YearRoundYN           3594 non-null   object  \n",
      " 31  FederalDFCDistrictID  339 non-null    object  \n",
      " 32  Latitude              2713 non-null   float64 \n",
      " 33  Longitude             2713 non-null   float64 \n",
      " 34  LastUpDate            3722 non-null   object  \n",
      " 35  geometry              2713 non-null   geometry\n",
      "dtypes: float64(2), geometry(1), int64(1), object(32)\n",
      "memory usage: 1.0+ MB\n"
     ]
    }
   ],
   "source": [
    "# reminder of what the datasets look like\n",
    "schoolgdf_filtered_cleaned.info()"
   ]
  },
  {
   "cell_type": "code",
   "execution_count": 111,
   "id": "7187ad6b-5baa-4712-b3cc-d5cfc45e7c83",
   "metadata": {},
   "outputs": [
    {
     "name": "stdout",
     "output_type": "stream",
     "text": [
      "(3722, 36)\n",
      "(154, 17)\n",
      "(3722, 36)\n",
      "(105, 52)\n",
      "<class 'pandas.core.frame.DataFrame'>\n",
      "Int64Index: 105 entries, 0 to 104\n",
      "Data columns (total 52 columns):\n",
      " #   Column                                                   Non-Null Count  Dtype   \n",
      "---  ------                                                   --------------  -----   \n",
      " 0   DistrictName                                             105 non-null    object  \n",
      " 1   SchoolName                                               105 non-null    object  \n",
      " 2   CharterYN                                                105 non-null    object  \n",
      " 3   ReportingCategory                                        105 non-null    object  \n",
      " 4   CumulativeEnrollment                                     105 non-null    object  \n",
      " 5   Total Expulsions                                         105 non-null    int64   \n",
      " 6   Unduplicated Count of Students Expelled (Total)          105 non-null    int64   \n",
      " 7   Unduplicated Count of Students Expelled (Defiance-Only)  105 non-null    int64   \n",
      " 8   Expulsion Rate (Total)                                   105 non-null    float64 \n",
      " 9   Expulsion Count Violent Incident (Injury)                105 non-null    int64   \n",
      " 10  Expulsion Count Violent Incident (No Injury)             105 non-null    int64   \n",
      " 11  Expulsion Count Weapons Possession                       105 non-null    int64   \n",
      " 12  Expulsion Count Illicit Drug-Related                     105 non-null    int64   \n",
      " 13  Expulsion Count Defiance-Only                            105 non-null    int64   \n",
      " 14  Expulsion Count Other Reasons                            105 non-null    int64   \n",
      " 15  geometry_x                                               0 non-null      geometry\n",
      " 16  CDSCode                                                  105 non-null    int64   \n",
      " 17  Directory_District                                       105 non-null    object  \n",
      " 18  Directory_School                                         105 non-null    object  \n",
      " 19  Street                                                   105 non-null    object  \n",
      " 20  StreetAbr                                                105 non-null    object  \n",
      " 21  City                                                     105 non-null    object  \n",
      " 22  Zip                                                      105 non-null    object  \n",
      " 23  State                                                    105 non-null    object  \n",
      " 24  MailStreet                                               105 non-null    object  \n",
      " 25  MailStrAbr                                               105 non-null    object  \n",
      " 26  MailCity                                                 105 non-null    object  \n",
      " 27  MailZip                                                  105 non-null    object  \n",
      " 28  MailState                                                105 non-null    object  \n",
      " 29  Email                                                    1 non-null      object  \n",
      " 30  WebSite                                                  55 non-null     object  \n",
      " 31  Directory_Charter                                        105 non-null    object  \n",
      " 32  CharterNum                                               5 non-null      object  \n",
      " 33  FundingType                                              5 non-null      object  \n",
      " 34  DOC                                                      105 non-null    object  \n",
      " 35  DOCType                                                  105 non-null    object  \n",
      " 36  SOC                                                      105 non-null    object  \n",
      " 37  SOCType                                                  105 non-null    object  \n",
      " 38  EdOpsCode                                                105 non-null    object  \n",
      " 39  EdOpsName                                                105 non-null    object  \n",
      " 40  EILCode                                                  105 non-null    object  \n",
      " 41  EILName                                                  105 non-null    object  \n",
      " 42  GSoffered                                                105 non-null    object  \n",
      " 43  GSserved                                                 105 non-null    object  \n",
      " 44  Virtual                                                  105 non-null    object  \n",
      " 45  Magnet                                                   105 non-null    object  \n",
      " 46  YearRoundYN                                              105 non-null    object  \n",
      " 47  FederalDFCDistrictID                                     3 non-null      object  \n",
      " 48  Latitude                                                 105 non-null    float64 \n",
      " 49  Longitude                                                105 non-null    float64 \n",
      " 50  LastUpDate                                               105 non-null    object  \n",
      " 51  geometry_y                                               105 non-null    geometry\n",
      "dtypes: float64(3), geometry(2), int64(10), object(37)\n",
      "memory usage: 43.5+ KB\n"
     ]
    }
   ],
   "source": [
    "\n",
    "expgdf_filtered_final = expgdf_filtered\n",
    "schoolgdf_final = schoolgdf_filtered_cleaned\n",
    "\n",
    "print(schoolgdf_filtered_cleaned.shape)\n",
    "print(expgdf_filtered_final.shape)\n",
    "\n",
    "expgdf_filtered_final = expgdf_filtered_final.merge(schoolgdf_filtered_cleaned, on='CDSCode')\n",
    "\n",
    "print(schoolgdf_filtered_cleaned.shape)\n",
    "print(expgdf_filtered_final.shape)\n",
    "\n",
    "# reminder of what the datasets look like\n",
    "expgdf_filtered_final.info()"
   ]
  },
  {
   "cell_type": "markdown",
   "id": "2a8109b3-b314-4db0-b374-31ef661e6293",
   "metadata": {},
   "source": [
    "### Checking the Merge\n",
    "\n",
    "I thought that surely all of the values in the expulsion filtered dataset would be represented in the school directory. However, that wasn't the case! As you can see from the output above, the number of entries was reduced from 154 to 105. We lost about 50 data entries in the merge. I did a couple of checks to make sure that the merge generally went smoothly\n"
   ]
  },
  {
   "cell_type": "code",
   "execution_count": 112,
   "id": "5ad97f34-1e77-48fe-bf3e-e55fb163012a",
   "metadata": {},
   "outputs": [
    {
     "name": "stdout",
     "output_type": "stream",
     "text": [
      "\n",
      "****School Name****\n",
      "\n",
      "0                     Alhambra High\n",
      "1                  Mark Keppel High\n",
      "2                  San Gabriel High\n",
      "3              Antelope Valley High\n",
      "4                     Highland High\n",
      "                   ...             \n",
      "100    Frontier High (Continuation)\n",
      "101                   La Serna High\n",
      "102                    Pioneer High\n",
      "103                   Santa Fe High\n",
      "104                   Whittier High\n",
      "Name: SchoolName, Length: 105, dtype: object\n",
      "0                     Alhambra High\n",
      "1                  Mark Keppel High\n",
      "2                  San Gabriel High\n",
      "3              Antelope Valley High\n",
      "4                     Highland High\n",
      "                   ...             \n",
      "100    Frontier High (Continuation)\n",
      "101                   La Serna High\n",
      "102                    Pioneer High\n",
      "103                   Santa Fe High\n",
      "104                   Whittier High\n",
      "Name: Directory_School, Length: 105, dtype: object\n",
      "\n",
      "****District Name****\n",
      "\n",
      "0                Alhambra Unified\n",
      "1                Alhambra Unified\n",
      "2                Alhambra Unified\n",
      "3      Antelope Valley Union High\n",
      "4      Antelope Valley Union High\n",
      "                  ...            \n",
      "100           Whittier Union High\n",
      "101           Whittier Union High\n",
      "102           Whittier Union High\n",
      "103           Whittier Union High\n",
      "104           Whittier Union High\n",
      "Name: DistrictName, Length: 105, dtype: object\n",
      "0                Alhambra Unified\n",
      "1                Alhambra Unified\n",
      "2                Alhambra Unified\n",
      "3      Antelope Valley Union High\n",
      "4      Antelope Valley Union High\n",
      "                  ...            \n",
      "100           Whittier Union High\n",
      "101           Whittier Union High\n",
      "102           Whittier Union High\n",
      "103           Whittier Union High\n",
      "104           Whittier Union High\n",
      "Name: Directory_District, Length: 105, dtype: object\n",
      "\n",
      "****Charter****\n",
      "\n",
      "0      No \n",
      "1      No \n",
      "2      No \n",
      "3      No \n",
      "4      No \n",
      "      ... \n",
      "100    No \n",
      "101    No \n",
      "102    No \n",
      "103    No \n",
      "104    No \n",
      "Name: CharterYN, Length: 105, dtype: object\n",
      "0      N\n",
      "1      N\n",
      "2      N\n",
      "3      N\n",
      "4      N\n",
      "      ..\n",
      "100    N\n",
      "101    N\n",
      "102    N\n",
      "103    N\n",
      "104    N\n",
      "Name: Directory_Charter, Length: 105, dtype: object\n"
     ]
    }
   ],
   "source": [
    "# do a spot check with duplicate rows to make sure that the school names are identical between the school directory and the expulsion dataset\n",
    "print(\"\\n****School Name****\\n\")\n",
    "print(expgdf_filtered_final.iloc[:,1])\n",
    "print(expgdf_filtered_final.iloc[:,18])\n",
    "print(\"\\n****District Name****\\n\")\n",
    "print(expgdf_filtered_final.iloc[:,0])\n",
    "print(expgdf_filtered_final.iloc[:,17])\n",
    "print(\"\\n****Charter****\\n\")\n",
    "print(expgdf_filtered_final.iloc[:,2])\n",
    "print(expgdf_filtered_final.iloc[:,31])"
   ]
  },
  {
   "cell_type": "code",
   "execution_count": 113,
   "id": "44f66362-26af-4fa4-9a49-d5d581624597",
   "metadata": {},
   "outputs": [
    {
     "name": "stdout",
     "output_type": "stream",
     "text": [
      "<class 'pandas.core.frame.DataFrame'>\n",
      "Int64Index: 105 entries, 0 to 104\n",
      "Data columns (total 52 columns):\n",
      " #   Column                                                   Non-Null Count  Dtype   \n",
      "---  ------                                                   --------------  -----   \n",
      " 0   DistrictName                                             105 non-null    object  \n",
      " 1   SchoolName                                               105 non-null    object  \n",
      " 2   CharterYN                                                105 non-null    object  \n",
      " 3   ReportingCategory                                        105 non-null    object  \n",
      " 4   CumulativeEnrollment                                     105 non-null    object  \n",
      " 5   Total Expulsions                                         105 non-null    int64   \n",
      " 6   Unduplicated Count of Students Expelled (Total)          105 non-null    int64   \n",
      " 7   Unduplicated Count of Students Expelled (Defiance-Only)  105 non-null    int64   \n",
      " 8   Expulsion Rate (Total)                                   105 non-null    float64 \n",
      " 9   Expulsion Count Violent Incident (Injury)                105 non-null    int64   \n",
      " 10  Expulsion Count Violent Incident (No Injury)             105 non-null    int64   \n",
      " 11  Expulsion Count Weapons Possession                       105 non-null    int64   \n",
      " 12  Expulsion Count Illicit Drug-Related                     105 non-null    int64   \n",
      " 13  Expulsion Count Defiance-Only                            105 non-null    int64   \n",
      " 14  Expulsion Count Other Reasons                            105 non-null    int64   \n",
      " 15  geometry_x                                               0 non-null      geometry\n",
      " 16  CDSCode                                                  105 non-null    int64   \n",
      " 17  Directory_District                                       105 non-null    object  \n",
      " 18  Directory_School                                         105 non-null    object  \n",
      " 19  Street                                                   105 non-null    object  \n",
      " 20  StreetAbr                                                105 non-null    object  \n",
      " 21  City                                                     105 non-null    object  \n",
      " 22  Zip                                                      105 non-null    object  \n",
      " 23  State                                                    105 non-null    object  \n",
      " 24  MailStreet                                               105 non-null    object  \n",
      " 25  MailStrAbr                                               105 non-null    object  \n",
      " 26  MailCity                                                 105 non-null    object  \n",
      " 27  MailZip                                                  105 non-null    object  \n",
      " 28  MailState                                                105 non-null    object  \n",
      " 29  Email                                                    1 non-null      object  \n",
      " 30  WebSite                                                  55 non-null     object  \n",
      " 31  Directory_Charter                                        105 non-null    object  \n",
      " 32  CharterNum                                               5 non-null      object  \n",
      " 33  FundingType                                              5 non-null      object  \n",
      " 34  DOC                                                      105 non-null    object  \n",
      " 35  DOCType                                                  105 non-null    object  \n",
      " 36  SOC                                                      105 non-null    object  \n",
      " 37  SOCType                                                  105 non-null    object  \n",
      " 38  EdOpsCode                                                105 non-null    object  \n",
      " 39  EdOpsName                                                105 non-null    object  \n",
      " 40  EILCode                                                  105 non-null    object  \n",
      " 41  EILName                                                  105 non-null    object  \n",
      " 42  GSoffered                                                105 non-null    object  \n",
      " 43  GSserved                                                 105 non-null    object  \n",
      " 44  Virtual                                                  105 non-null    object  \n",
      " 45  Magnet                                                   105 non-null    object  \n",
      " 46  YearRoundYN                                              105 non-null    object  \n",
      " 47  FederalDFCDistrictID                                     3 non-null      object  \n",
      " 48  Latitude                                                 105 non-null    float64 \n",
      " 49  Longitude                                                105 non-null    float64 \n",
      " 50  LastUpDate                                               105 non-null    object  \n",
      " 51  geometry_y                                               105 non-null    geometry\n",
      "dtypes: float64(3), geometry(2), int64(10), object(37)\n",
      "memory usage: 43.5+ KB\n"
     ]
    },
    {
     "data": {
      "text/html": [
       "<div>\n",
       "<style scoped>\n",
       "    .dataframe tbody tr th:only-of-type {\n",
       "        vertical-align: middle;\n",
       "    }\n",
       "\n",
       "    .dataframe tbody tr th {\n",
       "        vertical-align: top;\n",
       "    }\n",
       "\n",
       "    .dataframe thead th {\n",
       "        text-align: right;\n",
       "    }\n",
       "</style>\n",
       "<table border=\"1\" class=\"dataframe\">\n",
       "  <thead>\n",
       "    <tr style=\"text-align: right;\">\n",
       "      <th></th>\n",
       "      <th>DistrictName</th>\n",
       "      <th>SchoolName</th>\n",
       "      <th>CharterYN</th>\n",
       "      <th>ReportingCategory</th>\n",
       "      <th>CumulativeEnrollment</th>\n",
       "      <th>Total Expulsions</th>\n",
       "      <th>Unduplicated Count of Students Expelled (Total)</th>\n",
       "      <th>Unduplicated Count of Students Expelled (Defiance-Only)</th>\n",
       "      <th>Expulsion Rate (Total)</th>\n",
       "      <th>Expulsion Count Violent Incident (Injury)</th>\n",
       "      <th>...</th>\n",
       "      <th>GSoffered</th>\n",
       "      <th>GSserved</th>\n",
       "      <th>Virtual</th>\n",
       "      <th>Magnet</th>\n",
       "      <th>YearRoundYN</th>\n",
       "      <th>FederalDFCDistrictID</th>\n",
       "      <th>Latitude</th>\n",
       "      <th>Longitude</th>\n",
       "      <th>LastUpDate</th>\n",
       "      <th>geometry_y</th>\n",
       "    </tr>\n",
       "  </thead>\n",
       "  <tbody>\n",
       "    <tr>\n",
       "      <th>0</th>\n",
       "      <td>Alhambra Unified</td>\n",
       "      <td>Alhambra High</td>\n",
       "      <td>No</td>\n",
       "      <td>TA</td>\n",
       "      <td>2426</td>\n",
       "      <td>4</td>\n",
       "      <td>4</td>\n",
       "      <td>0</td>\n",
       "      <td>0.2</td>\n",
       "      <td>2</td>\n",
       "      <td>...</td>\n",
       "      <td>9-12</td>\n",
       "      <td>9-12</td>\n",
       "      <td>C</td>\n",
       "      <td>N</td>\n",
       "      <td>N</td>\n",
       "      <td>NaN</td>\n",
       "      <td>34.095262</td>\n",
       "      <td>-118.12970</td>\n",
       "      <td>8/13/2020</td>\n",
       "      <td>POINT (-118.12970 34.09526)</td>\n",
       "    </tr>\n",
       "    <tr>\n",
       "      <th>1</th>\n",
       "      <td>Alhambra Unified</td>\n",
       "      <td>Mark Keppel High</td>\n",
       "      <td>No</td>\n",
       "      <td>TA</td>\n",
       "      <td>2312</td>\n",
       "      <td>1</td>\n",
       "      <td>1</td>\n",
       "      <td>0</td>\n",
       "      <td>0.0</td>\n",
       "      <td>0</td>\n",
       "      <td>...</td>\n",
       "      <td>9-12</td>\n",
       "      <td>9-12</td>\n",
       "      <td>C</td>\n",
       "      <td>N</td>\n",
       "      <td>N</td>\n",
       "      <td>NaN</td>\n",
       "      <td>34.069864</td>\n",
       "      <td>-118.11535</td>\n",
       "      <td>8/13/2020</td>\n",
       "      <td>POINT (-118.11535 34.06986)</td>\n",
       "    </tr>\n",
       "    <tr>\n",
       "      <th>2</th>\n",
       "      <td>Alhambra Unified</td>\n",
       "      <td>San Gabriel High</td>\n",
       "      <td>No</td>\n",
       "      <td>TA</td>\n",
       "      <td>2094</td>\n",
       "      <td>7</td>\n",
       "      <td>7</td>\n",
       "      <td>0</td>\n",
       "      <td>0.3</td>\n",
       "      <td>0</td>\n",
       "      <td>...</td>\n",
       "      <td>9-12</td>\n",
       "      <td>9-12</td>\n",
       "      <td>C</td>\n",
       "      <td>N</td>\n",
       "      <td>N</td>\n",
       "      <td>NaN</td>\n",
       "      <td>34.091924</td>\n",
       "      <td>-118.10802</td>\n",
       "      <td>8/13/2020</td>\n",
       "      <td>POINT (-118.10802 34.09192)</td>\n",
       "    </tr>\n",
       "    <tr>\n",
       "      <th>3</th>\n",
       "      <td>Antelope Valley Union High</td>\n",
       "      <td>Antelope Valley High</td>\n",
       "      <td>No</td>\n",
       "      <td>TA</td>\n",
       "      <td>1809</td>\n",
       "      <td>4</td>\n",
       "      <td>4</td>\n",
       "      <td>0</td>\n",
       "      <td>0.2</td>\n",
       "      <td>1</td>\n",
       "      <td>...</td>\n",
       "      <td>9-12</td>\n",
       "      <td>9-12</td>\n",
       "      <td>N</td>\n",
       "      <td>Y</td>\n",
       "      <td>N</td>\n",
       "      <td>NaN</td>\n",
       "      <td>34.699110</td>\n",
       "      <td>-118.13034</td>\n",
       "      <td>8/13/2020</td>\n",
       "      <td>POINT (-118.13034 34.69911)</td>\n",
       "    </tr>\n",
       "    <tr>\n",
       "      <th>4</th>\n",
       "      <td>Antelope Valley Union High</td>\n",
       "      <td>Highland High</td>\n",
       "      <td>No</td>\n",
       "      <td>TA</td>\n",
       "      <td>3015</td>\n",
       "      <td>9</td>\n",
       "      <td>9</td>\n",
       "      <td>0</td>\n",
       "      <td>0.3</td>\n",
       "      <td>6</td>\n",
       "      <td>...</td>\n",
       "      <td>9-12</td>\n",
       "      <td>9-12</td>\n",
       "      <td>N</td>\n",
       "      <td>Y</td>\n",
       "      <td>N</td>\n",
       "      <td>NaN</td>\n",
       "      <td>34.585226</td>\n",
       "      <td>-118.17400</td>\n",
       "      <td>8/13/2020</td>\n",
       "      <td>POINT (-118.17400 34.58523)</td>\n",
       "    </tr>\n",
       "  </tbody>\n",
       "</table>\n",
       "<p>5 rows × 52 columns</p>\n",
       "</div>"
      ],
      "text/plain": [
       "                 DistrictName            SchoolName CharterYN  \\\n",
       "0            Alhambra Unified         Alhambra High       No    \n",
       "1            Alhambra Unified      Mark Keppel High       No    \n",
       "2            Alhambra Unified      San Gabriel High       No    \n",
       "3  Antelope Valley Union High  Antelope Valley High       No    \n",
       "4  Antelope Valley Union High         Highland High       No    \n",
       "\n",
       "  ReportingCategory CumulativeEnrollment  Total Expulsions  \\\n",
       "0                TA                 2426                 4   \n",
       "1                TA                 2312                 1   \n",
       "2                TA                 2094                 7   \n",
       "3                TA                 1809                 4   \n",
       "4                TA                 3015                 9   \n",
       "\n",
       "   Unduplicated Count of Students Expelled (Total)  \\\n",
       "0                                                4   \n",
       "1                                                1   \n",
       "2                                                7   \n",
       "3                                                4   \n",
       "4                                                9   \n",
       "\n",
       "   Unduplicated Count of Students Expelled (Defiance-Only)  \\\n",
       "0                                                  0         \n",
       "1                                                  0         \n",
       "2                                                  0         \n",
       "3                                                  0         \n",
       "4                                                  0         \n",
       "\n",
       "   Expulsion Rate (Total)  Expulsion Count Violent Incident (Injury)  ...  \\\n",
       "0                     0.2                                          2  ...   \n",
       "1                     0.0                                          0  ...   \n",
       "2                     0.3                                          0  ...   \n",
       "3                     0.2                                          1  ...   \n",
       "4                     0.3                                          6  ...   \n",
       "\n",
       "   GSoffered  GSserved  Virtual  Magnet  YearRoundYN FederalDFCDistrictID  \\\n",
       "0       9-12      9-12        C       N            N                  NaN   \n",
       "1       9-12      9-12        C       N            N                  NaN   \n",
       "2       9-12      9-12        C       N            N                  NaN   \n",
       "3       9-12      9-12        N       Y            N                  NaN   \n",
       "4       9-12      9-12        N       Y            N                  NaN   \n",
       "\n",
       "    Latitude  Longitude LastUpDate                   geometry_y  \n",
       "0  34.095262 -118.12970  8/13/2020  POINT (-118.12970 34.09526)  \n",
       "1  34.069864 -118.11535  8/13/2020  POINT (-118.11535 34.06986)  \n",
       "2  34.091924 -118.10802  8/13/2020  POINT (-118.10802 34.09192)  \n",
       "3  34.699110 -118.13034  8/13/2020  POINT (-118.13034 34.69911)  \n",
       "4  34.585226 -118.17400  8/13/2020  POINT (-118.17400 34.58523)  \n",
       "\n",
       "[5 rows x 52 columns]"
      ]
     },
     "execution_count": 113,
     "metadata": {},
     "output_type": "execute_result"
    }
   ],
   "source": [
    "# I then inspected the datatypes and first few entries.\n",
    "expgdf_filtered_final.info()\n",
    "expgdf_filtered_final.head()"
   ]
  },
  {
   "cell_type": "code",
   "execution_count": 114,
   "id": "85f4523f-a656-44d5-9ea5-5a0f9896154a",
   "metadata": {},
   "outputs": [
    {
     "data": {
      "text/html": [
       "<div>\n",
       "<style scoped>\n",
       "    .dataframe tbody tr th:only-of-type {\n",
       "        vertical-align: middle;\n",
       "    }\n",
       "\n",
       "    .dataframe tbody tr th {\n",
       "        vertical-align: top;\n",
       "    }\n",
       "\n",
       "    .dataframe thead th {\n",
       "        text-align: right;\n",
       "    }\n",
       "</style>\n",
       "<table border=\"1\" class=\"dataframe\">\n",
       "  <thead>\n",
       "    <tr style=\"text-align: right;\">\n",
       "      <th></th>\n",
       "      <th>DistrictName</th>\n",
       "      <th>SchoolName</th>\n",
       "      <th>CharterYN</th>\n",
       "      <th>ReportingCategory</th>\n",
       "      <th>CumulativeEnrollment</th>\n",
       "      <th>Total Expulsions</th>\n",
       "      <th>Unduplicated Count of Students Expelled (Total)</th>\n",
       "      <th>Unduplicated Count of Students Expelled (Defiance-Only)</th>\n",
       "      <th>Expulsion Rate (Total)</th>\n",
       "      <th>Expulsion Count Violent Incident (Injury)</th>\n",
       "      <th>...</th>\n",
       "      <th>EILName</th>\n",
       "      <th>GSoffered</th>\n",
       "      <th>GSserved</th>\n",
       "      <th>Virtual</th>\n",
       "      <th>Magnet</th>\n",
       "      <th>YearRoundYN</th>\n",
       "      <th>Latitude</th>\n",
       "      <th>Longitude</th>\n",
       "      <th>LastUpDate</th>\n",
       "      <th>geometry</th>\n",
       "    </tr>\n",
       "  </thead>\n",
       "  <tbody>\n",
       "    <tr>\n",
       "      <th>0</th>\n",
       "      <td>Alhambra Unified</td>\n",
       "      <td>Alhambra High</td>\n",
       "      <td>No</td>\n",
       "      <td>TA</td>\n",
       "      <td>2426</td>\n",
       "      <td>4</td>\n",
       "      <td>4</td>\n",
       "      <td>0</td>\n",
       "      <td>0.2</td>\n",
       "      <td>2</td>\n",
       "      <td>...</td>\n",
       "      <td>High School</td>\n",
       "      <td>9-12</td>\n",
       "      <td>9-12</td>\n",
       "      <td>C</td>\n",
       "      <td>N</td>\n",
       "      <td>N</td>\n",
       "      <td>34.095262</td>\n",
       "      <td>-118.12970</td>\n",
       "      <td>8/13/2020</td>\n",
       "      <td>POINT (-118.12970 34.09526)</td>\n",
       "    </tr>\n",
       "    <tr>\n",
       "      <th>1</th>\n",
       "      <td>Alhambra Unified</td>\n",
       "      <td>Mark Keppel High</td>\n",
       "      <td>No</td>\n",
       "      <td>TA</td>\n",
       "      <td>2312</td>\n",
       "      <td>1</td>\n",
       "      <td>1</td>\n",
       "      <td>0</td>\n",
       "      <td>0.0</td>\n",
       "      <td>0</td>\n",
       "      <td>...</td>\n",
       "      <td>High School</td>\n",
       "      <td>9-12</td>\n",
       "      <td>9-12</td>\n",
       "      <td>C</td>\n",
       "      <td>N</td>\n",
       "      <td>N</td>\n",
       "      <td>34.069864</td>\n",
       "      <td>-118.11535</td>\n",
       "      <td>8/13/2020</td>\n",
       "      <td>POINT (-118.11535 34.06986)</td>\n",
       "    </tr>\n",
       "    <tr>\n",
       "      <th>2</th>\n",
       "      <td>Alhambra Unified</td>\n",
       "      <td>San Gabriel High</td>\n",
       "      <td>No</td>\n",
       "      <td>TA</td>\n",
       "      <td>2094</td>\n",
       "      <td>7</td>\n",
       "      <td>7</td>\n",
       "      <td>0</td>\n",
       "      <td>0.3</td>\n",
       "      <td>0</td>\n",
       "      <td>...</td>\n",
       "      <td>High School</td>\n",
       "      <td>9-12</td>\n",
       "      <td>9-12</td>\n",
       "      <td>C</td>\n",
       "      <td>N</td>\n",
       "      <td>N</td>\n",
       "      <td>34.091924</td>\n",
       "      <td>-118.10802</td>\n",
       "      <td>8/13/2020</td>\n",
       "      <td>POINT (-118.10802 34.09192)</td>\n",
       "    </tr>\n",
       "    <tr>\n",
       "      <th>3</th>\n",
       "      <td>Antelope Valley Union High</td>\n",
       "      <td>Antelope Valley High</td>\n",
       "      <td>No</td>\n",
       "      <td>TA</td>\n",
       "      <td>1809</td>\n",
       "      <td>4</td>\n",
       "      <td>4</td>\n",
       "      <td>0</td>\n",
       "      <td>0.2</td>\n",
       "      <td>1</td>\n",
       "      <td>...</td>\n",
       "      <td>High School</td>\n",
       "      <td>9-12</td>\n",
       "      <td>9-12</td>\n",
       "      <td>N</td>\n",
       "      <td>Y</td>\n",
       "      <td>N</td>\n",
       "      <td>34.699110</td>\n",
       "      <td>-118.13034</td>\n",
       "      <td>8/13/2020</td>\n",
       "      <td>POINT (-118.13034 34.69911)</td>\n",
       "    </tr>\n",
       "    <tr>\n",
       "      <th>4</th>\n",
       "      <td>Antelope Valley Union High</td>\n",
       "      <td>Highland High</td>\n",
       "      <td>No</td>\n",
       "      <td>TA</td>\n",
       "      <td>3015</td>\n",
       "      <td>9</td>\n",
       "      <td>9</td>\n",
       "      <td>0</td>\n",
       "      <td>0.3</td>\n",
       "      <td>6</td>\n",
       "      <td>...</td>\n",
       "      <td>High School</td>\n",
       "      <td>9-12</td>\n",
       "      <td>9-12</td>\n",
       "      <td>N</td>\n",
       "      <td>Y</td>\n",
       "      <td>N</td>\n",
       "      <td>34.585226</td>\n",
       "      <td>-118.17400</td>\n",
       "      <td>8/13/2020</td>\n",
       "      <td>POINT (-118.17400 34.58523)</td>\n",
       "    </tr>\n",
       "  </tbody>\n",
       "</table>\n",
       "<p>5 rows × 43 columns</p>\n",
       "</div>"
      ],
      "text/plain": [
       "                 DistrictName            SchoolName CharterYN  \\\n",
       "0            Alhambra Unified         Alhambra High       No    \n",
       "1            Alhambra Unified      Mark Keppel High       No    \n",
       "2            Alhambra Unified      San Gabriel High       No    \n",
       "3  Antelope Valley Union High  Antelope Valley High       No    \n",
       "4  Antelope Valley Union High         Highland High       No    \n",
       "\n",
       "  ReportingCategory CumulativeEnrollment  Total Expulsions  \\\n",
       "0                TA                 2426                 4   \n",
       "1                TA                 2312                 1   \n",
       "2                TA                 2094                 7   \n",
       "3                TA                 1809                 4   \n",
       "4                TA                 3015                 9   \n",
       "\n",
       "   Unduplicated Count of Students Expelled (Total)  \\\n",
       "0                                                4   \n",
       "1                                                1   \n",
       "2                                                7   \n",
       "3                                                4   \n",
       "4                                                9   \n",
       "\n",
       "   Unduplicated Count of Students Expelled (Defiance-Only)  \\\n",
       "0                                                  0         \n",
       "1                                                  0         \n",
       "2                                                  0         \n",
       "3                                                  0         \n",
       "4                                                  0         \n",
       "\n",
       "   Expulsion Rate (Total)  Expulsion Count Violent Incident (Injury)  ...  \\\n",
       "0                     0.2                                          2  ...   \n",
       "1                     0.0                                          0  ...   \n",
       "2                     0.3                                          0  ...   \n",
       "3                     0.2                                          1  ...   \n",
       "4                     0.3                                          6  ...   \n",
       "\n",
       "       EILName  GSoffered  GSserved  Virtual  Magnet  YearRoundYN   Latitude  \\\n",
       "0  High School       9-12      9-12        C       N            N  34.095262   \n",
       "1  High School       9-12      9-12        C       N            N  34.069864   \n",
       "2  High School       9-12      9-12        C       N            N  34.091924   \n",
       "3  High School       9-12      9-12        N       Y            N  34.699110   \n",
       "4  High School       9-12      9-12        N       Y            N  34.585226   \n",
       "\n",
       "   Longitude LastUpDate                     geometry  \n",
       "0 -118.12970  8/13/2020  POINT (-118.12970 34.09526)  \n",
       "1 -118.11535  8/13/2020  POINT (-118.11535 34.06986)  \n",
       "2 -118.10802  8/13/2020  POINT (-118.10802 34.09192)  \n",
       "3 -118.13034  8/13/2020  POINT (-118.13034 34.69911)  \n",
       "4 -118.17400  8/13/2020  POINT (-118.17400 34.58523)  \n",
       "\n",
       "[5 rows x 43 columns]"
      ]
     },
     "execution_count": 114,
     "metadata": {},
     "output_type": "execute_result"
    }
   ],
   "source": [
    "# delete some columns\n",
    "filtered_columns = ['DistrictName', 'SchoolName', 'CharterYN', 'ReportingCategory',\n",
    "       'CumulativeEnrollment', 'Total Expulsions',\n",
    "       'Unduplicated Count of Students Expelled (Total)',\n",
    "       'Unduplicated Count of Students Expelled (Defiance-Only)',\n",
    "       'Expulsion Rate (Total)', 'Expulsion Count Violent Incident (Injury)',\n",
    "       'Expulsion Count Violent Incident (No Injury)',\n",
    "       'Expulsion Count Weapons Possession',\n",
    "       'Expulsion Count Illicit Drug-Related', 'Expulsion Count Defiance-Only',\n",
    "       'Expulsion Count Other Reasons', 'CDSCode', 'Street', 'StreetAbr', 'City',\n",
    "       'Zip', 'State', 'MailStreet', 'MailStrAbr', 'MailCity', 'MailZip',\n",
    "       'MailState', 'DOC', 'DOCType', 'SOC', 'SOCType', 'EdOpsCode',\n",
    "       'EdOpsName', 'EILCode', 'EILName', 'GSoffered', 'GSserved', 'Virtual',\n",
    "       'Magnet', 'YearRoundYN', 'Latitude', 'Longitude', 'LastUpDate','geometry_y']\n",
    "\n",
    "expgdf_filtered_final = expgdf_filtered_final[filtered_columns]\n",
    "\n",
    "renamed_columns = ['DistrictName', 'SchoolName', 'CharterYN', 'ReportingCategory',\n",
    "       'CumulativeEnrollment', 'Total Expulsions',\n",
    "       'Unduplicated Count of Students Expelled (Total)',\n",
    "       'Unduplicated Count of Students Expelled (Defiance-Only)',\n",
    "       'Expulsion Rate (Total)', 'Expulsion Count Violent Incident (Injury)',\n",
    "       'Expulsion Count Violent Incident (No Injury)',\n",
    "       'Expulsion Count Weapons Possession',\n",
    "       'Expulsion Count Illicit Drug-Related', 'Expulsion Count Defiance-Only',\n",
    "       'Expulsion Count Other Reasons', 'CDSCode','Street', 'StreetAbr', 'City',\n",
    "       'Zip', 'State', 'MailStreet', 'MailStrAbr', 'MailCity', 'MailZip',\n",
    "       'MailState', 'DOC', 'DOCType', 'SOC', 'SOCType', 'EdOpsCode',\n",
    "       'EdOpsName', 'EILCode', 'EILName', 'GSoffered', 'GSserved', 'Virtual',\n",
    "       'Magnet', 'YearRoundYN', 'Latitude', 'Longitude', 'LastUpDate','geometry']\n",
    "\n",
    "expgdf_filtered_final.columns = renamed_columns\n",
    "expgdf_filtered_final.head()"
   ]
  },
  {
   "cell_type": "code",
   "execution_count": 115,
   "id": "d08aeff9-f71d-45e0-9eab-cd1e31e057ea",
   "metadata": {
    "tags": []
   },
   "outputs": [
    {
     "data": {
      "text/plain": [
       "pandas.core.frame.DataFrame"
      ]
     },
     "execution_count": 115,
     "metadata": {},
     "output_type": "execute_result"
    }
   ],
   "source": [
    "type(expgdf_filtered_final)"
   ]
  },
  {
   "cell_type": "markdown",
   "id": "6f67cfb6-4a12-4f6b-85f2-312590936744",
   "metadata": {},
   "source": [
    "I found out that the type was actually a regular dataframe, I had to convert it to a GeoDataFrame."
   ]
  },
  {
   "cell_type": "code",
   "execution_count": 116,
   "id": "c98c481f-1a48-4b42-8fcc-848373d49df2",
   "metadata": {},
   "outputs": [],
   "source": [
    "from geopandas import GeoDataFrame\n",
    "schoolgdf_final = GeoDataFrame(expgdf_filtered_final, crs=\"EPSG:4326\", geometry='geometry')"
   ]
  },
  {
   "cell_type": "markdown",
   "id": "399c43d7-21cf-4957-9ae4-f79d9bec81aa",
   "metadata": {},
   "source": [
    "# Mapping!\n",
    "\n",
    "Now I use matplotlib and plotly express to visualize the joineddataset.\n",
    "\n",
    "## Matplotlib"
   ]
  },
  {
   "cell_type": "code",
   "execution_count": 117,
   "id": "93c24647-544e-496e-acc5-a8b29e60d2fb",
   "metadata": {},
   "outputs": [
    {
     "name": "stdout",
     "output_type": "stream",
     "text": [
      "<class 'geopandas.geodataframe.GeoDataFrame'>\n",
      "Int64Index: 105 entries, 0 to 104\n",
      "Data columns (total 43 columns):\n",
      " #   Column                                                   Non-Null Count  Dtype   \n",
      "---  ------                                                   --------------  -----   \n",
      " 0   DistrictName                                             105 non-null    object  \n",
      " 1   SchoolName                                               105 non-null    object  \n",
      " 2   CharterYN                                                105 non-null    object  \n",
      " 3   ReportingCategory                                        105 non-null    object  \n",
      " 4   CumulativeEnrollment                                     105 non-null    object  \n",
      " 5   Total Expulsions                                         105 non-null    int64   \n",
      " 6   Unduplicated Count of Students Expelled (Total)          105 non-null    int64   \n",
      " 7   Unduplicated Count of Students Expelled (Defiance-Only)  105 non-null    int64   \n",
      " 8   Expulsion Rate (Total)                                   105 non-null    float64 \n",
      " 9   Expulsion Count Violent Incident (Injury)                105 non-null    int64   \n",
      " 10  Expulsion Count Violent Incident (No Injury)             105 non-null    int64   \n",
      " 11  Expulsion Count Weapons Possession                       105 non-null    int64   \n",
      " 12  Expulsion Count Illicit Drug-Related                     105 non-null    int64   \n",
      " 13  Expulsion Count Defiance-Only                            105 non-null    int64   \n",
      " 14  Expulsion Count Other Reasons                            105 non-null    int64   \n",
      " 15  CDSCode                                                  105 non-null    int64   \n",
      " 16  Street                                                   105 non-null    object  \n",
      " 17  StreetAbr                                                105 non-null    object  \n",
      " 18  City                                                     105 non-null    object  \n",
      " 19  Zip                                                      105 non-null    object  \n",
      " 20  State                                                    105 non-null    object  \n",
      " 21  MailStreet                                               105 non-null    object  \n",
      " 22  MailStrAbr                                               105 non-null    object  \n",
      " 23  MailCity                                                 105 non-null    object  \n",
      " 24  MailZip                                                  105 non-null    object  \n",
      " 25  MailState                                                105 non-null    object  \n",
      " 26  DOC                                                      105 non-null    object  \n",
      " 27  DOCType                                                  105 non-null    object  \n",
      " 28  SOC                                                      105 non-null    object  \n",
      " 29  SOCType                                                  105 non-null    object  \n",
      " 30  EdOpsCode                                                105 non-null    object  \n",
      " 31  EdOpsName                                                105 non-null    object  \n",
      " 32  EILCode                                                  105 non-null    object  \n",
      " 33  EILName                                                  105 non-null    object  \n",
      " 34  GSoffered                                                105 non-null    object  \n",
      " 35  GSserved                                                 105 non-null    object  \n",
      " 36  Virtual                                                  105 non-null    object  \n",
      " 37  Magnet                                                   105 non-null    object  \n",
      " 38  YearRoundYN                                              105 non-null    object  \n",
      " 39  Latitude                                                 105 non-null    float64 \n",
      " 40  Longitude                                                105 non-null    float64 \n",
      " 41  LastUpDate                                               105 non-null    object  \n",
      " 42  geometry                                                 105 non-null    geometry\n",
      "dtypes: float64(3), geometry(1), int64(10), object(29)\n",
      "memory usage: 36.1+ KB\n"
     ]
    }
   ],
   "source": [
    "# First, get a reminder of the column names.\n",
    "schoolgdf_final.info()"
   ]
  },
  {
   "cell_type": "code",
   "execution_count": 118,
   "id": "1cc4c7b7-6055-45b8-99dc-5d970611253b",
   "metadata": {},
   "outputs": [
    {
     "name": "stdout",
     "output_type": "stream",
     "text": [
      "epsg:4326\n"
     ]
    },
    {
     "data": {
      "image/png": "[encoded data removed]",
      "text/plain": [
       "<Figure size 1080x360 with 1 Axes>"
      ]
     },
     "metadata": {
      "needs_background": "light"
     },
     "output_type": "display_data"
    }
   ],
   "source": [
    "#Then, plot!\n",
    "\n",
    "# Set the CRS\n",
    "schoolgdf_final.set_crs(epsg=4326, inplace=True)\n",
    "print(schoolgdf_final.crs)\n",
    "\n",
    "# reproject to web mercator\n",
    "schoolgdf_web_mercator = schoolgdf_final.to_crs(epsg=3857)\n",
    "\n",
    "# map it\n",
    "fig, ax = plt.subplots(figsize=(15,5))\n",
    "\n",
    "\n",
    "\n",
    "schoolgdf_web_mercator.plot(ax=ax, \n",
    "                      marker='o',\n",
    "                      markersize='Total Expulsions',#(1.5*n for n in schoolgdf_web_mercator['Total Expulsions']),\n",
    "                      color='red')\n",
    "\n",
    "ax.axis('off')\n",
    "\n",
    "ax.set_title('Schools in LA County with expulsions')\n",
    "\n",
    "ctx.add_basemap(ax)"
   ]
  },
  {
   "cell_type": "markdown",
   "id": "c153ca1a-aaf3-4478-8277-c31070a95e6d",
   "metadata": {},
   "source": [
    "## Plotly Express\n",
    "\n",
    "I used plotly express to create a few helpful bar charts and maps!\n",
    "\n",
    "First, a map:"
   ]
  },
  {
   "cell_type": "code",
   "execution_count": 119,
   "id": "a0b6d03a-6435-46bd-9282-5784552b37bf",
   "metadata": {
    "tags": []
   },
   "outputs": [
    {
     "data": {
      "application/vnd.plotly.v1+json": {
       "config": {
        "plotlyServerURL": "https://plot.ly"
       },
       "data": [
        {
         "hovertemplate": "<b>%{hovertext}</b><br><br>School Type=High School<br>Total Expulsions=%{marker.size}<br>Latitude=%{lat}<br>Longitude=%{lon}<extra></extra>",
         "hovertext": [
          "Alhambra High",
          "Mark Keppel High",
          "San Gabriel High",
          "Antelope Valley High",
          "Highland High",
          "Littlerock High",
          "Palmdale High",
          "Quartz Hill High",
          "Arcadia High",
          "Azusa High",
          "Sierra High",
          "Baldwin Park High",
          "Bassett Senior High",
          "Bellflower High",
          "Mayfair High",
          "Somerset Continuation High",
          "Bonita High",
          "Chaparral High (Continuation)",
          "San Dimas High",
          "Hawthorne High",
          "Leuzinger High",
          "R. K. Lloyde High",
          "Charter Oak High",
          "Fairvalley High (Continuation)",
          "Northview High",
          "South Hills High",
          "Duarte High",
          "El Rancho High",
          "Ruben Salazar Continuation",
          "Glen A. Wilson High",
          "La Puente High",
          "William Workman High",
          "Agoura High",
          "Animo Leadership High",
          "Cabrillo High",
          "Jordan High",
          "Lakewood High",
          "Millikan High",
          "Polytechnic High",
          "Bell Senior High",
          "Birmingham Community Charter High",
          "Downtown Business High",
          "Eagle Rock High",
          "Fairfax Senior High",
          "Grover Cleveland Charter High",
          "James Monroe High",
          "John H. Francis Polytechnic",
          "John Marshall Senior High",
          "Nathaniel Narbonne Senior High",
          "San Fernando Senior High",
          "South Gate Senior High",
          "Mira Costa High",
          "John A. Rowland High",
          "Nogales High",
          "South Pasadena Senior High",
          "Temple City High",
          "North High",
          "Shery (Kurt T.) High (Continuation)",
          "South High",
          "Torrance High",
          "West High",
          "California High",
          "Frontier High (Continuation)",
          "La Serna High",
          "Pioneer High",
          "Santa Fe High",
          "Whittier High"
         ],
         "lat": [
          34.095262,
          34.069864,
          34.091924,
          34.69911,
          34.585226,
          34.572721,
          34.572775,
          34.660109,
          34.130636,
          34.125392,
          34.113828,
          34.083315,
          34.051475,
          33.894402,
          33.86367,
          33.882868,
          34.107804,
          34.117535,
          34.099307,
          33.916456,
          33.90137,
          33.895165,
          34.09937,
          34.101144,
          34.095751,
          34.06209,
          34.136066,
          33.984147,
          33.987906,
          33.995701,
          34.024827,
          34.028579,
          34.15104,
          33.934769,
          33.793514,
          33.872497,
          33.8379,
          33.80732,
          33.787163,
          33.974658,
          34.188953,
          34.062927,
          34.133337,
          34.083741,
          34.218186,
          34.237885,
          34.221721,
          34.107762,
          33.804075,
          34.272472,
          33.954632,
          33.872932,
          33.98244,
          34.010182,
          34.109915,
          34.117455,
          33.865535,
          33.822861,
          33.810786,
          33.831308,
          33.846515,
          33.943816,
          33.952348,
          33.954826,
          33.971545,
          33.940125,
          33.979818
         ],
         "legendgroup": "High School",
         "lon": [
          -118.1297,
          -118.11535,
          -118.10802,
          -118.13034,
          -118.174,
          -117.93595,
          -118.09194,
          -118.24003,
          -118.03865,
          -117.89936,
          -117.88658,
          -117.94995,
          -117.97642,
          -118.1131,
          -118.11714,
          -118.13755,
          -117.76729,
          -117.80643,
          -117.82293,
          -118.3629,
          -118.34687,
          -118.36599,
          -117.86137,
          -117.90455,
          -117.91104,
          -117.88263,
          -117.97128,
          -118.08696,
          -118.09082,
          -117.93796,
          -117.95549,
          -117.93744,
          -118.74948,
          -118.3477,
          -118.21559,
          -118.18592,
          -118.12318,
          -118.1117,
          -118.18496,
          -118.19031,
          -118.5049,
          -118.25101,
          -118.20603,
          -118.36072,
          -118.5491,
          -118.47637,
          -118.40408,
          -118.27756,
          -118.30731,
          -118.4421,
          -118.20975,
          -118.38948,
          -117.88431,
          -117.88703,
          -118.1532,
          -118.06422,
          -118.3357,
          -118.32388,
          -118.36524,
          -118.32114,
          -118.3667,
          -118.02427,
          -118.04392,
          -117.99605,
          -118.07874,
          -118.08998,
          -118.04411
         ],
         "marker": {
          "color": "#636efa",
          "size": [
           4,
           1,
           7,
           4,
           9,
           5,
           6,
           3,
           1,
           1,
           1,
           2,
           4,
           5,
           3,
           1,
           1,
           1,
           2,
           4,
           1,
           5,
           2,
           1,
           1,
           2,
           2,
           2,
           4,
           8,
           4,
           1,
           1,
           2,
           2,
           1,
           3,
           2,
           2,
           2,
           3,
           1,
           1,
           1,
           1,
           3,
           1,
           1,
           2,
           1,
           1,
           1,
           4,
           3,
           2,
           1,
           4,
           2,
           1,
           1,
           2,
           2,
           7,
           4,
           8,
           1,
           6
          ],
          "sizemode": "area",
          "sizeref": 0.0225
         },
         "mode": "markers",
         "name": "High School",
         "showlegend": true,
         "subplot": "mapbox",
         "type": "scattermapbox"
        },
        {
         "hovertemplate": "<b>%{hovertext}</b><br><br>School Type=Intermediate/Middle/Junior High<br>Total Expulsions=%{marker.size}<br>Latitude=%{lat}<br>Longitude=%{lon}<extra></extra>",
         "hovertext": [
          "Foothills Middle",
          "Jerry D. Holland Middle",
          "Sierra Vista Junior High",
          "Ramona Middle",
          "Granada Middle",
          "Rivera Middle",
          "Piute Middle",
          "Bancroft Middle",
          "Franklin Classical Middle",
          "Berendo Middle",
          "CDS Secondary",
          "Florence Nightingale Middle",
          "Gaspar De Portola Charter Middle",
          "Henry T. Gage Middle",
          "Hollenbeck Middle",
          "James Madison Middle",
          "Los Angeles Academy Middle",
          "Luther Burbank Middle",
          "Pacoima Middle",
          "Robert Louis Stevenson College and Career Preparatory",
          "South Gate Middle",
          "Walter Reed Middle",
          "Cactus Medical, Health and Technology Magnet Academy",
          "Muscatel Middle",
          "Alvarado Intermediate",
          "Giano Intermediate",
          "J. H. Hull Middle"
         ],
         "lat": [
          34.152912,
          34.098331,
          34.075854,
          34.115524,
          33.923276,
          33.977556,
          34.708876,
          33.839628,
          33.773409,
          34.049884,
          34.033946,
          34.08659,
          34.167295,
          33.981215,
          34.036431,
          34.197534,
          33.991524,
          34.119309,
          34.250282,
          34.026048,
          33.953333,
          34.15263,
          34.565598,
          34.082605,
          33.983899,
          34.016239,
          33.815597
         ],
         "legendgroup": "Intermediate/Middle/Junior High",
         "lon": [
          -118.02605,
          -117.96331,
          -117.9791,
          -117.78881,
          -118.00298,
          -118.0945,
          -118.12383,
          -118.12942,
          -118.1779,
          -118.29376,
          -118.2344,
          -118.21891,
          -118.54155,
          -118.21735,
          -118.21153,
          -118.416,
          -118.26324,
          -118.18357,
          -118.42322,
          -118.19237,
          -118.19795,
          -118.38556,
          -118.07065,
          -118.07555,
          -117.89518,
          -117.90772,
          -118.31713
         ],
         "marker": {
          "color": "#EF553B",
          "size": [
           1,
           1,
           2,
           2,
           1,
           1,
           3,
           3,
           1,
           1,
           1,
           1,
           3,
           1,
           1,
           1,
           1,
           1,
           1,
           2,
           1,
           1,
           4,
           1,
           1,
           1,
           1
          ],
          "sizemode": "area",
          "sizeref": 0.0225
         },
         "mode": "markers",
         "name": "Intermediate/Middle/Junior High",
         "showlegend": true,
         "subplot": "mapbox",
         "type": "scattermapbox"
        },
        {
         "hovertemplate": "<b>%{hovertext}</b><br><br>School Type=Elementary<br>Total Expulsions=%{marker.size}<br>Latitude=%{lat}<br>Longitude=%{lon}<extra></extra>",
         "hovertext": [
          "Fairgrove Academy",
          "Alpine Elementary",
          "Joshua Elementary",
          "Mariposa Elementary",
          "Roosevelt Elementary",
          "Ninety-Second Street Elementary",
          "Parmelee Avenue Elementary",
          "Valerio Street Elementary"
         ],
         "lat": [
          34.041859,
          34.521058,
          34.680429,
          34.713135,
          33.786281,
          33.953014,
          33.970724,
          34.204889
         ],
         "legendgroup": "Elementary",
         "lon": [
          -117.94556,
          -117.98267,
          -118.12821,
          -118.14528,
          -118.1866,
          -118.23634,
          -118.25119,
          -118.4606
         ],
         "marker": {
          "color": "#00cc96",
          "size": [
           1,
           1,
           1,
           1,
           1,
           1,
           1,
           1
          ],
          "sizemode": "area",
          "sizeref": 0.0225
         },
         "mode": "markers",
         "name": "Elementary",
         "showlegend": true,
         "subplot": "mapbox",
         "type": "scattermapbox"
        },
        {
         "hovertemplate": "<b>%{hovertext}</b><br><br>School Type=Elementary-High Combination<br>Total Expulsions=%{marker.size}<br>Latitude=%{lat}<br>Longitude=%{lon}<extra></extra>",
         "hovertext": [
          "Benjamin Franklin Senior High",
          "Elizabeth Learning Center",
          "Granada Hills Charter"
         ],
         "lat": [
          34.115417,
          33.962874,
          34.261787
         ],
         "legendgroup": "Elementary-High Combination",
         "lon": [
          -118.19906,
          -118.18249,
          -118.52343
         ],
         "marker": {
          "color": "#ab63fa",
          "size": [
           1,
           1,
           1
          ],
          "sizemode": "area",
          "sizeref": 0.0225
         },
         "mode": "markers",
         "name": "Elementary-High Combination",
         "showlegend": true,
         "subplot": "mapbox",
         "type": "scattermapbox"
        }
       ],
       "layout": {
        "autosize": true,
        "legend": {
         "itemsizing": "constant",
         "title": {
          "text": "School Type"
         },
         "tracegroupgap": 0
        },
        "mapbox": {
         "center": {
          "lat": 34.07513853333333,
          "lon": -118.15328323809526
         },
         "domain": {
          "x": [
           0,
           1
          ],
          "y": [
           0,
           1
          ]
         },
         "style": "stamen-toner",
         "zoom": 8
        },
        "margin": {
         "t": 60
        },
        "template": {
         "data": {
          "bar": [
           {
            "error_x": {
             "color": "#2a3f5f"
            },
            "error_y": {
             "color": "#2a3f5f"
            },
            "marker": {
             "line": {
              "color": "#E5ECF6",
              "width": 0.5
             },
             "pattern": {
              "fillmode": "overlay",
              "size": 10,
              "solidity": 0.2
             }
            },
            "type": "bar"
           }
          ],
          "barpolar": [
           {
            "marker": {
             "line": {
              "color": "#E5ECF6",
              "width": 0.5
             },
             "pattern": {
              "fillmode": "overlay",
              "size": 10,
              "solidity": 0.2
             }
            },
            "type": "barpolar"
           }
          ],
          "carpet": [
           {
            "aaxis": {
             "endlinecolor": "#2a3f5f",
             "gridcolor": "white",
             "linecolor": "white",
             "minorgridcolor": "white",
             "startlinecolor": "#2a3f5f"
            },
            "baxis": {
             "endlinecolor": "#2a3f5f",
             "gridcolor": "white",
             "linecolor": "white",
             "minorgridcolor": "white",
             "startlinecolor": "#2a3f5f"
            },
            "type": "carpet"
           }
          ],
          "choropleth": [
           {
            "colorbar": {
             "outlinewidth": 0,
             "ticks": ""
            },
            "type": "choropleth"
           }
          ],
          "contour": [
           {
            "colorbar": {
             "outlinewidth": 0,
             "ticks": ""
            },
            "colorscale": [
             [
              0,
              "#0d0887"
             ],
             [
              0.1111111111111111,
              "#46039f"
             ],
             [
              0.2222222222222222,
              "#7201a8"
             ],
             [
              0.3333333333333333,
              "#9c179e"
             ],
             [
              0.4444444444444444,
              "#bd3786"
             ],
             [
              0.5555555555555556,
              "#d8576b"
             ],
             [
              0.6666666666666666,
              "#ed7953"
             ],
             [
              0.7777777777777778,
              "#fb9f3a"
             ],
             [
              0.8888888888888888,
              "#fdca26"
             ],
             [
              1,
              "#f0f921"
             ]
            ],
            "type": "contour"
           }
          ],
          "contourcarpet": [
           {
            "colorbar": {
             "outlinewidth": 0,
             "ticks": ""
            },
            "type": "contourcarpet"
           }
          ],
          "heatmap": [
           {
            "colorbar": {
             "outlinewidth": 0,
             "ticks": ""
            },
            "colorscale": [
             [
              0,
              "#0d0887"
             ],
             [
              0.1111111111111111,
              "#46039f"
             ],
             [
              0.2222222222222222,
              "#7201a8"
             ],
             [
              0.3333333333333333,
              "#9c179e"
             ],
             [
              0.4444444444444444,
              "#bd3786"
             ],
             [
              0.5555555555555556,
              "#d8576b"
             ],
             [
              0.6666666666666666,
              "#ed7953"
             ],
             [
              0.7777777777777778,
              "#fb9f3a"
             ],
             [
              0.8888888888888888,
              "#fdca26"
             ],
             [
              1,
              "#f0f921"
             ]
            ],
            "type": "heatmap"
           }
          ],
          "heatmapgl": [
           {
            "colorbar": {
             "outlinewidth": 0,
             "ticks": ""
            },
            "colorscale": [
             [
              0,
              "#0d0887"
             ],
             [
              0.1111111111111111,
              "#46039f"
             ],
             [
              0.2222222222222222,
              "#7201a8"
             ],
             [
              0.3333333333333333,
              "#9c179e"
             ],
             [
              0.4444444444444444,
              "#bd3786"
             ],
             [
              0.5555555555555556,
              "#d8576b"
             ],
             [
              0.6666666666666666,
              "#ed7953"
             ],
             [
              0.7777777777777778,
              "#fb9f3a"
             ],
             [
              0.8888888888888888,
              "#fdca26"
             ],
             [
              1,
              "#f0f921"
             ]
            ],
            "type": "heatmapgl"
           }
          ],
          "histogram": [
           {
            "marker": {
             "pattern": {
              "fillmode": "overlay",
              "size": 10,
              "solidity": 0.2
             }
            },
            "type": "histogram"
           }
          ],
          "histogram2d": [
           {
            "colorbar": {
             "outlinewidth": 0,
             "ticks": ""
            },
            "colorscale": [
             [
              0,
              "#0d0887"
             ],
             [
              0.1111111111111111,
              "#46039f"
             ],
             [
              0.2222222222222222,
              "#7201a8"
             ],
             [
              0.3333333333333333,
              "#9c179e"
             ],
             [
              0.4444444444444444,
              "#bd3786"
             ],
             [
              0.5555555555555556,
              "#d8576b"
             ],
             [
              0.6666666666666666,
              "#ed7953"
             ],
             [
              0.7777777777777778,
              "#fb9f3a"
             ],
             [
              0.8888888888888888,
              "#fdca26"
             ],
             [
              1,
              "#f0f921"
             ]
            ],
            "type": "histogram2d"
           }
          ],
          "histogram2dcontour": [
           {
            "colorbar": {
             "outlinewidth": 0,
             "ticks": ""
            },
            "colorscale": [
             [
              0,
              "#0d0887"
             ],
             [
              0.1111111111111111,
              "#46039f"
             ],
             [
              0.2222222222222222,
              "#7201a8"
             ],
             [
              0.3333333333333333,
              "#9c179e"
             ],
             [
              0.4444444444444444,
              "#bd3786"
             ],
             [
              0.5555555555555556,
              "#d8576b"
             ],
             [
              0.6666666666666666,
              "#ed7953"
             ],
             [
              0.7777777777777778,
              "#fb9f3a"
             ],
             [
              0.8888888888888888,
              "#fdca26"
             ],
             [
              1,
              "#f0f921"
             ]
            ],
            "type": "histogram2dcontour"
           }
          ],
          "mesh3d": [
           {
            "colorbar": {
             "outlinewidth": 0,
             "ticks": ""
            },
            "type": "mesh3d"
           }
          ],
          "parcoords": [
           {
            "line": {
             "colorbar": {
              "outlinewidth": 0,
              "ticks": ""
             }
            },
            "type": "parcoords"
           }
          ],
          "pie": [
           {
            "automargin": true,
            "type": "pie"
           }
          ],
          "scatter": [
           {
            "marker": {
             "colorbar": {
              "outlinewidth": 0,
              "ticks": ""
             }
            },
            "type": "scatter"
           }
          ],
          "scatter3d": [
           {
            "line": {
             "colorbar": {
              "outlinewidth": 0,
              "ticks": ""
             }
            },
            "marker": {
             "colorbar": {
              "outlinewidth": 0,
              "ticks": ""
             }
            },
            "type": "scatter3d"
           }
          ],
          "scattercarpet": [
           {
            "marker": {
             "colorbar": {
              "outlinewidth": 0,
              "ticks": ""
             }
            },
            "type": "scattercarpet"
           }
          ],
          "scattergeo": [
           {
            "marker": {
             "colorbar": {
              "outlinewidth": 0,
              "ticks": ""
             }
            },
            "type": "scattergeo"
           }
          ],
          "scattergl": [
           {
            "marker": {
             "colorbar": {
              "outlinewidth": 0,
              "ticks": ""
             }
            },
            "type": "scattergl"
           }
          ],
          "scattermapbox": [
           {
            "marker": {
             "colorbar": {
              "outlinewidth": 0,
              "ticks": ""
             }
            },
            "type": "scattermapbox"
           }
          ],
          "scatterpolar": [
           {
            "marker": {
             "colorbar": {
              "outlinewidth": 0,
              "ticks": ""
             }
            },
            "type": "scatterpolar"
           }
          ],
          "scatterpolargl": [
           {
            "marker": {
             "colorbar": {
              "outlinewidth": 0,
              "ticks": ""
             }
            },
            "type": "scatterpolargl"
           }
          ],
          "scatterternary": [
           {
            "marker": {
             "colorbar": {
              "outlinewidth": 0,
              "ticks": ""
             }
            },
            "type": "scatterternary"
           }
          ],
          "surface": [
           {
            "colorbar": {
             "outlinewidth": 0,
             "ticks": ""
            },
            "colorscale": [
             [
              0,
              "#0d0887"
             ],
             [
              0.1111111111111111,
              "#46039f"
             ],
             [
              0.2222222222222222,
              "#7201a8"
             ],
             [
              0.3333333333333333,
              "#9c179e"
             ],
             [
              0.4444444444444444,
              "#bd3786"
             ],
             [
              0.5555555555555556,
              "#d8576b"
             ],
             [
              0.6666666666666666,
              "#ed7953"
             ],
             [
              0.7777777777777778,
              "#fb9f3a"
             ],
             [
              0.8888888888888888,
              "#fdca26"
             ],
             [
              1,
              "#f0f921"
             ]
            ],
            "type": "surface"
           }
          ],
          "table": [
           {
            "cells": {
             "fill": {
              "color": "#EBF0F8"
             },
             "line": {
              "color": "white"
             }
            },
            "header": {
             "fill": {
              "color": "#C8D4E3"
             },
             "line": {
              "color": "white"
             }
            },
            "type": "table"
           }
          ]
         },
         "layout": {
          "annotationdefaults": {
           "arrowcolor": "#2a3f5f",
           "arrowhead": 0,
           "arrowwidth": 1
          },
          "autotypenumbers": "strict",
          "coloraxis": {
           "colorbar": {
            "outlinewidth": 0,
            "ticks": ""
           }
          },
          "colorscale": {
           "diverging": [
            [
             0,
             "#8e0152"
            ],
            [
             0.1,
             "#c51b7d"
            ],
            [
             0.2,
             "#de77ae"
            ],
            [
             0.3,
             "#f1b6da"
            ],
            [
             0.4,
             "#fde0ef"
            ],
            [
             0.5,
             "#f7f7f7"
            ],
            [
             0.6,
             "#e6f5d0"
            ],
            [
             0.7,
             "#b8e186"
            ],
            [
             0.8,
             "#7fbc41"
            ],
            [
             0.9,
             "#4d9221"
            ],
            [
             1,
             "#276419"
            ]
           ],
           "sequential": [
            [
             0,
             "#0d0887"
            ],
            [
             0.1111111111111111,
             "#46039f"
            ],
            [
             0.2222222222222222,
             "#7201a8"
            ],
            [
             0.3333333333333333,
             "#9c179e"
            ],
            [
             0.4444444444444444,
             "#bd3786"
            ],
            [
             0.5555555555555556,
             "#d8576b"
            ],
            [
             0.6666666666666666,
             "#ed7953"
            ],
            [
             0.7777777777777778,
             "#fb9f3a"
            ],
            [
             0.8888888888888888,
             "#fdca26"
            ],
            [
             1,
             "#f0f921"
            ]
           ],
           "sequentialminus": [
            [
             0,
             "#0d0887"
            ],
            [
             0.1111111111111111,
             "#46039f"
            ],
            [
             0.2222222222222222,
             "#7201a8"
            ],
            [
             0.3333333333333333,
             "#9c179e"
            ],
            [
             0.4444444444444444,
             "#bd3786"
            ],
            [
             0.5555555555555556,
             "#d8576b"
            ],
            [
             0.6666666666666666,
             "#ed7953"
            ],
            [
             0.7777777777777778,
             "#fb9f3a"
            ],
            [
             0.8888888888888888,
             "#fdca26"
            ],
            [
             1,
             "#f0f921"
            ]
           ]
          },
          "colorway": [
           "#636efa",
           "#EF553B",
           "#00cc96",
           "#ab63fa",
           "#FFA15A",
           "#19d3f3",
           "#FF6692",
           "#B6E880",
           "#FF97FF",
           "#FECB52"
          ],
          "font": {
           "color": "#2a3f5f"
          },
          "geo": {
           "bgcolor": "white",
           "lakecolor": "white",
           "landcolor": "#E5ECF6",
           "showlakes": true,
           "showland": true,
           "subunitcolor": "white"
          },
          "hoverlabel": {
           "align": "left"
          },
          "hovermode": "closest",
          "mapbox": {
           "style": "light"
          },
          "paper_bgcolor": "white",
          "plot_bgcolor": "#E5ECF6",
          "polar": {
           "angularaxis": {
            "gridcolor": "white",
            "linecolor": "white",
            "ticks": ""
           },
           "bgcolor": "#E5ECF6",
           "radialaxis": {
            "gridcolor": "white",
            "linecolor": "white",
            "ticks": ""
           }
          },
          "scene": {
           "xaxis": {
            "backgroundcolor": "#E5ECF6",
            "gridcolor": "white",
            "gridwidth": 2,
            "linecolor": "white",
            "showbackground": true,
            "ticks": "",
            "zerolinecolor": "white"
           },
           "yaxis": {
            "backgroundcolor": "#E5ECF6",
            "gridcolor": "white",
            "gridwidth": 2,
            "linecolor": "white",
            "showbackground": true,
            "ticks": "",
            "zerolinecolor": "white"
           },
           "zaxis": {
            "backgroundcolor": "#E5ECF6",
            "gridcolor": "white",
            "gridwidth": 2,
            "linecolor": "white",
            "showbackground": true,
            "ticks": "",
            "zerolinecolor": "white"
           }
          },
          "shapedefaults": {
           "line": {
            "color": "#2a3f5f"
           }
          },
          "ternary": {
           "aaxis": {
            "gridcolor": "white",
            "linecolor": "white",
            "ticks": ""
           },
           "baxis": {
            "gridcolor": "white",
            "linecolor": "white",
            "ticks": ""
           },
           "bgcolor": "#E5ECF6",
           "caxis": {
            "gridcolor": "white",
            "linecolor": "white",
            "ticks": ""
           }
          },
          "title": {
           "x": 0.05
          },
          "xaxis": {
           "automargin": true,
           "gridcolor": "white",
           "linecolor": "white",
           "ticks": "",
           "title": {
            "standoff": 15
           },
           "zerolinecolor": "white",
           "zerolinewidth": 2
          },
          "yaxis": {
           "automargin": true,
           "gridcolor": "white",
           "linecolor": "white",
           "ticks": "",
           "title": {
            "standoff": 15
           },
           "zerolinecolor": "white",
           "zerolinewidth": 2
          }
         }
        }
       }
      },
      "image/png": "[encoded data removed]",
      "text/html": [
       "<div>                            <div id=\"4b650f53-b34b-46f7-9b53-915436858384\" class=\"plotly-graph-div\" style=\"height:525px; width:100%;\"></div>            <script type=\"text/javascript\">                require([\"plotly\"], function(Plotly) {                    window.PLOTLYENV=window.PLOTLYENV || {};                                    if (document.getElementById(\"4b650f53-b34b-46f7-9b53-915436858384\")) {                    Plotly.newPlot(                        \"4b650f53-b34b-46f7-9b53-915436858384\",                        [{\"hovertemplate\":\"<b>%{hovertext}</b><br><br>School Type=High School<br>Total Expulsions=%{marker.size}<br>Latitude=%{lat}<br>Longitude=%{lon}<extra></extra>\",\"hovertext\":[\"Alhambra High\",\"Mark Keppel High\",\"San Gabriel High\",\"Antelope Valley High\",\"Highland High\",\"Littlerock High\",\"Palmdale High\",\"Quartz Hill High\",\"Arcadia High\",\"Azusa High\",\"Sierra High\",\"Baldwin Park High\",\"Bassett Senior High\",\"Bellflower High\",\"Mayfair High\",\"Somerset Continuation High\",\"Bonita High\",\"Chaparral High (Continuation)\",\"San Dimas High\",\"Hawthorne High\",\"Leuzinger High\",\"R. K. Lloyde High\",\"Charter Oak High\",\"Fairvalley High (Continuation)\",\"Northview High\",\"South Hills High\",\"Duarte High\",\"El Rancho High\",\"Ruben Salazar Continuation\",\"Glen A. Wilson High\",\"La Puente High\",\"William Workman High\",\"Agoura High\",\"Animo Leadership High\",\"Cabrillo High\",\"Jordan High\",\"Lakewood High\",\"Millikan High\",\"Polytechnic High\",\"Bell Senior High\",\"Birmingham Community Charter High\",\"Downtown Business High\",\"Eagle Rock High\",\"Fairfax Senior High\",\"Grover Cleveland Charter High\",\"James Monroe High\",\"John H. Francis Polytechnic\",\"John Marshall Senior High\",\"Nathaniel Narbonne Senior High\",\"San Fernando Senior High\",\"South Gate Senior High\",\"Mira Costa High\",\"John A. Rowland High\",\"Nogales High\",\"South Pasadena Senior High\",\"Temple City High\",\"North High\",\"Shery (Kurt T.) High (Continuation)\",\"South High\",\"Torrance High\",\"West High\",\"California High\",\"Frontier High (Continuation)\",\"La Serna High\",\"Pioneer High\",\"Santa Fe High\",\"Whittier High\"],\"lat\":[34.095262,34.069864,34.091924,34.69911,34.585226,34.572721,34.572775,34.660109,34.130636,34.125392,34.113828,34.083315,34.051475,33.894402,33.86367,33.882868,34.107804,34.117535,34.099307,33.916456,33.90137,33.895165,34.09937,34.101144,34.095751,34.06209,34.136066,33.984147,33.987906,33.995701,34.024827,34.028579,34.15104,33.934769,33.793514,33.872497,33.8379,33.80732,33.787163,33.974658,34.188953,34.062927,34.133337,34.083741,34.218186,34.237885,34.221721,34.107762,33.804075,34.272472,33.954632,33.872932,33.98244,34.010182,34.109915,34.117455,33.865535,33.822861,33.810786,33.831308,33.846515,33.943816,33.952348,33.954826,33.971545,33.940125,33.979818],\"legendgroup\":\"High School\",\"lon\":[-118.1297,-118.11535,-118.10802,-118.13034,-118.174,-117.93595,-118.09194,-118.24003,-118.03865,-117.89936,-117.88658,-117.94995,-117.97642,-118.1131,-118.11714,-118.13755,-117.76729,-117.80643,-117.82293,-118.3629,-118.34687,-118.36599,-117.86137,-117.90455,-117.91104,-117.88263,-117.97128,-118.08696,-118.09082,-117.93796,-117.95549,-117.93744,-118.74948,-118.3477,-118.21559,-118.18592,-118.12318,-118.1117,-118.18496,-118.19031,-118.5049,-118.25101,-118.20603,-118.36072,-118.5491,-118.47637,-118.40408,-118.27756,-118.30731,-118.4421,-118.20975,-118.38948,-117.88431,-117.88703,-118.1532,-118.06422,-118.3357,-118.32388,-118.36524,-118.32114,-118.3667,-118.02427,-118.04392,-117.99605,-118.07874,-118.08998,-118.04411],\"marker\":{\"color\":\"#636efa\",\"size\":[4,1,7,4,9,5,6,3,1,1,1,2,4,5,3,1,1,1,2,4,1,5,2,1,1,2,2,2,4,8,4,1,1,2,2,1,3,2,2,2,3,1,1,1,1,3,1,1,2,1,1,1,4,3,2,1,4,2,1,1,2,2,7,4,8,1,6],\"sizemode\":\"area\",\"sizeref\":0.0225},\"mode\":\"markers\",\"name\":\"High School\",\"showlegend\":true,\"subplot\":\"mapbox\",\"type\":\"scattermapbox\"},{\"hovertemplate\":\"<b>%{hovertext}</b><br><br>School Type=Intermediate/Middle/Junior High<br>Total Expulsions=%{marker.size}<br>Latitude=%{lat}<br>Longitude=%{lon}<extra></extra>\",\"hovertext\":[\"Foothills Middle\",\"Jerry D. Holland Middle\",\"Sierra Vista Junior High\",\"Ramona Middle\",\"Granada Middle\",\"Rivera Middle\",\"Piute Middle\",\"Bancroft Middle\",\"Franklin Classical Middle\",\"Berendo Middle\",\"CDS Secondary\",\"Florence Nightingale Middle\",\"Gaspar De Portola Charter Middle\",\"Henry T. Gage Middle\",\"Hollenbeck Middle\",\"James Madison Middle\",\"Los Angeles Academy Middle\",\"Luther Burbank Middle\",\"Pacoima Middle\",\"Robert Louis Stevenson College and Career Preparatory\",\"South Gate Middle\",\"Walter Reed Middle\",\"Cactus Medical, Health and Technology Magnet Academy\",\"Muscatel Middle\",\"Alvarado Intermediate\",\"Giano Intermediate\",\"J. H. Hull Middle\"],\"lat\":[34.152912,34.098331,34.075854,34.115524,33.923276,33.977556,34.708876,33.839628,33.773409,34.049884,34.033946,34.08659,34.167295,33.981215,34.036431,34.197534,33.991524,34.119309,34.250282,34.026048,33.953333,34.15263,34.565598,34.082605,33.983899,34.016239,33.815597],\"legendgroup\":\"Intermediate/Middle/Junior High\",\"lon\":[-118.02605,-117.96331,-117.9791,-117.78881,-118.00298,-118.0945,-118.12383,-118.12942,-118.1779,-118.29376,-118.2344,-118.21891,-118.54155,-118.21735,-118.21153,-118.416,-118.26324,-118.18357,-118.42322,-118.19237,-118.19795,-118.38556,-118.07065,-118.07555,-117.89518,-117.90772,-118.31713],\"marker\":{\"color\":\"#EF553B\",\"size\":[1,1,2,2,1,1,3,3,1,1,1,1,3,1,1,1,1,1,1,2,1,1,4,1,1,1,1],\"sizemode\":\"area\",\"sizeref\":0.0225},\"mode\":\"markers\",\"name\":\"Intermediate/Middle/Junior High\",\"showlegend\":true,\"subplot\":\"mapbox\",\"type\":\"scattermapbox\"},{\"hovertemplate\":\"<b>%{hovertext}</b><br><br>School Type=Elementary<br>Total Expulsions=%{marker.size}<br>Latitude=%{lat}<br>Longitude=%{lon}<extra></extra>\",\"hovertext\":[\"Fairgrove Academy\",\"Alpine Elementary\",\"Joshua Elementary\",\"Mariposa Elementary\",\"Roosevelt Elementary\",\"Ninety-Second Street Elementary\",\"Parmelee Avenue Elementary\",\"Valerio Street Elementary\"],\"lat\":[34.041859,34.521058,34.680429,34.713135,33.786281,33.953014,33.970724,34.204889],\"legendgroup\":\"Elementary\",\"lon\":[-117.94556,-117.98267,-118.12821,-118.14528,-118.1866,-118.23634,-118.25119,-118.4606],\"marker\":{\"color\":\"#00cc96\",\"size\":[1,1,1,1,1,1,1,1],\"sizemode\":\"area\",\"sizeref\":0.0225},\"mode\":\"markers\",\"name\":\"Elementary\",\"showlegend\":true,\"subplot\":\"mapbox\",\"type\":\"scattermapbox\"},{\"hovertemplate\":\"<b>%{hovertext}</b><br><br>School Type=Elementary-High Combination<br>Total Expulsions=%{marker.size}<br>Latitude=%{lat}<br>Longitude=%{lon}<extra></extra>\",\"hovertext\":[\"Benjamin Franklin Senior High\",\"Elizabeth Learning Center\",\"Granada Hills Charter\"],\"lat\":[34.115417,33.962874,34.261787],\"legendgroup\":\"Elementary-High Combination\",\"lon\":[-118.19906,-118.18249,-118.52343],\"marker\":{\"color\":\"#ab63fa\",\"size\":[1,1,1],\"sizemode\":\"area\",\"sizeref\":0.0225},\"mode\":\"markers\",\"name\":\"Elementary-High Combination\",\"showlegend\":true,\"subplot\":\"mapbox\",\"type\":\"scattermapbox\"}],                        {\"legend\":{\"itemsizing\":\"constant\",\"title\":{\"text\":\"School Type\"},\"tracegroupgap\":0},\"mapbox\":{\"center\":{\"lat\":34.07513853333333,\"lon\":-118.15328323809526},\"domain\":{\"x\":[0.0,1.0],\"y\":[0.0,1.0]},\"style\":\"stamen-toner\",\"zoom\":8},\"margin\":{\"t\":60},\"template\":{\"data\":{\"bar\":[{\"error_x\":{\"color\":\"#2a3f5f\"},\"error_y\":{\"color\":\"#2a3f5f\"},\"marker\":{\"line\":{\"color\":\"#E5ECF6\",\"width\":0.5},\"pattern\":{\"fillmode\":\"overlay\",\"size\":10,\"solidity\":0.2}},\"type\":\"bar\"}],\"barpolar\":[{\"marker\":{\"line\":{\"color\":\"#E5ECF6\",\"width\":0.5},\"pattern\":{\"fillmode\":\"overlay\",\"size\":10,\"solidity\":0.2}},\"type\":\"barpolar\"}],\"carpet\":[{\"aaxis\":{\"endlinecolor\":\"#2a3f5f\",\"gridcolor\":\"white\",\"linecolor\":\"white\",\"minorgridcolor\":\"white\",\"startlinecolor\":\"#2a3f5f\"},\"baxis\":{\"endlinecolor\":\"#2a3f5f\",\"gridcolor\":\"white\",\"linecolor\":\"white\",\"minorgridcolor\":\"white\",\"startlinecolor\":\"#2a3f5f\"},\"type\":\"carpet\"}],\"choropleth\":[{\"colorbar\":{\"outlinewidth\":0,\"ticks\":\"\"},\"type\":\"choropleth\"}],\"contour\":[{\"colorbar\":{\"outlinewidth\":0,\"ticks\":\"\"},\"colorscale\":[[0.0,\"#0d0887\"],[0.1111111111111111,\"#46039f\"],[0.2222222222222222,\"#7201a8\"],[0.3333333333333333,\"#9c179e\"],[0.4444444444444444,\"#bd3786\"],[0.5555555555555556,\"#d8576b\"],[0.6666666666666666,\"#ed7953\"],[0.7777777777777778,\"#fb9f3a\"],[0.8888888888888888,\"#fdca26\"],[1.0,\"#f0f921\"]],\"type\":\"contour\"}],\"contourcarpet\":[{\"colorbar\":{\"outlinewidth\":0,\"ticks\":\"\"},\"type\":\"contourcarpet\"}],\"heatmap\":[{\"colorbar\":{\"outlinewidth\":0,\"ticks\":\"\"},\"colorscale\":[[0.0,\"#0d0887\"],[0.1111111111111111,\"#46039f\"],[0.2222222222222222,\"#7201a8\"],[0.3333333333333333,\"#9c179e\"],[0.4444444444444444,\"#bd3786\"],[0.5555555555555556,\"#d8576b\"],[0.6666666666666666,\"#ed7953\"],[0.7777777777777778,\"#fb9f3a\"],[0.8888888888888888,\"#fdca26\"],[1.0,\"#f0f921\"]],\"type\":\"heatmap\"}],\"heatmapgl\":[{\"colorbar\":{\"outlinewidth\":0,\"ticks\":\"\"},\"colorscale\":[[0.0,\"#0d0887\"],[0.1111111111111111,\"#46039f\"],[0.2222222222222222,\"#7201a8\"],[0.3333333333333333,\"#9c179e\"],[0.4444444444444444,\"#bd3786\"],[0.5555555555555556,\"#d8576b\"],[0.6666666666666666,\"#ed7953\"],[0.7777777777777778,\"#fb9f3a\"],[0.8888888888888888,\"#fdca26\"],[1.0,\"#f0f921\"]],\"type\":\"heatmapgl\"}],\"histogram\":[{\"marker\":{\"pattern\":{\"fillmode\":\"overlay\",\"size\":10,\"solidity\":0.2}},\"type\":\"histogram\"}],\"histogram2d\":[{\"colorbar\":{\"outlinewidth\":0,\"ticks\":\"\"},\"colorscale\":[[0.0,\"#0d0887\"],[0.1111111111111111,\"#46039f\"],[0.2222222222222222,\"#7201a8\"],[0.3333333333333333,\"#9c179e\"],[0.4444444444444444,\"#bd3786\"],[0.5555555555555556,\"#d8576b\"],[0.6666666666666666,\"#ed7953\"],[0.7777777777777778,\"#fb9f3a\"],[0.8888888888888888,\"#fdca26\"],[1.0,\"#f0f921\"]],\"type\":\"histogram2d\"}],\"histogram2dcontour\":[{\"colorbar\":{\"outlinewidth\":0,\"ticks\":\"\"},\"colorscale\":[[0.0,\"#0d0887\"],[0.1111111111111111,\"#46039f\"],[0.2222222222222222,\"#7201a8\"],[0.3333333333333333,\"#9c179e\"],[0.4444444444444444,\"#bd3786\"],[0.5555555555555556,\"#d8576b\"],[0.6666666666666666,\"#ed7953\"],[0.7777777777777778,\"#fb9f3a\"],[0.8888888888888888,\"#fdca26\"],[1.0,\"#f0f921\"]],\"type\":\"histogram2dcontour\"}],\"mesh3d\":[{\"colorbar\":{\"outlinewidth\":0,\"ticks\":\"\"},\"type\":\"mesh3d\"}],\"parcoords\":[{\"line\":{\"colorbar\":{\"outlinewidth\":0,\"ticks\":\"\"}},\"type\":\"parcoords\"}],\"pie\":[{\"automargin\":true,\"type\":\"pie\"}],\"scatter\":[{\"marker\":{\"colorbar\":{\"outlinewidth\":0,\"ticks\":\"\"}},\"type\":\"scatter\"}],\"scatter3d\":[{\"line\":{\"colorbar\":{\"outlinewidth\":0,\"ticks\":\"\"}},\"marker\":{\"colorbar\":{\"outlinewidth\":0,\"ticks\":\"\"}},\"type\":\"scatter3d\"}],\"scattercarpet\":[{\"marker\":{\"colorbar\":{\"outlinewidth\":0,\"ticks\":\"\"}},\"type\":\"scattercarpet\"}],\"scattergeo\":[{\"marker\":{\"colorbar\":{\"outlinewidth\":0,\"ticks\":\"\"}},\"type\":\"scattergeo\"}],\"scattergl\":[{\"marker\":{\"colorbar\":{\"outlinewidth\":0,\"ticks\":\"\"}},\"type\":\"scattergl\"}],\"scattermapbox\":[{\"marker\":{\"colorbar\":{\"outlinewidth\":0,\"ticks\":\"\"}},\"type\":\"scattermapbox\"}],\"scatterpolar\":[{\"marker\":{\"colorbar\":{\"outlinewidth\":0,\"ticks\":\"\"}},\"type\":\"scatterpolar\"}],\"scatterpolargl\":[{\"marker\":{\"colorbar\":{\"outlinewidth\":0,\"ticks\":\"\"}},\"type\":\"scatterpolargl\"}],\"scatterternary\":[{\"marker\":{\"colorbar\":{\"outlinewidth\":0,\"ticks\":\"\"}},\"type\":\"scatterternary\"}],\"surface\":[{\"colorbar\":{\"outlinewidth\":0,\"ticks\":\"\"},\"colorscale\":[[0.0,\"#0d0887\"],[0.1111111111111111,\"#46039f\"],[0.2222222222222222,\"#7201a8\"],[0.3333333333333333,\"#9c179e\"],[0.4444444444444444,\"#bd3786\"],[0.5555555555555556,\"#d8576b\"],[0.6666666666666666,\"#ed7953\"],[0.7777777777777778,\"#fb9f3a\"],[0.8888888888888888,\"#fdca26\"],[1.0,\"#f0f921\"]],\"type\":\"surface\"}],\"table\":[{\"cells\":{\"fill\":{\"color\":\"#EBF0F8\"},\"line\":{\"color\":\"white\"}},\"header\":{\"fill\":{\"color\":\"#C8D4E3\"},\"line\":{\"color\":\"white\"}},\"type\":\"table\"}]},\"layout\":{\"annotationdefaults\":{\"arrowcolor\":\"#2a3f5f\",\"arrowhead\":0,\"arrowwidth\":1},\"autotypenumbers\":\"strict\",\"coloraxis\":{\"colorbar\":{\"outlinewidth\":0,\"ticks\":\"\"}},\"colorscale\":{\"diverging\":[[0,\"#8e0152\"],[0.1,\"#c51b7d\"],[0.2,\"#de77ae\"],[0.3,\"#f1b6da\"],[0.4,\"#fde0ef\"],[0.5,\"#f7f7f7\"],[0.6,\"#e6f5d0\"],[0.7,\"#b8e186\"],[0.8,\"#7fbc41\"],[0.9,\"#4d9221\"],[1,\"#276419\"]],\"sequential\":[[0.0,\"#0d0887\"],[0.1111111111111111,\"#46039f\"],[0.2222222222222222,\"#7201a8\"],[0.3333333333333333,\"#9c179e\"],[0.4444444444444444,\"#bd3786\"],[0.5555555555555556,\"#d8576b\"],[0.6666666666666666,\"#ed7953\"],[0.7777777777777778,\"#fb9f3a\"],[0.8888888888888888,\"#fdca26\"],[1.0,\"#f0f921\"]],\"sequentialminus\":[[0.0,\"#0d0887\"],[0.1111111111111111,\"#46039f\"],[0.2222222222222222,\"#7201a8\"],[0.3333333333333333,\"#9c179e\"],[0.4444444444444444,\"#bd3786\"],[0.5555555555555556,\"#d8576b\"],[0.6666666666666666,\"#ed7953\"],[0.7777777777777778,\"#fb9f3a\"],[0.8888888888888888,\"#fdca26\"],[1.0,\"#f0f921\"]]},\"colorway\":[\"#636efa\",\"#EF553B\",\"#00cc96\",\"#ab63fa\",\"#FFA15A\",\"#19d3f3\",\"#FF6692\",\"#B6E880\",\"#FF97FF\",\"#FECB52\"],\"font\":{\"color\":\"#2a3f5f\"},\"geo\":{\"bgcolor\":\"white\",\"lakecolor\":\"white\",\"landcolor\":\"#E5ECF6\",\"showlakes\":true,\"showland\":true,\"subunitcolor\":\"white\"},\"hoverlabel\":{\"align\":\"left\"},\"hovermode\":\"closest\",\"mapbox\":{\"style\":\"light\"},\"paper_bgcolor\":\"white\",\"plot_bgcolor\":\"#E5ECF6\",\"polar\":{\"angularaxis\":{\"gridcolor\":\"white\",\"linecolor\":\"white\",\"ticks\":\"\"},\"bgcolor\":\"#E5ECF6\",\"radialaxis\":{\"gridcolor\":\"white\",\"linecolor\":\"white\",\"ticks\":\"\"}},\"scene\":{\"xaxis\":{\"backgroundcolor\":\"#E5ECF6\",\"gridcolor\":\"white\",\"gridwidth\":2,\"linecolor\":\"white\",\"showbackground\":true,\"ticks\":\"\",\"zerolinecolor\":\"white\"},\"yaxis\":{\"backgroundcolor\":\"#E5ECF6\",\"gridcolor\":\"white\",\"gridwidth\":2,\"linecolor\":\"white\",\"showbackground\":true,\"ticks\":\"\",\"zerolinecolor\":\"white\"},\"zaxis\":{\"backgroundcolor\":\"#E5ECF6\",\"gridcolor\":\"white\",\"gridwidth\":2,\"linecolor\":\"white\",\"showbackground\":true,\"ticks\":\"\",\"zerolinecolor\":\"white\"}},\"shapedefaults\":{\"line\":{\"color\":\"#2a3f5f\"}},\"ternary\":{\"aaxis\":{\"gridcolor\":\"white\",\"linecolor\":\"white\",\"ticks\":\"\"},\"baxis\":{\"gridcolor\":\"white\",\"linecolor\":\"white\",\"ticks\":\"\"},\"bgcolor\":\"#E5ECF6\",\"caxis\":{\"gridcolor\":\"white\",\"linecolor\":\"white\",\"ticks\":\"\"}},\"title\":{\"x\":0.05},\"xaxis\":{\"automargin\":true,\"gridcolor\":\"white\",\"linecolor\":\"white\",\"ticks\":\"\",\"title\":{\"standoff\":15},\"zerolinecolor\":\"white\",\"zerolinewidth\":2},\"yaxis\":{\"automargin\":true,\"gridcolor\":\"white\",\"linecolor\":\"white\",\"ticks\":\"\",\"title\":{\"standoff\":15},\"zerolinecolor\":\"white\",\"zerolinewidth\":2}}}},                        {\"responsive\": true}                    ).then(function(){\n",
       "                            \n",
       "var gd = document.getElementById('4b650f53-b34b-46f7-9b53-915436858384');\n",
       "var x = new MutationObserver(function (mutations, observer) {{\n",
       "        var display = window.getComputedStyle(gd).display;\n",
       "        if (!display || display === 'none') {{\n",
       "            console.log([gd, 'removed!']);\n",
       "            Plotly.purge(gd);\n",
       "            observer.disconnect();\n",
       "        }}\n",
       "}});\n",
       "\n",
       "// Listen for the removal of the full notebook cells\n",
       "var notebookContainer = gd.closest('#notebook-container');\n",
       "if (notebookContainer) {{\n",
       "    x.observe(notebookContainer, {childList: true});\n",
       "}}\n",
       "\n",
       "// Listen for the clearing of the current output cell\n",
       "var outputEl = gd.closest('.output');\n",
       "if (outputEl) {{\n",
       "    x.observe(outputEl, {childList: true});\n",
       "}}\n",
       "\n",
       "                        })                };                });            </script>        </div>"
      ]
     },
     "metadata": {},
     "output_type": "display_data"
    }
   ],
   "source": [
    "# for interactive plots\n",
    "import plotly.express as px\n",
    "\n",
    "fig = px.scatter_mapbox(expgdf_filtered_final,\n",
    "                        lat='Latitude',\n",
    "                        lon='Longitude',\n",
    "                        mapbox_style=\"stamen-toner\",\n",
    "                        color=\"EILName\",\n",
    "                        labels={'EILName':'School Type'},\n",
    "                       size='Total Expulsions',\n",
    "                       hover_name=\"SchoolName\")\n",
    "fig.show()"
   ]
  },
  {
   "cell_type": "markdown",
   "id": "e4a05911-db89-45b4-afda-2c867942afbc",
   "metadata": {},
   "source": [
    "Next, a bar chart of total expulsion rates for each school:"
   ]
  },
  {
   "cell_type": "code",
   "execution_count": 120,
   "id": "976a3c85-db23-4623-a0de-752c90c20216",
   "metadata": {},
   "outputs": [
    {
     "data": {
      "application/vnd.plotly.v1+json": {
       "config": {
        "plotlyServerURL": "https://plot.ly"
       },
       "data": [
        {
         "alignmentgroup": "True",
         "hovertemplate": "index=%{x}<br>Expulsion Rate (Total)=%{y}<extra></extra>",
         "legendgroup": "",
         "marker": {
          "color": "#636efa",
          "line": {
           "width": 0
          },
          "pattern": {
           "shape": ""
          }
         },
         "name": "",
         "offsetgroup": "",
         "orientation": "v",
         "showlegend": false,
         "textposition": "auto",
         "type": "bar",
         "x": [
          0,
          1,
          2,
          3,
          4,
          5,
          6,
          7,
          8,
          9,
          10,
          11,
          12,
          13,
          14,
          15,
          16,
          17,
          18,
          19,
          20,
          21,
          22,
          23,
          24,
          25,
          26,
          27,
          28,
          29,
          30,
          31,
          32,
          33,
          34,
          35,
          36,
          37,
          38,
          39,
          40,
          41,
          42,
          43,
          44,
          45,
          46,
          47,
          48,
          49,
          50,
          51,
          52,
          53,
          54,
          55,
          56,
          57,
          58,
          59,
          60,
          61,
          62,
          63,
          64,
          65,
          66,
          67,
          68,
          69,
          70,
          71,
          72,
          73,
          74,
          75,
          76,
          77,
          78,
          79,
          80,
          81,
          82,
          83,
          84,
          85,
          86,
          87,
          88,
          89,
          90,
          91,
          92,
          93,
          94,
          95,
          96,
          97,
          98,
          99,
          100,
          101,
          102,
          103,
          104
         ],
         "xaxis": "x",
         "y": [
          0.2,
          0,
          0.3,
          0.2,
          0.3,
          0.3,
          0.2,
          0.1,
          0,
          0.1,
          0.1,
          0.5,
          0.1,
          0.3,
          0.3,
          0.4,
          0.2,
          0.1,
          0.3,
          0.1,
          0.9,
          0.1,
          0.1,
          0.2,
          0.1,
          1.2,
          0.1,
          0.4,
          0.1,
          0.1,
          0.2,
          0.1,
          0.1,
          0.1,
          2,
          0.1,
          0.5,
          0.4,
          0.1,
          0.2,
          0.1,
          0.2,
          0.3,
          0.1,
          0.3,
          0.3,
          0.1,
          0.1,
          0,
          0.1,
          0.1,
          0,
          0.1,
          0.1,
          0.1,
          0.1,
          0.1,
          1.4,
          0.1,
          0,
          0.1,
          0.1,
          0.1,
          0.2,
          0,
          0,
          0.1,
          0.1,
          0.1,
          0.1,
          0,
          0,
          0.1,
          0.1,
          0.1,
          0.1,
          0.1,
          0.1,
          0.2,
          0,
          0.1,
          0,
          0.1,
          0.1,
          0,
          0.4,
          0.2,
          0.1,
          0.2,
          0.2,
          0.2,
          0.1,
          0.1,
          0.1,
          0.2,
          1,
          0,
          0.1,
          0.1,
          0.1,
          1,
          0.1,
          0.6,
          0,
          0.3
         ],
         "yaxis": "y"
        }
       ],
       "layout": {
        "autosize": true,
        "barmode": "relative",
        "legend": {
         "tracegroupgap": 0
        },
        "template": {
         "data": {
          "bar": [
           {
            "error_x": {
             "color": "#2a3f5f"
            },
            "error_y": {
             "color": "#2a3f5f"
            },
            "marker": {
             "line": {
              "color": "#E5ECF6",
              "width": 0.5
             },
             "pattern": {
              "fillmode": "overlay",
              "size": 10,
              "solidity": 0.2
             }
            },
            "type": "bar"
           }
          ],
          "barpolar": [
           {
            "marker": {
             "line": {
              "color": "#E5ECF6",
              "width": 0.5
             },
             "pattern": {
              "fillmode": "overlay",
              "size": 10,
              "solidity": 0.2
             }
            },
            "type": "barpolar"
           }
          ],
          "carpet": [
           {
            "aaxis": {
             "endlinecolor": "#2a3f5f",
             "gridcolor": "white",
             "linecolor": "white",
             "minorgridcolor": "white",
             "startlinecolor": "#2a3f5f"
            },
            "baxis": {
             "endlinecolor": "#2a3f5f",
             "gridcolor": "white",
             "linecolor": "white",
             "minorgridcolor": "white",
             "startlinecolor": "#2a3f5f"
            },
            "type": "carpet"
           }
          ],
          "choropleth": [
           {
            "colorbar": {
             "outlinewidth": 0,
             "ticks": ""
            },
            "type": "choropleth"
           }
          ],
          "contour": [
           {
            "colorbar": {
             "outlinewidth": 0,
             "ticks": ""
            },
            "colorscale": [
             [
              0,
              "#0d0887"
             ],
             [
              0.1111111111111111,
              "#46039f"
             ],
             [
              0.2222222222222222,
              "#7201a8"
             ],
             [
              0.3333333333333333,
              "#9c179e"
             ],
             [
              0.4444444444444444,
              "#bd3786"
             ],
             [
              0.5555555555555556,
              "#d8576b"
             ],
             [
              0.6666666666666666,
              "#ed7953"
             ],
             [
              0.7777777777777778,
              "#fb9f3a"
             ],
             [
              0.8888888888888888,
              "#fdca26"
             ],
             [
              1,
              "#f0f921"
             ]
            ],
            "type": "contour"
           }
          ],
          "contourcarpet": [
           {
            "colorbar": {
             "outlinewidth": 0,
             "ticks": ""
            },
            "type": "contourcarpet"
           }
          ],
          "heatmap": [
           {
            "colorbar": {
             "outlinewidth": 0,
             "ticks": ""
            },
            "colorscale": [
             [
              0,
              "#0d0887"
             ],
             [
              0.1111111111111111,
              "#46039f"
             ],
             [
              0.2222222222222222,
              "#7201a8"
             ],
             [
              0.3333333333333333,
              "#9c179e"
             ],
             [
              0.4444444444444444,
              "#bd3786"
             ],
             [
              0.5555555555555556,
              "#d8576b"
             ],
             [
              0.6666666666666666,
              "#ed7953"
             ],
             [
              0.7777777777777778,
              "#fb9f3a"
             ],
             [
              0.8888888888888888,
              "#fdca26"
             ],
             [
              1,
              "#f0f921"
             ]
            ],
            "type": "heatmap"
           }
          ],
          "heatmapgl": [
           {
            "colorbar": {
             "outlinewidth": 0,
             "ticks": ""
            },
            "colorscale": [
             [
              0,
              "#0d0887"
             ],
             [
              0.1111111111111111,
              "#46039f"
             ],
             [
              0.2222222222222222,
              "#7201a8"
             ],
             [
              0.3333333333333333,
              "#9c179e"
             ],
             [
              0.4444444444444444,
              "#bd3786"
             ],
             [
              0.5555555555555556,
              "#d8576b"
             ],
             [
              0.6666666666666666,
              "#ed7953"
             ],
             [
              0.7777777777777778,
              "#fb9f3a"
             ],
             [
              0.8888888888888888,
              "#fdca26"
             ],
             [
              1,
              "#f0f921"
             ]
            ],
            "type": "heatmapgl"
           }
          ],
          "histogram": [
           {
            "marker": {
             "pattern": {
              "fillmode": "overlay",
              "size": 10,
              "solidity": 0.2
             }
            },
            "type": "histogram"
           }
          ],
          "histogram2d": [
           {
            "colorbar": {
             "outlinewidth": 0,
             "ticks": ""
            },
            "colorscale": [
             [
              0,
              "#0d0887"
             ],
             [
              0.1111111111111111,
              "#46039f"
             ],
             [
              0.2222222222222222,
              "#7201a8"
             ],
             [
              0.3333333333333333,
              "#9c179e"
             ],
             [
              0.4444444444444444,
              "#bd3786"
             ],
             [
              0.5555555555555556,
              "#d8576b"
             ],
             [
              0.6666666666666666,
              "#ed7953"
             ],
             [
              0.7777777777777778,
              "#fb9f3a"
             ],
             [
              0.8888888888888888,
              "#fdca26"
             ],
             [
              1,
              "#f0f921"
             ]
            ],
            "type": "histogram2d"
           }
          ],
          "histogram2dcontour": [
           {
            "colorbar": {
             "outlinewidth": 0,
             "ticks": ""
            },
            "colorscale": [
             [
              0,
              "#0d0887"
             ],
             [
              0.1111111111111111,
              "#46039f"
             ],
             [
              0.2222222222222222,
              "#7201a8"
             ],
             [
              0.3333333333333333,
              "#9c179e"
             ],
             [
              0.4444444444444444,
              "#bd3786"
             ],
             [
              0.5555555555555556,
              "#d8576b"
             ],
             [
              0.6666666666666666,
              "#ed7953"
             ],
             [
              0.7777777777777778,
              "#fb9f3a"
             ],
             [
              0.8888888888888888,
              "#fdca26"
             ],
             [
              1,
              "#f0f921"
             ]
            ],
            "type": "histogram2dcontour"
           }
          ],
          "mesh3d": [
           {
            "colorbar": {
             "outlinewidth": 0,
             "ticks": ""
            },
            "type": "mesh3d"
           }
          ],
          "parcoords": [
           {
            "line": {
             "colorbar": {
              "outlinewidth": 0,
              "ticks": ""
             }
            },
            "type": "parcoords"
           }
          ],
          "pie": [
           {
            "automargin": true,
            "type": "pie"
           }
          ],
          "scatter": [
           {
            "marker": {
             "colorbar": {
              "outlinewidth": 0,
              "ticks": ""
             }
            },
            "type": "scatter"
           }
          ],
          "scatter3d": [
           {
            "line": {
             "colorbar": {
              "outlinewidth": 0,
              "ticks": ""
             }
            },
            "marker": {
             "colorbar": {
              "outlinewidth": 0,
              "ticks": ""
             }
            },
            "type": "scatter3d"
           }
          ],
          "scattercarpet": [
           {
            "marker": {
             "colorbar": {
              "outlinewidth": 0,
              "ticks": ""
             }
            },
            "type": "scattercarpet"
           }
          ],
          "scattergeo": [
           {
            "marker": {
             "colorbar": {
              "outlinewidth": 0,
              "ticks": ""
             }
            },
            "type": "scattergeo"
           }
          ],
          "scattergl": [
           {
            "marker": {
             "colorbar": {
              "outlinewidth": 0,
              "ticks": ""
             }
            },
            "type": "scattergl"
           }
          ],
          "scattermapbox": [
           {
            "marker": {
             "colorbar": {
              "outlinewidth": 0,
              "ticks": ""
             }
            },
            "type": "scattermapbox"
           }
          ],
          "scatterpolar": [
           {
            "marker": {
             "colorbar": {
              "outlinewidth": 0,
              "ticks": ""
             }
            },
            "type": "scatterpolar"
           }
          ],
          "scatterpolargl": [
           {
            "marker": {
             "colorbar": {
              "outlinewidth": 0,
              "ticks": ""
             }
            },
            "type": "scatterpolargl"
           }
          ],
          "scatterternary": [
           {
            "marker": {
             "colorbar": {
              "outlinewidth": 0,
              "ticks": ""
             }
            },
            "type": "scatterternary"
           }
          ],
          "surface": [
           {
            "colorbar": {
             "outlinewidth": 0,
             "ticks": ""
            },
            "colorscale": [
             [
              0,
              "#0d0887"
             ],
             [
              0.1111111111111111,
              "#46039f"
             ],
             [
              0.2222222222222222,
              "#7201a8"
             ],
             [
              0.3333333333333333,
              "#9c179e"
             ],
             [
              0.4444444444444444,
              "#bd3786"
             ],
             [
              0.5555555555555556,
              "#d8576b"
             ],
             [
              0.6666666666666666,
              "#ed7953"
             ],
             [
              0.7777777777777778,
              "#fb9f3a"
             ],
             [
              0.8888888888888888,
              "#fdca26"
             ],
             [
              1,
              "#f0f921"
             ]
            ],
            "type": "surface"
           }
          ],
          "table": [
           {
            "cells": {
             "fill": {
              "color": "#EBF0F8"
             },
             "line": {
              "color": "white"
             }
            },
            "header": {
             "fill": {
              "color": "#C8D4E3"
             },
             "line": {
              "color": "white"
             }
            },
            "type": "table"
           }
          ]
         },
         "layout": {
          "annotationdefaults": {
           "arrowcolor": "#2a3f5f",
           "arrowhead": 0,
           "arrowwidth": 1
          },
          "autotypenumbers": "strict",
          "coloraxis": {
           "colorbar": {
            "outlinewidth": 0,
            "ticks": ""
           }
          },
          "colorscale": {
           "diverging": [
            [
             0,
             "#8e0152"
            ],
            [
             0.1,
             "#c51b7d"
            ],
            [
             0.2,
             "#de77ae"
            ],
            [
             0.3,
             "#f1b6da"
            ],
            [
             0.4,
             "#fde0ef"
            ],
            [
             0.5,
             "#f7f7f7"
            ],
            [
             0.6,
             "#e6f5d0"
            ],
            [
             0.7,
             "#b8e186"
            ],
            [
             0.8,
             "#7fbc41"
            ],
            [
             0.9,
             "#4d9221"
            ],
            [
             1,
             "#276419"
            ]
           ],
           "sequential": [
            [
             0,
             "#0d0887"
            ],
            [
             0.1111111111111111,
             "#46039f"
            ],
            [
             0.2222222222222222,
             "#7201a8"
            ],
            [
             0.3333333333333333,
             "#9c179e"
            ],
            [
             0.4444444444444444,
             "#bd3786"
            ],
            [
             0.5555555555555556,
             "#d8576b"
            ],
            [
             0.6666666666666666,
             "#ed7953"
            ],
            [
             0.7777777777777778,
             "#fb9f3a"
            ],
            [
             0.8888888888888888,
             "#fdca26"
            ],
            [
             1,
             "#f0f921"
            ]
           ],
           "sequentialminus": [
            [
             0,
             "#0d0887"
            ],
            [
             0.1111111111111111,
             "#46039f"
            ],
            [
             0.2222222222222222,
             "#7201a8"
            ],
            [
             0.3333333333333333,
             "#9c179e"
            ],
            [
             0.4444444444444444,
             "#bd3786"
            ],
            [
             0.5555555555555556,
             "#d8576b"
            ],
            [
             0.6666666666666666,
             "#ed7953"
            ],
            [
             0.7777777777777778,
             "#fb9f3a"
            ],
            [
             0.8888888888888888,
             "#fdca26"
            ],
            [
             1,
             "#f0f921"
            ]
           ]
          },
          "colorway": [
           "#636efa",
           "#EF553B",
           "#00cc96",
           "#ab63fa",
           "#FFA15A",
           "#19d3f3",
           "#FF6692",
           "#B6E880",
           "#FF97FF",
           "#FECB52"
          ],
          "font": {
           "color": "#2a3f5f"
          },
          "geo": {
           "bgcolor": "white",
           "lakecolor": "white",
           "landcolor": "#E5ECF6",
           "showlakes": true,
           "showland": true,
           "subunitcolor": "white"
          },
          "hoverlabel": {
           "align": "left"
          },
          "hovermode": "closest",
          "mapbox": {
           "style": "light"
          },
          "paper_bgcolor": "white",
          "plot_bgcolor": "#E5ECF6",
          "polar": {
           "angularaxis": {
            "gridcolor": "white",
            "linecolor": "white",
            "ticks": ""
           },
           "bgcolor": "#E5ECF6",
           "radialaxis": {
            "gridcolor": "white",
            "linecolor": "white",
            "ticks": ""
           }
          },
          "scene": {
           "xaxis": {
            "backgroundcolor": "#E5ECF6",
            "gridcolor": "white",
            "gridwidth": 2,
            "linecolor": "white",
            "showbackground": true,
            "ticks": "",
            "zerolinecolor": "white"
           },
           "yaxis": {
            "backgroundcolor": "#E5ECF6",
            "gridcolor": "white",
            "gridwidth": 2,
            "linecolor": "white",
            "showbackground": true,
            "ticks": "",
            "zerolinecolor": "white"
           },
           "zaxis": {
            "backgroundcolor": "#E5ECF6",
            "gridcolor": "white",
            "gridwidth": 2,
            "linecolor": "white",
            "showbackground": true,
            "ticks": "",
            "zerolinecolor": "white"
           }
          },
          "shapedefaults": {
           "line": {
            "color": "#2a3f5f"
           }
          },
          "ternary": {
           "aaxis": {
            "gridcolor": "white",
            "linecolor": "white",
            "ticks": ""
           },
           "baxis": {
            "gridcolor": "white",
            "linecolor": "white",
            "ticks": ""
           },
           "bgcolor": "#E5ECF6",
           "caxis": {
            "gridcolor": "white",
            "linecolor": "white",
            "ticks": ""
           }
          },
          "title": {
           "x": 0.05
          },
          "xaxis": {
           "automargin": true,
           "gridcolor": "white",
           "linecolor": "white",
           "ticks": "",
           "title": {
            "standoff": 15
           },
           "zerolinecolor": "white",
           "zerolinewidth": 2
          },
          "yaxis": {
           "automargin": true,
           "gridcolor": "white",
           "linecolor": "white",
           "ticks": "",
           "title": {
            "standoff": 15
           },
           "zerolinecolor": "white",
           "zerolinewidth": 2
          }
         }
        },
        "title": {
         "text": "Expulsion Rate (Total) - Percentage"
        },
        "xaxis": {
         "anchor": "y",
         "autorange": true,
         "domain": [
          0,
          1
         ],
         "range": [
          -0.5,
          104.5
         ],
         "title": {
          "text": "index"
         },
         "type": "linear"
        },
        "yaxis": {
         "anchor": "x",
         "autorange": true,
         "domain": [
          0,
          1
         ],
         "range": [
          0,
          2.1052631578947367
         ],
         "title": {
          "text": "Expulsion Rate (Total)"
         },
         "type": "linear"
        }
       }
      },
      "image/png": "[encoded data removed]",
      "text/html": [
       "<div>                            <div id=\"a28e37b8-aceb-4104-b8df-46b7b0eb937a\" class=\"plotly-graph-div\" style=\"height:525px; width:100%;\"></div>            <script type=\"text/javascript\">                require([\"plotly\"], function(Plotly) {                    window.PLOTLYENV=window.PLOTLYENV || {};                                    if (document.getElementById(\"a28e37b8-aceb-4104-b8df-46b7b0eb937a\")) {                    Plotly.newPlot(                        \"a28e37b8-aceb-4104-b8df-46b7b0eb937a\",                        [{\"alignmentgroup\":\"True\",\"hovertemplate\":\"index=%{x}<br>Expulsion Rate (Total)=%{y}<extra></extra>\",\"legendgroup\":\"\",\"marker\":{\"color\":\"#636efa\",\"line\":{\"width\":0},\"pattern\":{\"shape\":\"\"}},\"name\":\"\",\"offsetgroup\":\"\",\"orientation\":\"v\",\"showlegend\":false,\"textposition\":\"auto\",\"type\":\"bar\",\"x\":[0,1,2,3,4,5,6,7,8,9,10,11,12,13,14,15,16,17,18,19,20,21,22,23,24,25,26,27,28,29,30,31,32,33,34,35,36,37,38,39,40,41,42,43,44,45,46,47,48,49,50,51,52,53,54,55,56,57,58,59,60,61,62,63,64,65,66,67,68,69,70,71,72,73,74,75,76,77,78,79,80,81,82,83,84,85,86,87,88,89,90,91,92,93,94,95,96,97,98,99,100,101,102,103,104],\"xaxis\":\"x\",\"y\":[0.2,0.0,0.3,0.2,0.3,0.3,0.2,0.1,0.0,0.1,0.1,0.5,0.1,0.3,0.3,0.4,0.2,0.1,0.3,0.1,0.9,0.1,0.1,0.2,0.1,1.2,0.1,0.4,0.1,0.1,0.2,0.1,0.1,0.1,2.0,0.1,0.5,0.4,0.1,0.2,0.1,0.2,0.3,0.1,0.3,0.3,0.1,0.1,0.0,0.1,0.1,0.0,0.1,0.1,0.1,0.1,0.1,1.4,0.1,0.0,0.1,0.1,0.1,0.2,0.0,0.0,0.1,0.1,0.1,0.1,0.0,0.0,0.1,0.1,0.1,0.1,0.1,0.1,0.2,0.0,0.1,0.0,0.1,0.1,0.0,0.4,0.2,0.1,0.2,0.2,0.2,0.1,0.1,0.1,0.2,1.0,0.0,0.1,0.1,0.1,1.0,0.1,0.6,0.0,0.3],\"yaxis\":\"y\"}],                        {\"barmode\":\"relative\",\"legend\":{\"tracegroupgap\":0},\"template\":{\"data\":{\"bar\":[{\"error_x\":{\"color\":\"#2a3f5f\"},\"error_y\":{\"color\":\"#2a3f5f\"},\"marker\":{\"line\":{\"color\":\"#E5ECF6\",\"width\":0.5},\"pattern\":{\"fillmode\":\"overlay\",\"size\":10,\"solidity\":0.2}},\"type\":\"bar\"}],\"barpolar\":[{\"marker\":{\"line\":{\"color\":\"#E5ECF6\",\"width\":0.5},\"pattern\":{\"fillmode\":\"overlay\",\"size\":10,\"solidity\":0.2}},\"type\":\"barpolar\"}],\"carpet\":[{\"aaxis\":{\"endlinecolor\":\"#2a3f5f\",\"gridcolor\":\"white\",\"linecolor\":\"white\",\"minorgridcolor\":\"white\",\"startlinecolor\":\"#2a3f5f\"},\"baxis\":{\"endlinecolor\":\"#2a3f5f\",\"gridcolor\":\"white\",\"linecolor\":\"white\",\"minorgridcolor\":\"white\",\"startlinecolor\":\"#2a3f5f\"},\"type\":\"carpet\"}],\"choropleth\":[{\"colorbar\":{\"outlinewidth\":0,\"ticks\":\"\"},\"type\":\"choropleth\"}],\"contour\":[{\"colorbar\":{\"outlinewidth\":0,\"ticks\":\"\"},\"colorscale\":[[0.0,\"#0d0887\"],[0.1111111111111111,\"#46039f\"],[0.2222222222222222,\"#7201a8\"],[0.3333333333333333,\"#9c179e\"],[0.4444444444444444,\"#bd3786\"],[0.5555555555555556,\"#d8576b\"],[0.6666666666666666,\"#ed7953\"],[0.7777777777777778,\"#fb9f3a\"],[0.8888888888888888,\"#fdca26\"],[1.0,\"#f0f921\"]],\"type\":\"contour\"}],\"contourcarpet\":[{\"colorbar\":{\"outlinewidth\":0,\"ticks\":\"\"},\"type\":\"contourcarpet\"}],\"heatmap\":[{\"colorbar\":{\"outlinewidth\":0,\"ticks\":\"\"},\"colorscale\":[[0.0,\"#0d0887\"],[0.1111111111111111,\"#46039f\"],[0.2222222222222222,\"#7201a8\"],[0.3333333333333333,\"#9c179e\"],[0.4444444444444444,\"#bd3786\"],[0.5555555555555556,\"#d8576b\"],[0.6666666666666666,\"#ed7953\"],[0.7777777777777778,\"#fb9f3a\"],[0.8888888888888888,\"#fdca26\"],[1.0,\"#f0f921\"]],\"type\":\"heatmap\"}],\"heatmapgl\":[{\"colorbar\":{\"outlinewidth\":0,\"ticks\":\"\"},\"colorscale\":[[0.0,\"#0d0887\"],[0.1111111111111111,\"#46039f\"],[0.2222222222222222,\"#7201a8\"],[0.3333333333333333,\"#9c179e\"],[0.4444444444444444,\"#bd3786\"],[0.5555555555555556,\"#d8576b\"],[0.6666666666666666,\"#ed7953\"],[0.7777777777777778,\"#fb9f3a\"],[0.8888888888888888,\"#fdca26\"],[1.0,\"#f0f921\"]],\"type\":\"heatmapgl\"}],\"histogram\":[{\"marker\":{\"pattern\":{\"fillmode\":\"overlay\",\"size\":10,\"solidity\":0.2}},\"type\":\"histogram\"}],\"histogram2d\":[{\"colorbar\":{\"outlinewidth\":0,\"ticks\":\"\"},\"colorscale\":[[0.0,\"#0d0887\"],[0.1111111111111111,\"#46039f\"],[0.2222222222222222,\"#7201a8\"],[0.3333333333333333,\"#9c179e\"],[0.4444444444444444,\"#bd3786\"],[0.5555555555555556,\"#d8576b\"],[0.6666666666666666,\"#ed7953\"],[0.7777777777777778,\"#fb9f3a\"],[0.8888888888888888,\"#fdca26\"],[1.0,\"#f0f921\"]],\"type\":\"histogram2d\"}],\"histogram2dcontour\":[{\"colorbar\":{\"outlinewidth\":0,\"ticks\":\"\"},\"colorscale\":[[0.0,\"#0d0887\"],[0.1111111111111111,\"#46039f\"],[0.2222222222222222,\"#7201a8\"],[0.3333333333333333,\"#9c179e\"],[0.4444444444444444,\"#bd3786\"],[0.5555555555555556,\"#d8576b\"],[0.6666666666666666,\"#ed7953\"],[0.7777777777777778,\"#fb9f3a\"],[0.8888888888888888,\"#fdca26\"],[1.0,\"#f0f921\"]],\"type\":\"histogram2dcontour\"}],\"mesh3d\":[{\"colorbar\":{\"outlinewidth\":0,\"ticks\":\"\"},\"type\":\"mesh3d\"}],\"parcoords\":[{\"line\":{\"colorbar\":{\"outlinewidth\":0,\"ticks\":\"\"}},\"type\":\"parcoords\"}],\"pie\":[{\"automargin\":true,\"type\":\"pie\"}],\"scatter\":[{\"marker\":{\"colorbar\":{\"outlinewidth\":0,\"ticks\":\"\"}},\"type\":\"scatter\"}],\"scatter3d\":[{\"line\":{\"colorbar\":{\"outlinewidth\":0,\"ticks\":\"\"}},\"marker\":{\"colorbar\":{\"outlinewidth\":0,\"ticks\":\"\"}},\"type\":\"scatter3d\"}],\"scattercarpet\":[{\"marker\":{\"colorbar\":{\"outlinewidth\":0,\"ticks\":\"\"}},\"type\":\"scattercarpet\"}],\"scattergeo\":[{\"marker\":{\"colorbar\":{\"outlinewidth\":0,\"ticks\":\"\"}},\"type\":\"scattergeo\"}],\"scattergl\":[{\"marker\":{\"colorbar\":{\"outlinewidth\":0,\"ticks\":\"\"}},\"type\":\"scattergl\"}],\"scattermapbox\":[{\"marker\":{\"colorbar\":{\"outlinewidth\":0,\"ticks\":\"\"}},\"type\":\"scattermapbox\"}],\"scatterpolar\":[{\"marker\":{\"colorbar\":{\"outlinewidth\":0,\"ticks\":\"\"}},\"type\":\"scatterpolar\"}],\"scatterpolargl\":[{\"marker\":{\"colorbar\":{\"outlinewidth\":0,\"ticks\":\"\"}},\"type\":\"scatterpolargl\"}],\"scatterternary\":[{\"marker\":{\"colorbar\":{\"outlinewidth\":0,\"ticks\":\"\"}},\"type\":\"scatterternary\"}],\"surface\":[{\"colorbar\":{\"outlinewidth\":0,\"ticks\":\"\"},\"colorscale\":[[0.0,\"#0d0887\"],[0.1111111111111111,\"#46039f\"],[0.2222222222222222,\"#7201a8\"],[0.3333333333333333,\"#9c179e\"],[0.4444444444444444,\"#bd3786\"],[0.5555555555555556,\"#d8576b\"],[0.6666666666666666,\"#ed7953\"],[0.7777777777777778,\"#fb9f3a\"],[0.8888888888888888,\"#fdca26\"],[1.0,\"#f0f921\"]],\"type\":\"surface\"}],\"table\":[{\"cells\":{\"fill\":{\"color\":\"#EBF0F8\"},\"line\":{\"color\":\"white\"}},\"header\":{\"fill\":{\"color\":\"#C8D4E3\"},\"line\":{\"color\":\"white\"}},\"type\":\"table\"}]},\"layout\":{\"annotationdefaults\":{\"arrowcolor\":\"#2a3f5f\",\"arrowhead\":0,\"arrowwidth\":1},\"autotypenumbers\":\"strict\",\"coloraxis\":{\"colorbar\":{\"outlinewidth\":0,\"ticks\":\"\"}},\"colorscale\":{\"diverging\":[[0,\"#8e0152\"],[0.1,\"#c51b7d\"],[0.2,\"#de77ae\"],[0.3,\"#f1b6da\"],[0.4,\"#fde0ef\"],[0.5,\"#f7f7f7\"],[0.6,\"#e6f5d0\"],[0.7,\"#b8e186\"],[0.8,\"#7fbc41\"],[0.9,\"#4d9221\"],[1,\"#276419\"]],\"sequential\":[[0.0,\"#0d0887\"],[0.1111111111111111,\"#46039f\"],[0.2222222222222222,\"#7201a8\"],[0.3333333333333333,\"#9c179e\"],[0.4444444444444444,\"#bd3786\"],[0.5555555555555556,\"#d8576b\"],[0.6666666666666666,\"#ed7953\"],[0.7777777777777778,\"#fb9f3a\"],[0.8888888888888888,\"#fdca26\"],[1.0,\"#f0f921\"]],\"sequentialminus\":[[0.0,\"#0d0887\"],[0.1111111111111111,\"#46039f\"],[0.2222222222222222,\"#7201a8\"],[0.3333333333333333,\"#9c179e\"],[0.4444444444444444,\"#bd3786\"],[0.5555555555555556,\"#d8576b\"],[0.6666666666666666,\"#ed7953\"],[0.7777777777777778,\"#fb9f3a\"],[0.8888888888888888,\"#fdca26\"],[1.0,\"#f0f921\"]]},\"colorway\":[\"#636efa\",\"#EF553B\",\"#00cc96\",\"#ab63fa\",\"#FFA15A\",\"#19d3f3\",\"#FF6692\",\"#B6E880\",\"#FF97FF\",\"#FECB52\"],\"font\":{\"color\":\"#2a3f5f\"},\"geo\":{\"bgcolor\":\"white\",\"lakecolor\":\"white\",\"landcolor\":\"#E5ECF6\",\"showlakes\":true,\"showland\":true,\"subunitcolor\":\"white\"},\"hoverlabel\":{\"align\":\"left\"},\"hovermode\":\"closest\",\"mapbox\":{\"style\":\"light\"},\"paper_bgcolor\":\"white\",\"plot_bgcolor\":\"#E5ECF6\",\"polar\":{\"angularaxis\":{\"gridcolor\":\"white\",\"linecolor\":\"white\",\"ticks\":\"\"},\"bgcolor\":\"#E5ECF6\",\"radialaxis\":{\"gridcolor\":\"white\",\"linecolor\":\"white\",\"ticks\":\"\"}},\"scene\":{\"xaxis\":{\"backgroundcolor\":\"#E5ECF6\",\"gridcolor\":\"white\",\"gridwidth\":2,\"linecolor\":\"white\",\"showbackground\":true,\"ticks\":\"\",\"zerolinecolor\":\"white\"},\"yaxis\":{\"backgroundcolor\":\"#E5ECF6\",\"gridcolor\":\"white\",\"gridwidth\":2,\"linecolor\":\"white\",\"showbackground\":true,\"ticks\":\"\",\"zerolinecolor\":\"white\"},\"zaxis\":{\"backgroundcolor\":\"#E5ECF6\",\"gridcolor\":\"white\",\"gridwidth\":2,\"linecolor\":\"white\",\"showbackground\":true,\"ticks\":\"\",\"zerolinecolor\":\"white\"}},\"shapedefaults\":{\"line\":{\"color\":\"#2a3f5f\"}},\"ternary\":{\"aaxis\":{\"gridcolor\":\"white\",\"linecolor\":\"white\",\"ticks\":\"\"},\"baxis\":{\"gridcolor\":\"white\",\"linecolor\":\"white\",\"ticks\":\"\"},\"bgcolor\":\"#E5ECF6\",\"caxis\":{\"gridcolor\":\"white\",\"linecolor\":\"white\",\"ticks\":\"\"}},\"title\":{\"x\":0.05},\"xaxis\":{\"automargin\":true,\"gridcolor\":\"white\",\"linecolor\":\"white\",\"ticks\":\"\",\"title\":{\"standoff\":15},\"zerolinecolor\":\"white\",\"zerolinewidth\":2},\"yaxis\":{\"automargin\":true,\"gridcolor\":\"white\",\"linecolor\":\"white\",\"ticks\":\"\",\"title\":{\"standoff\":15},\"zerolinecolor\":\"white\",\"zerolinewidth\":2}}},\"title\":{\"text\":\"Expulsion Rate (Total) - Percentage\"},\"xaxis\":{\"anchor\":\"y\",\"domain\":[0.0,1.0],\"title\":{\"text\":\"index\"}},\"yaxis\":{\"anchor\":\"x\",\"domain\":[0.0,1.0],\"title\":{\"text\":\"Expulsion Rate (Total)\"}}},                        {\"responsive\": true}                    ).then(function(){\n",
       "                            \n",
       "var gd = document.getElementById('a28e37b8-aceb-4104-b8df-46b7b0eb937a');\n",
       "var x = new MutationObserver(function (mutations, observer) {{\n",
       "        var display = window.getComputedStyle(gd).display;\n",
       "        if (!display || display === 'none') {{\n",
       "            console.log([gd, 'removed!']);\n",
       "            Plotly.purge(gd);\n",
       "            observer.disconnect();\n",
       "        }}\n",
       "}});\n",
       "\n",
       "// Listen for the removal of the full notebook cells\n",
       "var notebookContainer = gd.closest('#notebook-container');\n",
       "if (notebookContainer) {{\n",
       "    x.observe(notebookContainer, {childList: true});\n",
       "}}\n",
       "\n",
       "// Listen for the clearing of the current output cell\n",
       "var outputEl = gd.closest('.output');\n",
       "if (outputEl) {{\n",
       "    x.observe(outputEl, {childList: true});\n",
       "}}\n",
       "\n",
       "                        })                };                });            </script>        </div>"
      ]
     },
     "metadata": {},
     "output_type": "display_data"
    }
   ],
   "source": [
    "# a simple bar chart of expulsion rates\n",
    "fig = px.bar(expgdf_filtered_final,\n",
    "       y='Expulsion Rate (Total)',\n",
    "       title='Expulsion Rate (Total) - Percentage'\n",
    "      )\n",
    "\n",
    "# get rid of white lines inside the bars\n",
    "fig.update_traces(marker_line_width=0)\n",
    "\n",
    "# show the figure\n",
    "fig.show()"
   ]
  },
  {
   "cell_type": "markdown",
   "id": "b8e83a44-0f99-4610-90e8-467ae4ef09e7",
   "metadata": {},
   "source": [
    "I also wanted to see the data broken down by expulsion reason:"
   ]
  },
  {
   "cell_type": "code",
   "execution_count": 121,
   "id": "7f5f15b3-0136-4a69-bf9b-f26df1f5f775",
   "metadata": {},
   "outputs": [
    {
     "data": {
      "application/vnd.plotly.v1+json": {
       "config": {
        "plotlyServerURL": "https://plot.ly"
       },
       "data": [
        {
         "alignmentgroup": "True",
         "hovertemplate": "variable=Expulsion Count Violent Incident (Injury)<br>index=%{x}<br>value=%{y}<extra></extra>",
         "legendgroup": "Expulsion Count Violent Incident (Injury)",
         "marker": {
          "color": "#636efa",
          "pattern": {
           "shape": ""
          }
         },
         "name": "Expulsion Count Violent Incident (Injury)",
         "offsetgroup": "Expulsion Count Violent Incident (Injury)",
         "orientation": "v",
         "showlegend": true,
         "textposition": "auto",
         "type": "bar",
         "x": [
          0,
          1,
          2,
          3,
          4,
          5,
          6,
          7,
          8,
          9,
          10,
          11,
          12,
          13,
          14,
          15,
          16,
          17,
          18,
          19,
          20,
          21,
          22,
          23,
          24,
          25,
          26,
          27,
          28,
          29,
          30,
          31,
          32,
          33,
          34,
          35,
          36,
          37,
          38,
          39,
          40,
          41,
          42,
          43,
          44,
          45,
          46,
          47,
          48,
          49,
          50,
          51,
          52,
          53,
          54,
          55,
          56,
          57,
          58,
          59,
          60,
          61,
          62,
          63,
          64,
          65,
          66,
          67,
          68,
          69,
          70,
          71,
          72,
          73,
          74,
          75,
          76,
          77,
          78,
          79,
          80,
          81,
          82,
          83,
          84,
          85,
          86,
          87,
          88,
          89,
          90,
          91,
          92,
          93,
          94,
          95,
          96,
          97,
          98,
          99,
          100,
          101,
          102,
          103,
          104
         ],
         "xaxis": "x",
         "y": [
          2,
          0,
          0,
          1,
          6,
          2,
          0,
          0,
          0,
          0,
          0,
          0,
          0,
          0,
          0,
          0,
          0,
          1,
          0,
          1,
          0,
          1,
          0,
          1,
          0,
          0,
          1,
          0,
          0,
          0,
          1,
          0,
          0,
          0,
          0,
          0,
          0,
          2,
          0,
          0,
          0,
          0,
          0,
          0,
          0,
          1,
          1,
          0,
          0,
          1,
          1,
          1,
          0,
          0,
          1,
          0,
          0,
          0,
          0,
          0,
          0,
          0,
          0,
          0,
          0,
          0,
          0,
          0,
          0,
          0,
          1,
          0,
          0,
          0,
          1,
          1,
          0,
          0,
          0,
          0,
          1,
          0,
          1,
          0,
          0,
          0,
          1,
          0,
          0,
          1,
          0,
          1,
          0,
          0,
          1,
          0,
          0,
          0,
          0,
          0,
          0,
          1,
          0,
          0,
          0
         ],
         "yaxis": "y"
        },
        {
         "alignmentgroup": "True",
         "hovertemplate": "variable=Expulsion Count Violent Incident (No Injury)<br>index=%{x}<br>value=%{y}<extra></extra>",
         "legendgroup": "Expulsion Count Violent Incident (No Injury)",
         "marker": {
          "color": "#EF553B",
          "pattern": {
           "shape": ""
          }
         },
         "name": "Expulsion Count Violent Incident (No Injury)",
         "offsetgroup": "Expulsion Count Violent Incident (No Injury)",
         "orientation": "v",
         "showlegend": true,
         "textposition": "auto",
         "type": "bar",
         "x": [
          0,
          1,
          2,
          3,
          4,
          5,
          6,
          7,
          8,
          9,
          10,
          11,
          12,
          13,
          14,
          15,
          16,
          17,
          18,
          19,
          20,
          21,
          22,
          23,
          24,
          25,
          26,
          27,
          28,
          29,
          30,
          31,
          32,
          33,
          34,
          35,
          36,
          37,
          38,
          39,
          40,
          41,
          42,
          43,
          44,
          45,
          46,
          47,
          48,
          49,
          50,
          51,
          52,
          53,
          54,
          55,
          56,
          57,
          58,
          59,
          60,
          61,
          62,
          63,
          64,
          65,
          66,
          67,
          68,
          69,
          70,
          71,
          72,
          73,
          74,
          75,
          76,
          77,
          78,
          79,
          80,
          81,
          82,
          83,
          84,
          85,
          86,
          87,
          88,
          89,
          90,
          91,
          92,
          93,
          94,
          95,
          96,
          97,
          98,
          99,
          100,
          101,
          102,
          103,
          104
         ],
         "xaxis": "x",
         "y": [
          0,
          0,
          7,
          1,
          1,
          1,
          2,
          0,
          0,
          1,
          0,
          0,
          0,
          0,
          0,
          2,
          0,
          0,
          0,
          0,
          1,
          1,
          1,
          1,
          0,
          3,
          0,
          0,
          0,
          2,
          0,
          0,
          1,
          1,
          3,
          1,
          1,
          0,
          1,
          1,
          1,
          1,
          2,
          1,
          0,
          1,
          0,
          0,
          1,
          0,
          1,
          1,
          0,
          1,
          0,
          0,
          0,
          0,
          0,
          0,
          0,
          0,
          0,
          0,
          0,
          1,
          0,
          0,
          0,
          1,
          0,
          1,
          0,
          0,
          1,
          0,
          0,
          1,
          0,
          0,
          0,
          0,
          0,
          0,
          0,
          1,
          0,
          1,
          0,
          2,
          1,
          1,
          1,
          1,
          0,
          0,
          1,
          1,
          0,
          0,
          0,
          0,
          0,
          0,
          0
         ],
         "yaxis": "y"
        },
        {
         "alignmentgroup": "True",
         "hovertemplate": "variable=Expulsion Count Weapons Possession<br>index=%{x}<br>value=%{y}<extra></extra>",
         "legendgroup": "Expulsion Count Weapons Possession",
         "marker": {
          "color": "#00cc96",
          "pattern": {
           "shape": ""
          }
         },
         "name": "Expulsion Count Weapons Possession",
         "offsetgroup": "Expulsion Count Weapons Possession",
         "orientation": "v",
         "showlegend": true,
         "textposition": "auto",
         "type": "bar",
         "x": [
          0,
          1,
          2,
          3,
          4,
          5,
          6,
          7,
          8,
          9,
          10,
          11,
          12,
          13,
          14,
          15,
          16,
          17,
          18,
          19,
          20,
          21,
          22,
          23,
          24,
          25,
          26,
          27,
          28,
          29,
          30,
          31,
          32,
          33,
          34,
          35,
          36,
          37,
          38,
          39,
          40,
          41,
          42,
          43,
          44,
          45,
          46,
          47,
          48,
          49,
          50,
          51,
          52,
          53,
          54,
          55,
          56,
          57,
          58,
          59,
          60,
          61,
          62,
          63,
          64,
          65,
          66,
          67,
          68,
          69,
          70,
          71,
          72,
          73,
          74,
          75,
          76,
          77,
          78,
          79,
          80,
          81,
          82,
          83,
          84,
          85,
          86,
          87,
          88,
          89,
          90,
          91,
          92,
          93,
          94,
          95,
          96,
          97,
          98,
          99,
          100,
          101,
          102,
          103,
          104
         ],
         "xaxis": "x",
         "y": [
          1,
          0,
          0,
          2,
          0,
          1,
          2,
          0,
          0,
          0,
          1,
          0,
          2,
          0,
          1,
          0,
          1,
          1,
          1,
          0,
          0,
          0,
          0,
          0,
          0,
          0,
          1,
          1,
          1,
          0,
          0,
          0,
          1,
          0,
          0,
          0,
          1,
          1,
          0,
          0,
          0,
          0,
          1,
          0,
          0,
          1,
          1,
          1,
          0,
          1,
          0,
          0,
          1,
          1,
          0,
          0,
          0,
          0,
          0,
          0,
          0,
          1,
          1,
          0,
          0,
          0,
          1,
          0,
          0,
          0,
          0,
          0,
          1,
          0,
          0,
          0,
          0,
          0,
          0,
          0,
          0,
          0,
          0,
          0,
          0,
          1,
          0,
          0,
          0,
          1,
          0,
          0,
          0,
          0,
          0,
          0,
          0,
          0,
          0,
          1,
          0,
          0,
          0,
          0,
          0
         ],
         "yaxis": "y"
        },
        {
         "alignmentgroup": "True",
         "hovertemplate": "variable=Expulsion Count Illicit Drug-Related<br>index=%{x}<br>value=%{y}<extra></extra>",
         "legendgroup": "Expulsion Count Illicit Drug-Related",
         "marker": {
          "color": "#ab63fa",
          "pattern": {
           "shape": ""
          }
         },
         "name": "Expulsion Count Illicit Drug-Related",
         "offsetgroup": "Expulsion Count Illicit Drug-Related",
         "orientation": "v",
         "showlegend": true,
         "textposition": "auto",
         "type": "bar",
         "x": [
          0,
          1,
          2,
          3,
          4,
          5,
          6,
          7,
          8,
          9,
          10,
          11,
          12,
          13,
          14,
          15,
          16,
          17,
          18,
          19,
          20,
          21,
          22,
          23,
          24,
          25,
          26,
          27,
          28,
          29,
          30,
          31,
          32,
          33,
          34,
          35,
          36,
          37,
          38,
          39,
          40,
          41,
          42,
          43,
          44,
          45,
          46,
          47,
          48,
          49,
          50,
          51,
          52,
          53,
          54,
          55,
          56,
          57,
          58,
          59,
          60,
          61,
          62,
          63,
          64,
          65,
          66,
          67,
          68,
          69,
          70,
          71,
          72,
          73,
          74,
          75,
          76,
          77,
          78,
          79,
          80,
          81,
          82,
          83,
          84,
          85,
          86,
          87,
          88,
          89,
          90,
          91,
          92,
          93,
          94,
          95,
          96,
          97,
          98,
          99,
          100,
          101,
          102,
          103,
          104
         ],
         "xaxis": "x",
         "y": [
          1,
          0,
          0,
          0,
          0,
          1,
          2,
          2,
          0,
          0,
          0,
          1,
          0,
          1,
          1,
          2,
          4,
          1,
          0,
          0,
          0,
          0,
          1,
          2,
          1,
          2,
          0,
          0,
          0,
          0,
          1,
          1,
          0,
          0,
          1,
          0,
          0,
          1,
          0,
          0,
          0,
          0,
          0,
          0,
          2,
          0,
          0,
          0,
          0,
          0,
          0,
          0,
          0,
          0,
          0,
          1,
          3,
          1,
          1,
          1,
          1,
          0,
          0,
          3,
          1,
          0,
          0,
          1,
          1,
          2,
          0,
          0,
          0,
          1,
          0,
          0,
          1,
          0,
          2,
          1,
          0,
          1,
          0,
          1,
          1,
          2,
          0,
          0,
          1,
          0,
          1,
          0,
          0,
          0,
          3,
          2,
          0,
          0,
          2,
          1,
          7,
          3,
          8,
          1,
          6
         ],
         "yaxis": "y"
        },
        {
         "alignmentgroup": "True",
         "hovertemplate": "variable=Expulsion Count Defiance-Only<br>index=%{x}<br>value=%{y}<extra></extra>",
         "legendgroup": "Expulsion Count Defiance-Only",
         "marker": {
          "color": "#FFA15A",
          "pattern": {
           "shape": ""
          }
         },
         "name": "Expulsion Count Defiance-Only",
         "offsetgroup": "Expulsion Count Defiance-Only",
         "orientation": "v",
         "showlegend": true,
         "textposition": "auto",
         "type": "bar",
         "x": [
          0,
          1,
          2,
          3,
          4,
          5,
          6,
          7,
          8,
          9,
          10,
          11,
          12,
          13,
          14,
          15,
          16,
          17,
          18,
          19,
          20,
          21,
          22,
          23,
          24,
          25,
          26,
          27,
          28,
          29,
          30,
          31,
          32,
          33,
          34,
          35,
          36,
          37,
          38,
          39,
          40,
          41,
          42,
          43,
          44,
          45,
          46,
          47,
          48,
          49,
          50,
          51,
          52,
          53,
          54,
          55,
          56,
          57,
          58,
          59,
          60,
          61,
          62,
          63,
          64,
          65,
          66,
          67,
          68,
          69,
          70,
          71,
          72,
          73,
          74,
          75,
          76,
          77,
          78,
          79,
          80,
          81,
          82,
          83,
          84,
          85,
          86,
          87,
          88,
          89,
          90,
          91,
          92,
          93,
          94,
          95,
          96,
          97,
          98,
          99,
          100,
          101,
          102,
          103,
          104
         ],
         "xaxis": "x",
         "y": [
          0,
          0,
          0,
          0,
          0,
          0,
          0,
          0,
          0,
          0,
          0,
          0,
          0,
          0,
          0,
          0,
          0,
          0,
          0,
          0,
          0,
          0,
          0,
          0,
          0,
          0,
          0,
          0,
          0,
          0,
          0,
          0,
          0,
          0,
          0,
          0,
          0,
          0,
          0,
          0,
          0,
          0,
          0,
          0,
          0,
          0,
          0,
          0,
          0,
          0,
          0,
          0,
          0,
          0,
          0,
          0,
          0,
          0,
          0,
          0,
          0,
          0,
          0,
          0,
          0,
          0,
          0,
          0,
          0,
          0,
          0,
          0,
          0,
          0,
          0,
          0,
          0,
          0,
          0,
          0,
          0,
          0,
          0,
          0,
          0,
          0,
          0,
          0,
          0,
          0,
          0,
          0,
          0,
          0,
          0,
          0,
          0,
          0,
          0,
          0,
          0,
          0,
          0,
          0,
          0
         ],
         "yaxis": "y"
        },
        {
         "alignmentgroup": "True",
         "hovertemplate": "variable=Expulsion Count Other Reasons<br>index=%{x}<br>value=%{y}<extra></extra>",
         "legendgroup": "Expulsion Count Other Reasons",
         "marker": {
          "color": "#19d3f3",
          "pattern": {
           "shape": ""
          }
         },
         "name": "Expulsion Count Other Reasons",
         "offsetgroup": "Expulsion Count Other Reasons",
         "orientation": "v",
         "showlegend": true,
         "textposition": "auto",
         "type": "bar",
         "x": [
          0,
          1,
          2,
          3,
          4,
          5,
          6,
          7,
          8,
          9,
          10,
          11,
          12,
          13,
          14,
          15,
          16,
          17,
          18,
          19,
          20,
          21,
          22,
          23,
          24,
          25,
          26,
          27,
          28,
          29,
          30,
          31,
          32,
          33,
          34,
          35,
          36,
          37,
          38,
          39,
          40,
          41,
          42,
          43,
          44,
          45,
          46,
          47,
          48,
          49,
          50,
          51,
          52,
          53,
          54,
          55,
          56,
          57,
          58,
          59,
          60,
          61,
          62,
          63,
          64,
          65,
          66,
          67,
          68,
          69,
          70,
          71,
          72,
          73,
          74,
          75,
          76,
          77,
          78,
          79,
          80,
          81,
          82,
          83,
          84,
          85,
          86,
          87,
          88,
          89,
          90,
          91,
          92,
          93,
          94,
          95,
          96,
          97,
          98,
          99,
          100,
          101,
          102,
          103,
          104
         ],
         "xaxis": "x",
         "y": [
          0,
          1,
          0,
          0,
          2,
          0,
          0,
          1,
          1,
          0,
          0,
          0,
          0,
          0,
          0,
          0,
          0,
          0,
          0,
          0,
          0,
          0,
          0,
          0,
          0,
          0,
          0,
          0,
          0,
          0,
          0,
          0,
          0,
          0,
          0,
          0,
          6,
          0,
          0,
          0,
          0,
          0,
          0,
          0,
          0,
          0,
          0,
          0,
          0,
          1,
          0,
          0,
          0,
          0,
          0,
          0,
          0,
          0,
          0,
          0,
          0,
          0,
          0,
          0,
          0,
          0,
          0,
          0,
          0,
          0,
          0,
          0,
          0,
          0,
          0,
          0,
          0,
          0,
          0,
          0,
          0,
          0,
          0,
          0,
          0,
          0,
          0,
          0,
          0,
          0,
          1,
          0,
          0,
          0,
          0,
          0,
          0,
          0,
          0,
          0,
          0,
          0,
          0,
          0,
          0
         ],
         "yaxis": "y"
        }
       ],
       "layout": {
        "autosize": true,
        "barmode": "relative",
        "legend": {
         "title": {
          "text": "variable"
         },
         "tracegroupgap": 0
        },
        "template": {
         "data": {
          "bar": [
           {
            "error_x": {
             "color": "#2a3f5f"
            },
            "error_y": {
             "color": "#2a3f5f"
            },
            "marker": {
             "line": {
              "color": "#E5ECF6",
              "width": 0.5
             },
             "pattern": {
              "fillmode": "overlay",
              "size": 10,
              "solidity": 0.2
             }
            },
            "type": "bar"
           }
          ],
          "barpolar": [
           {
            "marker": {
             "line": {
              "color": "#E5ECF6",
              "width": 0.5
             },
             "pattern": {
              "fillmode": "overlay",
              "size": 10,
              "solidity": 0.2
             }
            },
            "type": "barpolar"
           }
          ],
          "carpet": [
           {
            "aaxis": {
             "endlinecolor": "#2a3f5f",
             "gridcolor": "white",
             "linecolor": "white",
             "minorgridcolor": "white",
             "startlinecolor": "#2a3f5f"
            },
            "baxis": {
             "endlinecolor": "#2a3f5f",
             "gridcolor": "white",
             "linecolor": "white",
             "minorgridcolor": "white",
             "startlinecolor": "#2a3f5f"
            },
            "type": "carpet"
           }
          ],
          "choropleth": [
           {
            "colorbar": {
             "outlinewidth": 0,
             "ticks": ""
            },
            "type": "choropleth"
           }
          ],
          "contour": [
           {
            "colorbar": {
             "outlinewidth": 0,
             "ticks": ""
            },
            "colorscale": [
             [
              0,
              "#0d0887"
             ],
             [
              0.1111111111111111,
              "#46039f"
             ],
             [
              0.2222222222222222,
              "#7201a8"
             ],
             [
              0.3333333333333333,
              "#9c179e"
             ],
             [
              0.4444444444444444,
              "#bd3786"
             ],
             [
              0.5555555555555556,
              "#d8576b"
             ],
             [
              0.6666666666666666,
              "#ed7953"
             ],
             [
              0.7777777777777778,
              "#fb9f3a"
             ],
             [
              0.8888888888888888,
              "#fdca26"
             ],
             [
              1,
              "#f0f921"
             ]
            ],
            "type": "contour"
           }
          ],
          "contourcarpet": [
           {
            "colorbar": {
             "outlinewidth": 0,
             "ticks": ""
            },
            "type": "contourcarpet"
           }
          ],
          "heatmap": [
           {
            "colorbar": {
             "outlinewidth": 0,
             "ticks": ""
            },
            "colorscale": [
             [
              0,
              "#0d0887"
             ],
             [
              0.1111111111111111,
              "#46039f"
             ],
             [
              0.2222222222222222,
              "#7201a8"
             ],
             [
              0.3333333333333333,
              "#9c179e"
             ],
             [
              0.4444444444444444,
              "#bd3786"
             ],
             [
              0.5555555555555556,
              "#d8576b"
             ],
             [
              0.6666666666666666,
              "#ed7953"
             ],
             [
              0.7777777777777778,
              "#fb9f3a"
             ],
             [
              0.8888888888888888,
              "#fdca26"
             ],
             [
              1,
              "#f0f921"
             ]
            ],
            "type": "heatmap"
           }
          ],
          "heatmapgl": [
           {
            "colorbar": {
             "outlinewidth": 0,
             "ticks": ""
            },
            "colorscale": [
             [
              0,
              "#0d0887"
             ],
             [
              0.1111111111111111,
              "#46039f"
             ],
             [
              0.2222222222222222,
              "#7201a8"
             ],
             [
              0.3333333333333333,
              "#9c179e"
             ],
             [
              0.4444444444444444,
              "#bd3786"
             ],
             [
              0.5555555555555556,
              "#d8576b"
             ],
             [
              0.6666666666666666,
              "#ed7953"
             ],
             [
              0.7777777777777778,
              "#fb9f3a"
             ],
             [
              0.8888888888888888,
              "#fdca26"
             ],
             [
              1,
              "#f0f921"
             ]
            ],
            "type": "heatmapgl"
           }
          ],
          "histogram": [
           {
            "marker": {
             "pattern": {
              "fillmode": "overlay",
              "size": 10,
              "solidity": 0.2
             }
            },
            "type": "histogram"
           }
          ],
          "histogram2d": [
           {
            "colorbar": {
             "outlinewidth": 0,
             "ticks": ""
            },
            "colorscale": [
             [
              0,
              "#0d0887"
             ],
             [
              0.1111111111111111,
              "#46039f"
             ],
             [
              0.2222222222222222,
              "#7201a8"
             ],
             [
              0.3333333333333333,
              "#9c179e"
             ],
             [
              0.4444444444444444,
              "#bd3786"
             ],
             [
              0.5555555555555556,
              "#d8576b"
             ],
             [
              0.6666666666666666,
              "#ed7953"
             ],
             [
              0.7777777777777778,
              "#fb9f3a"
             ],
             [
              0.8888888888888888,
              "#fdca26"
             ],
             [
              1,
              "#f0f921"
             ]
            ],
            "type": "histogram2d"
           }
          ],
          "histogram2dcontour": [
           {
            "colorbar": {
             "outlinewidth": 0,
             "ticks": ""
            },
            "colorscale": [
             [
              0,
              "#0d0887"
             ],
             [
              0.1111111111111111,
              "#46039f"
             ],
             [
              0.2222222222222222,
              "#7201a8"
             ],
             [
              0.3333333333333333,
              "#9c179e"
             ],
             [
              0.4444444444444444,
              "#bd3786"
             ],
             [
              0.5555555555555556,
              "#d8576b"
             ],
             [
              0.6666666666666666,
              "#ed7953"
             ],
             [
              0.7777777777777778,
              "#fb9f3a"
             ],
             [
              0.8888888888888888,
              "#fdca26"
             ],
             [
              1,
              "#f0f921"
             ]
            ],
            "type": "histogram2dcontour"
           }
          ],
          "mesh3d": [
           {
            "colorbar": {
             "outlinewidth": 0,
             "ticks": ""
            },
            "type": "mesh3d"
           }
          ],
          "parcoords": [
           {
            "line": {
             "colorbar": {
              "outlinewidth": 0,
              "ticks": ""
             }
            },
            "type": "parcoords"
           }
          ],
          "pie": [
           {
            "automargin": true,
            "type": "pie"
           }
          ],
          "scatter": [
           {
            "marker": {
             "colorbar": {
              "outlinewidth": 0,
              "ticks": ""
             }
            },
            "type": "scatter"
           }
          ],
          "scatter3d": [
           {
            "line": {
             "colorbar": {
              "outlinewidth": 0,
              "ticks": ""
             }
            },
            "marker": {
             "colorbar": {
              "outlinewidth": 0,
              "ticks": ""
             }
            },
            "type": "scatter3d"
           }
          ],
          "scattercarpet": [
           {
            "marker": {
             "colorbar": {
              "outlinewidth": 0,
              "ticks": ""
             }
            },
            "type": "scattercarpet"
           }
          ],
          "scattergeo": [
           {
            "marker": {
             "colorbar": {
              "outlinewidth": 0,
              "ticks": ""
             }
            },
            "type": "scattergeo"
           }
          ],
          "scattergl": [
           {
            "marker": {
             "colorbar": {
              "outlinewidth": 0,
              "ticks": ""
             }
            },
            "type": "scattergl"
           }
          ],
          "scattermapbox": [
           {
            "marker": {
             "colorbar": {
              "outlinewidth": 0,
              "ticks": ""
             }
            },
            "type": "scattermapbox"
           }
          ],
          "scatterpolar": [
           {
            "marker": {
             "colorbar": {
              "outlinewidth": 0,
              "ticks": ""
             }
            },
            "type": "scatterpolar"
           }
          ],
          "scatterpolargl": [
           {
            "marker": {
             "colorbar": {
              "outlinewidth": 0,
              "ticks": ""
             }
            },
            "type": "scatterpolargl"
           }
          ],
          "scatterternary": [
           {
            "marker": {
             "colorbar": {
              "outlinewidth": 0,
              "ticks": ""
             }
            },
            "type": "scatterternary"
           }
          ],
          "surface": [
           {
            "colorbar": {
             "outlinewidth": 0,
             "ticks": ""
            },
            "colorscale": [
             [
              0,
              "#0d0887"
             ],
             [
              0.1111111111111111,
              "#46039f"
             ],
             [
              0.2222222222222222,
              "#7201a8"
             ],
             [
              0.3333333333333333,
              "#9c179e"
             ],
             [
              0.4444444444444444,
              "#bd3786"
             ],
             [
              0.5555555555555556,
              "#d8576b"
             ],
             [
              0.6666666666666666,
              "#ed7953"
             ],
             [
              0.7777777777777778,
              "#fb9f3a"
             ],
             [
              0.8888888888888888,
              "#fdca26"
             ],
             [
              1,
              "#f0f921"
             ]
            ],
            "type": "surface"
           }
          ],
          "table": [
           {
            "cells": {
             "fill": {
              "color": "#EBF0F8"
             },
             "line": {
              "color": "white"
             }
            },
            "header": {
             "fill": {
              "color": "#C8D4E3"
             },
             "line": {
              "color": "white"
             }
            },
            "type": "table"
           }
          ]
         },
         "layout": {
          "annotationdefaults": {
           "arrowcolor": "#2a3f5f",
           "arrowhead": 0,
           "arrowwidth": 1
          },
          "autotypenumbers": "strict",
          "coloraxis": {
           "colorbar": {
            "outlinewidth": 0,
            "ticks": ""
           }
          },
          "colorscale": {
           "diverging": [
            [
             0,
             "#8e0152"
            ],
            [
             0.1,
             "#c51b7d"
            ],
            [
             0.2,
             "#de77ae"
            ],
            [
             0.3,
             "#f1b6da"
            ],
            [
             0.4,
             "#fde0ef"
            ],
            [
             0.5,
             "#f7f7f7"
            ],
            [
             0.6,
             "#e6f5d0"
            ],
            [
             0.7,
             "#b8e186"
            ],
            [
             0.8,
             "#7fbc41"
            ],
            [
             0.9,
             "#4d9221"
            ],
            [
             1,
             "#276419"
            ]
           ],
           "sequential": [
            [
             0,
             "#0d0887"
            ],
            [
             0.1111111111111111,
             "#46039f"
            ],
            [
             0.2222222222222222,
             "#7201a8"
            ],
            [
             0.3333333333333333,
             "#9c179e"
            ],
            [
             0.4444444444444444,
             "#bd3786"
            ],
            [
             0.5555555555555556,
             "#d8576b"
            ],
            [
             0.6666666666666666,
             "#ed7953"
            ],
            [
             0.7777777777777778,
             "#fb9f3a"
            ],
            [
             0.8888888888888888,
             "#fdca26"
            ],
            [
             1,
             "#f0f921"
            ]
           ],
           "sequentialminus": [
            [
             0,
             "#0d0887"
            ],
            [
             0.1111111111111111,
             "#46039f"
            ],
            [
             0.2222222222222222,
             "#7201a8"
            ],
            [
             0.3333333333333333,
             "#9c179e"
            ],
            [
             0.4444444444444444,
             "#bd3786"
            ],
            [
             0.5555555555555556,
             "#d8576b"
            ],
            [
             0.6666666666666666,
             "#ed7953"
            ],
            [
             0.7777777777777778,
             "#fb9f3a"
            ],
            [
             0.8888888888888888,
             "#fdca26"
            ],
            [
             1,
             "#f0f921"
            ]
           ]
          },
          "colorway": [
           "#636efa",
           "#EF553B",
           "#00cc96",
           "#ab63fa",
           "#FFA15A",
           "#19d3f3",
           "#FF6692",
           "#B6E880",
           "#FF97FF",
           "#FECB52"
          ],
          "font": {
           "color": "#2a3f5f"
          },
          "geo": {
           "bgcolor": "white",
           "lakecolor": "white",
           "landcolor": "#E5ECF6",
           "showlakes": true,
           "showland": true,
           "subunitcolor": "white"
          },
          "hoverlabel": {
           "align": "left"
          },
          "hovermode": "closest",
          "mapbox": {
           "style": "light"
          },
          "paper_bgcolor": "white",
          "plot_bgcolor": "#E5ECF6",
          "polar": {
           "angularaxis": {
            "gridcolor": "white",
            "linecolor": "white",
            "ticks": ""
           },
           "bgcolor": "#E5ECF6",
           "radialaxis": {
            "gridcolor": "white",
            "linecolor": "white",
            "ticks": ""
           }
          },
          "scene": {
           "xaxis": {
            "backgroundcolor": "#E5ECF6",
            "gridcolor": "white",
            "gridwidth": 2,
            "linecolor": "white",
            "showbackground": true,
            "ticks": "",
            "zerolinecolor": "white"
           },
           "yaxis": {
            "backgroundcolor": "#E5ECF6",
            "gridcolor": "white",
            "gridwidth": 2,
            "linecolor": "white",
            "showbackground": true,
            "ticks": "",
            "zerolinecolor": "white"
           },
           "zaxis": {
            "backgroundcolor": "#E5ECF6",
            "gridcolor": "white",
            "gridwidth": 2,
            "linecolor": "white",
            "showbackground": true,
            "ticks": "",
            "zerolinecolor": "white"
           }
          },
          "shapedefaults": {
           "line": {
            "color": "#2a3f5f"
           }
          },
          "ternary": {
           "aaxis": {
            "gridcolor": "white",
            "linecolor": "white",
            "ticks": ""
           },
           "baxis": {
            "gridcolor": "white",
            "linecolor": "white",
            "ticks": ""
           },
           "bgcolor": "#E5ECF6",
           "caxis": {
            "gridcolor": "white",
            "linecolor": "white",
            "ticks": ""
           }
          },
          "title": {
           "x": 0.05
          },
          "xaxis": {
           "automargin": true,
           "gridcolor": "white",
           "linecolor": "white",
           "ticks": "",
           "title": {
            "standoff": 15
           },
           "zerolinecolor": "white",
           "zerolinewidth": 2
          },
          "yaxis": {
           "automargin": true,
           "gridcolor": "white",
           "linecolor": "white",
           "ticks": "",
           "title": {
            "standoff": 15
           },
           "zerolinecolor": "white",
           "zerolinewidth": 2
          }
         }
        },
        "title": {
         "text": "Expulsion Counts"
        },
        "xaxis": {
         "anchor": "y",
         "autorange": true,
         "domain": [
          0,
          1
         ],
         "range": [
          -0.5,
          104.5
         ],
         "title": {
          "text": "index"
         },
         "type": "linear"
        },
        "yaxis": {
         "anchor": "x",
         "autorange": true,
         "domain": [
          0,
          1
         ],
         "range": [
          0,
          9.473684210526315
         ],
         "title": {
          "text": "value"
         },
         "type": "linear"
        }
       }
      },
      "image/png": "[encoded data removed]",
      "text/html": [
       "<div>                            <div id=\"9e5086d6-41b1-495b-a2ca-fed6e65bda29\" class=\"plotly-graph-div\" style=\"height:525px; width:100%;\"></div>            <script type=\"text/javascript\">                require([\"plotly\"], function(Plotly) {                    window.PLOTLYENV=window.PLOTLYENV || {};                                    if (document.getElementById(\"9e5086d6-41b1-495b-a2ca-fed6e65bda29\")) {                    Plotly.newPlot(                        \"9e5086d6-41b1-495b-a2ca-fed6e65bda29\",                        [{\"alignmentgroup\":\"True\",\"hovertemplate\":\"variable=Expulsion Count Violent Incident (Injury)<br>index=%{x}<br>value=%{y}<extra></extra>\",\"legendgroup\":\"Expulsion Count Violent Incident (Injury)\",\"marker\":{\"color\":\"#636efa\",\"pattern\":{\"shape\":\"\"}},\"name\":\"Expulsion Count Violent Incident (Injury)\",\"offsetgroup\":\"Expulsion Count Violent Incident (Injury)\",\"orientation\":\"v\",\"showlegend\":true,\"textposition\":\"auto\",\"type\":\"bar\",\"x\":[0,1,2,3,4,5,6,7,8,9,10,11,12,13,14,15,16,17,18,19,20,21,22,23,24,25,26,27,28,29,30,31,32,33,34,35,36,37,38,39,40,41,42,43,44,45,46,47,48,49,50,51,52,53,54,55,56,57,58,59,60,61,62,63,64,65,66,67,68,69,70,71,72,73,74,75,76,77,78,79,80,81,82,83,84,85,86,87,88,89,90,91,92,93,94,95,96,97,98,99,100,101,102,103,104],\"xaxis\":\"x\",\"y\":[2,0,0,1,6,2,0,0,0,0,0,0,0,0,0,0,0,1,0,1,0,1,0,1,0,0,1,0,0,0,1,0,0,0,0,0,0,2,0,0,0,0,0,0,0,1,1,0,0,1,1,1,0,0,1,0,0,0,0,0,0,0,0,0,0,0,0,0,0,0,1,0,0,0,1,1,0,0,0,0,1,0,1,0,0,0,1,0,0,1,0,1,0,0,1,0,0,0,0,0,0,1,0,0,0],\"yaxis\":\"y\"},{\"alignmentgroup\":\"True\",\"hovertemplate\":\"variable=Expulsion Count Violent Incident (No Injury)<br>index=%{x}<br>value=%{y}<extra></extra>\",\"legendgroup\":\"Expulsion Count Violent Incident (No Injury)\",\"marker\":{\"color\":\"#EF553B\",\"pattern\":{\"shape\":\"\"}},\"name\":\"Expulsion Count Violent Incident (No Injury)\",\"offsetgroup\":\"Expulsion Count Violent Incident (No Injury)\",\"orientation\":\"v\",\"showlegend\":true,\"textposition\":\"auto\",\"type\":\"bar\",\"x\":[0,1,2,3,4,5,6,7,8,9,10,11,12,13,14,15,16,17,18,19,20,21,22,23,24,25,26,27,28,29,30,31,32,33,34,35,36,37,38,39,40,41,42,43,44,45,46,47,48,49,50,51,52,53,54,55,56,57,58,59,60,61,62,63,64,65,66,67,68,69,70,71,72,73,74,75,76,77,78,79,80,81,82,83,84,85,86,87,88,89,90,91,92,93,94,95,96,97,98,99,100,101,102,103,104],\"xaxis\":\"x\",\"y\":[0,0,7,1,1,1,2,0,0,1,0,0,0,0,0,2,0,0,0,0,1,1,1,1,0,3,0,0,0,2,0,0,1,1,3,1,1,0,1,1,1,1,2,1,0,1,0,0,1,0,1,1,0,1,0,0,0,0,0,0,0,0,0,0,0,1,0,0,0,1,0,1,0,0,1,0,0,1,0,0,0,0,0,0,0,1,0,1,0,2,1,1,1,1,0,0,1,1,0,0,0,0,0,0,0],\"yaxis\":\"y\"},{\"alignmentgroup\":\"True\",\"hovertemplate\":\"variable=Expulsion Count Weapons Possession<br>index=%{x}<br>value=%{y}<extra></extra>\",\"legendgroup\":\"Expulsion Count Weapons Possession\",\"marker\":{\"color\":\"#00cc96\",\"pattern\":{\"shape\":\"\"}},\"name\":\"Expulsion Count Weapons Possession\",\"offsetgroup\":\"Expulsion Count Weapons Possession\",\"orientation\":\"v\",\"showlegend\":true,\"textposition\":\"auto\",\"type\":\"bar\",\"x\":[0,1,2,3,4,5,6,7,8,9,10,11,12,13,14,15,16,17,18,19,20,21,22,23,24,25,26,27,28,29,30,31,32,33,34,35,36,37,38,39,40,41,42,43,44,45,46,47,48,49,50,51,52,53,54,55,56,57,58,59,60,61,62,63,64,65,66,67,68,69,70,71,72,73,74,75,76,77,78,79,80,81,82,83,84,85,86,87,88,89,90,91,92,93,94,95,96,97,98,99,100,101,102,103,104],\"xaxis\":\"x\",\"y\":[1,0,0,2,0,1,2,0,0,0,1,0,2,0,1,0,1,1,1,0,0,0,0,0,0,0,1,1,1,0,0,0,1,0,0,0,1,1,0,0,0,0,1,0,0,1,1,1,0,1,0,0,1,1,0,0,0,0,0,0,0,1,1,0,0,0,1,0,0,0,0,0,1,0,0,0,0,0,0,0,0,0,0,0,0,1,0,0,0,1,0,0,0,0,0,0,0,0,0,1,0,0,0,0,0],\"yaxis\":\"y\"},{\"alignmentgroup\":\"True\",\"hovertemplate\":\"variable=Expulsion Count Illicit Drug-Related<br>index=%{x}<br>value=%{y}<extra></extra>\",\"legendgroup\":\"Expulsion Count Illicit Drug-Related\",\"marker\":{\"color\":\"#ab63fa\",\"pattern\":{\"shape\":\"\"}},\"name\":\"Expulsion Count Illicit Drug-Related\",\"offsetgroup\":\"Expulsion Count Illicit Drug-Related\",\"orientation\":\"v\",\"showlegend\":true,\"textposition\":\"auto\",\"type\":\"bar\",\"x\":[0,1,2,3,4,5,6,7,8,9,10,11,12,13,14,15,16,17,18,19,20,21,22,23,24,25,26,27,28,29,30,31,32,33,34,35,36,37,38,39,40,41,42,43,44,45,46,47,48,49,50,51,52,53,54,55,56,57,58,59,60,61,62,63,64,65,66,67,68,69,70,71,72,73,74,75,76,77,78,79,80,81,82,83,84,85,86,87,88,89,90,91,92,93,94,95,96,97,98,99,100,101,102,103,104],\"xaxis\":\"x\",\"y\":[1,0,0,0,0,1,2,2,0,0,0,1,0,1,1,2,4,1,0,0,0,0,1,2,1,2,0,0,0,0,1,1,0,0,1,0,0,1,0,0,0,0,0,0,2,0,0,0,0,0,0,0,0,0,0,1,3,1,1,1,1,0,0,3,1,0,0,1,1,2,0,0,0,1,0,0,1,0,2,1,0,1,0,1,1,2,0,0,1,0,1,0,0,0,3,2,0,0,2,1,7,3,8,1,6],\"yaxis\":\"y\"},{\"alignmentgroup\":\"True\",\"hovertemplate\":\"variable=Expulsion Count Defiance-Only<br>index=%{x}<br>value=%{y}<extra></extra>\",\"legendgroup\":\"Expulsion Count Defiance-Only\",\"marker\":{\"color\":\"#FFA15A\",\"pattern\":{\"shape\":\"\"}},\"name\":\"Expulsion Count Defiance-Only\",\"offsetgroup\":\"Expulsion Count Defiance-Only\",\"orientation\":\"v\",\"showlegend\":true,\"textposition\":\"auto\",\"type\":\"bar\",\"x\":[0,1,2,3,4,5,6,7,8,9,10,11,12,13,14,15,16,17,18,19,20,21,22,23,24,25,26,27,28,29,30,31,32,33,34,35,36,37,38,39,40,41,42,43,44,45,46,47,48,49,50,51,52,53,54,55,56,57,58,59,60,61,62,63,64,65,66,67,68,69,70,71,72,73,74,75,76,77,78,79,80,81,82,83,84,85,86,87,88,89,90,91,92,93,94,95,96,97,98,99,100,101,102,103,104],\"xaxis\":\"x\",\"y\":[0,0,0,0,0,0,0,0,0,0,0,0,0,0,0,0,0,0,0,0,0,0,0,0,0,0,0,0,0,0,0,0,0,0,0,0,0,0,0,0,0,0,0,0,0,0,0,0,0,0,0,0,0,0,0,0,0,0,0,0,0,0,0,0,0,0,0,0,0,0,0,0,0,0,0,0,0,0,0,0,0,0,0,0,0,0,0,0,0,0,0,0,0,0,0,0,0,0,0,0,0,0,0,0,0],\"yaxis\":\"y\"},{\"alignmentgroup\":\"True\",\"hovertemplate\":\"variable=Expulsion Count Other Reasons<br>index=%{x}<br>value=%{y}<extra></extra>\",\"legendgroup\":\"Expulsion Count Other Reasons\",\"marker\":{\"color\":\"#19d3f3\",\"pattern\":{\"shape\":\"\"}},\"name\":\"Expulsion Count Other Reasons\",\"offsetgroup\":\"Expulsion Count Other Reasons\",\"orientation\":\"v\",\"showlegend\":true,\"textposition\":\"auto\",\"type\":\"bar\",\"x\":[0,1,2,3,4,5,6,7,8,9,10,11,12,13,14,15,16,17,18,19,20,21,22,23,24,25,26,27,28,29,30,31,32,33,34,35,36,37,38,39,40,41,42,43,44,45,46,47,48,49,50,51,52,53,54,55,56,57,58,59,60,61,62,63,64,65,66,67,68,69,70,71,72,73,74,75,76,77,78,79,80,81,82,83,84,85,86,87,88,89,90,91,92,93,94,95,96,97,98,99,100,101,102,103,104],\"xaxis\":\"x\",\"y\":[0,1,0,0,2,0,0,1,1,0,0,0,0,0,0,0,0,0,0,0,0,0,0,0,0,0,0,0,0,0,0,0,0,0,0,0,6,0,0,0,0,0,0,0,0,0,0,0,0,1,0,0,0,0,0,0,0,0,0,0,0,0,0,0,0,0,0,0,0,0,0,0,0,0,0,0,0,0,0,0,0,0,0,0,0,0,0,0,0,0,1,0,0,0,0,0,0,0,0,0,0,0,0,0,0],\"yaxis\":\"y\"}],                        {\"barmode\":\"relative\",\"legend\":{\"title\":{\"text\":\"variable\"},\"tracegroupgap\":0},\"template\":{\"data\":{\"bar\":[{\"error_x\":{\"color\":\"#2a3f5f\"},\"error_y\":{\"color\":\"#2a3f5f\"},\"marker\":{\"line\":{\"color\":\"#E5ECF6\",\"width\":0.5},\"pattern\":{\"fillmode\":\"overlay\",\"size\":10,\"solidity\":0.2}},\"type\":\"bar\"}],\"barpolar\":[{\"marker\":{\"line\":{\"color\":\"#E5ECF6\",\"width\":0.5},\"pattern\":{\"fillmode\":\"overlay\",\"size\":10,\"solidity\":0.2}},\"type\":\"barpolar\"}],\"carpet\":[{\"aaxis\":{\"endlinecolor\":\"#2a3f5f\",\"gridcolor\":\"white\",\"linecolor\":\"white\",\"minorgridcolor\":\"white\",\"startlinecolor\":\"#2a3f5f\"},\"baxis\":{\"endlinecolor\":\"#2a3f5f\",\"gridcolor\":\"white\",\"linecolor\":\"white\",\"minorgridcolor\":\"white\",\"startlinecolor\":\"#2a3f5f\"},\"type\":\"carpet\"}],\"choropleth\":[{\"colorbar\":{\"outlinewidth\":0,\"ticks\":\"\"},\"type\":\"choropleth\"}],\"contour\":[{\"colorbar\":{\"outlinewidth\":0,\"ticks\":\"\"},\"colorscale\":[[0.0,\"#0d0887\"],[0.1111111111111111,\"#46039f\"],[0.2222222222222222,\"#7201a8\"],[0.3333333333333333,\"#9c179e\"],[0.4444444444444444,\"#bd3786\"],[0.5555555555555556,\"#d8576b\"],[0.6666666666666666,\"#ed7953\"],[0.7777777777777778,\"#fb9f3a\"],[0.8888888888888888,\"#fdca26\"],[1.0,\"#f0f921\"]],\"type\":\"contour\"}],\"contourcarpet\":[{\"colorbar\":{\"outlinewidth\":0,\"ticks\":\"\"},\"type\":\"contourcarpet\"}],\"heatmap\":[{\"colorbar\":{\"outlinewidth\":0,\"ticks\":\"\"},\"colorscale\":[[0.0,\"#0d0887\"],[0.1111111111111111,\"#46039f\"],[0.2222222222222222,\"#7201a8\"],[0.3333333333333333,\"#9c179e\"],[0.4444444444444444,\"#bd3786\"],[0.5555555555555556,\"#d8576b\"],[0.6666666666666666,\"#ed7953\"],[0.7777777777777778,\"#fb9f3a\"],[0.8888888888888888,\"#fdca26\"],[1.0,\"#f0f921\"]],\"type\":\"heatmap\"}],\"heatmapgl\":[{\"colorbar\":{\"outlinewidth\":0,\"ticks\":\"\"},\"colorscale\":[[0.0,\"#0d0887\"],[0.1111111111111111,\"#46039f\"],[0.2222222222222222,\"#7201a8\"],[0.3333333333333333,\"#9c179e\"],[0.4444444444444444,\"#bd3786\"],[0.5555555555555556,\"#d8576b\"],[0.6666666666666666,\"#ed7953\"],[0.7777777777777778,\"#fb9f3a\"],[0.8888888888888888,\"#fdca26\"],[1.0,\"#f0f921\"]],\"type\":\"heatmapgl\"}],\"histogram\":[{\"marker\":{\"pattern\":{\"fillmode\":\"overlay\",\"size\":10,\"solidity\":0.2}},\"type\":\"histogram\"}],\"histogram2d\":[{\"colorbar\":{\"outlinewidth\":0,\"ticks\":\"\"},\"colorscale\":[[0.0,\"#0d0887\"],[0.1111111111111111,\"#46039f\"],[0.2222222222222222,\"#7201a8\"],[0.3333333333333333,\"#9c179e\"],[0.4444444444444444,\"#bd3786\"],[0.5555555555555556,\"#d8576b\"],[0.6666666666666666,\"#ed7953\"],[0.7777777777777778,\"#fb9f3a\"],[0.8888888888888888,\"#fdca26\"],[1.0,\"#f0f921\"]],\"type\":\"histogram2d\"}],\"histogram2dcontour\":[{\"colorbar\":{\"outlinewidth\":0,\"ticks\":\"\"},\"colorscale\":[[0.0,\"#0d0887\"],[0.1111111111111111,\"#46039f\"],[0.2222222222222222,\"#7201a8\"],[0.3333333333333333,\"#9c179e\"],[0.4444444444444444,\"#bd3786\"],[0.5555555555555556,\"#d8576b\"],[0.6666666666666666,\"#ed7953\"],[0.7777777777777778,\"#fb9f3a\"],[0.8888888888888888,\"#fdca26\"],[1.0,\"#f0f921\"]],\"type\":\"histogram2dcontour\"}],\"mesh3d\":[{\"colorbar\":{\"outlinewidth\":0,\"ticks\":\"\"},\"type\":\"mesh3d\"}],\"parcoords\":[{\"line\":{\"colorbar\":{\"outlinewidth\":0,\"ticks\":\"\"}},\"type\":\"parcoords\"}],\"pie\":[{\"automargin\":true,\"type\":\"pie\"}],\"scatter\":[{\"marker\":{\"colorbar\":{\"outlinewidth\":0,\"ticks\":\"\"}},\"type\":\"scatter\"}],\"scatter3d\":[{\"line\":{\"colorbar\":{\"outlinewidth\":0,\"ticks\":\"\"}},\"marker\":{\"colorbar\":{\"outlinewidth\":0,\"ticks\":\"\"}},\"type\":\"scatter3d\"}],\"scattercarpet\":[{\"marker\":{\"colorbar\":{\"outlinewidth\":0,\"ticks\":\"\"}},\"type\":\"scattercarpet\"}],\"scattergeo\":[{\"marker\":{\"colorbar\":{\"outlinewidth\":0,\"ticks\":\"\"}},\"type\":\"scattergeo\"}],\"scattergl\":[{\"marker\":{\"colorbar\":{\"outlinewidth\":0,\"ticks\":\"\"}},\"type\":\"scattergl\"}],\"scattermapbox\":[{\"marker\":{\"colorbar\":{\"outlinewidth\":0,\"ticks\":\"\"}},\"type\":\"scattermapbox\"}],\"scatterpolar\":[{\"marker\":{\"colorbar\":{\"outlinewidth\":0,\"ticks\":\"\"}},\"type\":\"scatterpolar\"}],\"scatterpolargl\":[{\"marker\":{\"colorbar\":{\"outlinewidth\":0,\"ticks\":\"\"}},\"type\":\"scatterpolargl\"}],\"scatterternary\":[{\"marker\":{\"colorbar\":{\"outlinewidth\":0,\"ticks\":\"\"}},\"type\":\"scatterternary\"}],\"surface\":[{\"colorbar\":{\"outlinewidth\":0,\"ticks\":\"\"},\"colorscale\":[[0.0,\"#0d0887\"],[0.1111111111111111,\"#46039f\"],[0.2222222222222222,\"#7201a8\"],[0.3333333333333333,\"#9c179e\"],[0.4444444444444444,\"#bd3786\"],[0.5555555555555556,\"#d8576b\"],[0.6666666666666666,\"#ed7953\"],[0.7777777777777778,\"#fb9f3a\"],[0.8888888888888888,\"#fdca26\"],[1.0,\"#f0f921\"]],\"type\":\"surface\"}],\"table\":[{\"cells\":{\"fill\":{\"color\":\"#EBF0F8\"},\"line\":{\"color\":\"white\"}},\"header\":{\"fill\":{\"color\":\"#C8D4E3\"},\"line\":{\"color\":\"white\"}},\"type\":\"table\"}]},\"layout\":{\"annotationdefaults\":{\"arrowcolor\":\"#2a3f5f\",\"arrowhead\":0,\"arrowwidth\":1},\"autotypenumbers\":\"strict\",\"coloraxis\":{\"colorbar\":{\"outlinewidth\":0,\"ticks\":\"\"}},\"colorscale\":{\"diverging\":[[0,\"#8e0152\"],[0.1,\"#c51b7d\"],[0.2,\"#de77ae\"],[0.3,\"#f1b6da\"],[0.4,\"#fde0ef\"],[0.5,\"#f7f7f7\"],[0.6,\"#e6f5d0\"],[0.7,\"#b8e186\"],[0.8,\"#7fbc41\"],[0.9,\"#4d9221\"],[1,\"#276419\"]],\"sequential\":[[0.0,\"#0d0887\"],[0.1111111111111111,\"#46039f\"],[0.2222222222222222,\"#7201a8\"],[0.3333333333333333,\"#9c179e\"],[0.4444444444444444,\"#bd3786\"],[0.5555555555555556,\"#d8576b\"],[0.6666666666666666,\"#ed7953\"],[0.7777777777777778,\"#fb9f3a\"],[0.8888888888888888,\"#fdca26\"],[1.0,\"#f0f921\"]],\"sequentialminus\":[[0.0,\"#0d0887\"],[0.1111111111111111,\"#46039f\"],[0.2222222222222222,\"#7201a8\"],[0.3333333333333333,\"#9c179e\"],[0.4444444444444444,\"#bd3786\"],[0.5555555555555556,\"#d8576b\"],[0.6666666666666666,\"#ed7953\"],[0.7777777777777778,\"#fb9f3a\"],[0.8888888888888888,\"#fdca26\"],[1.0,\"#f0f921\"]]},\"colorway\":[\"#636efa\",\"#EF553B\",\"#00cc96\",\"#ab63fa\",\"#FFA15A\",\"#19d3f3\",\"#FF6692\",\"#B6E880\",\"#FF97FF\",\"#FECB52\"],\"font\":{\"color\":\"#2a3f5f\"},\"geo\":{\"bgcolor\":\"white\",\"lakecolor\":\"white\",\"landcolor\":\"#E5ECF6\",\"showlakes\":true,\"showland\":true,\"subunitcolor\":\"white\"},\"hoverlabel\":{\"align\":\"left\"},\"hovermode\":\"closest\",\"mapbox\":{\"style\":\"light\"},\"paper_bgcolor\":\"white\",\"plot_bgcolor\":\"#E5ECF6\",\"polar\":{\"angularaxis\":{\"gridcolor\":\"white\",\"linecolor\":\"white\",\"ticks\":\"\"},\"bgcolor\":\"#E5ECF6\",\"radialaxis\":{\"gridcolor\":\"white\",\"linecolor\":\"white\",\"ticks\":\"\"}},\"scene\":{\"xaxis\":{\"backgroundcolor\":\"#E5ECF6\",\"gridcolor\":\"white\",\"gridwidth\":2,\"linecolor\":\"white\",\"showbackground\":true,\"ticks\":\"\",\"zerolinecolor\":\"white\"},\"yaxis\":{\"backgroundcolor\":\"#E5ECF6\",\"gridcolor\":\"white\",\"gridwidth\":2,\"linecolor\":\"white\",\"showbackground\":true,\"ticks\":\"\",\"zerolinecolor\":\"white\"},\"zaxis\":{\"backgroundcolor\":\"#E5ECF6\",\"gridcolor\":\"white\",\"gridwidth\":2,\"linecolor\":\"white\",\"showbackground\":true,\"ticks\":\"\",\"zerolinecolor\":\"white\"}},\"shapedefaults\":{\"line\":{\"color\":\"#2a3f5f\"}},\"ternary\":{\"aaxis\":{\"gridcolor\":\"white\",\"linecolor\":\"white\",\"ticks\":\"\"},\"baxis\":{\"gridcolor\":\"white\",\"linecolor\":\"white\",\"ticks\":\"\"},\"bgcolor\":\"#E5ECF6\",\"caxis\":{\"gridcolor\":\"white\",\"linecolor\":\"white\",\"ticks\":\"\"}},\"title\":{\"x\":0.05},\"xaxis\":{\"automargin\":true,\"gridcolor\":\"white\",\"linecolor\":\"white\",\"ticks\":\"\",\"title\":{\"standoff\":15},\"zerolinecolor\":\"white\",\"zerolinewidth\":2},\"yaxis\":{\"automargin\":true,\"gridcolor\":\"white\",\"linecolor\":\"white\",\"ticks\":\"\",\"title\":{\"standoff\":15},\"zerolinecolor\":\"white\",\"zerolinewidth\":2}}},\"title\":{\"text\":\"Expulsion Counts\"},\"xaxis\":{\"anchor\":\"y\",\"domain\":[0.0,1.0],\"title\":{\"text\":\"index\"}},\"yaxis\":{\"anchor\":\"x\",\"domain\":[0.0,1.0],\"title\":{\"text\":\"value\"}}},                        {\"responsive\": true}                    ).then(function(){\n",
       "                            \n",
       "var gd = document.getElementById('9e5086d6-41b1-495b-a2ca-fed6e65bda29');\n",
       "var x = new MutationObserver(function (mutations, observer) {{\n",
       "        var display = window.getComputedStyle(gd).display;\n",
       "        if (!display || display === 'none') {{\n",
       "            console.log([gd, 'removed!']);\n",
       "            Plotly.purge(gd);\n",
       "            observer.disconnect();\n",
       "        }}\n",
       "}});\n",
       "\n",
       "// Listen for the removal of the full notebook cells\n",
       "var notebookContainer = gd.closest('#notebook-container');\n",
       "if (notebookContainer) {{\n",
       "    x.observe(notebookContainer, {childList: true});\n",
       "}}\n",
       "\n",
       "// Listen for the clearing of the current output cell\n",
       "var outputEl = gd.closest('.output');\n",
       "if (outputEl) {{\n",
       "    x.observe(outputEl, {childList: true});\n",
       "}}\n",
       "\n",
       "                        })                };                });            </script>        </div>"
      ]
     },
     "metadata": {},
     "output_type": "display_data"
    }
   ],
   "source": [
    "fig = px.bar(expgdf_filtered_final, #x=\"SchoolName\", \n",
    "             y=[\"Expulsion Count Violent Incident (Injury)\", \n",
    "                \"Expulsion Count Violent Incident (No Injury)\", \n",
    "                \"Expulsion Count Weapons Possession\",\n",
    "                \"Expulsion Count Illicit Drug-Related\",\n",
    "                \"Expulsion Count Defiance-Only\",\n",
    "               \"Expulsion Count Other Reasons\"], title=\"Expulsion Counts\")\n",
    "\n",
    "fig.show()"
   ]
  },
  {
   "cell_type": "code",
   "execution_count": 122,
   "id": "bb61b926-a34f-42cc-8865-259bacf6e6f1",
   "metadata": {},
   "outputs": [
    {
     "name": "stdout",
     "output_type": "stream",
     "text": [
      "Expulsion Count Violent Incident (Injury):  35\n",
      "Expulsion Count Violent Incident (No Injury):  58\n",
      "Expulsion Count Weapons Possession:  33\n",
      "Expulsion Count Illicit Drug-Related:  89\n",
      "Expulsion Count Defiance-Only:  0\n",
      "Expulsion Count Other Reasons:  13\n"
     ]
    }
   ],
   "source": [
    "print('Expulsion Count Violent Incident (Injury): ',sum(expgdf_filtered_final['Expulsion Count Violent Incident (Injury)']))\n",
    "print('Expulsion Count Violent Incident (No Injury): ',sum(expgdf_filtered_final['Expulsion Count Violent Incident (No Injury)']))\n",
    "print('Expulsion Count Weapons Possession: ',sum(expgdf_filtered_final['Expulsion Count Weapons Possession']))\n",
    "print('Expulsion Count Illicit Drug-Related: ',sum(expgdf_filtered_final['Expulsion Count Illicit Drug-Related']))\n",
    "print('Expulsion Count Defiance-Only: ',sum(expgdf_filtered_final['Expulsion Count Defiance-Only']))\n",
    "print('Expulsion Count Other Reasons: ',sum(expgdf_filtered_final['Expulsion Count Other Reasons']))\n"
   ]
  },
  {
   "cell_type": "code",
   "execution_count": null,
   "id": "a74bcd4b-7fef-4b25-991b-945ad506d48c",
   "metadata": {},
   "outputs": [],
   "source": []
  }
 ],
 "metadata": {
  "kernelspec": {
   "display_name": "Python 3 (ipykernel)",
   "language": "python",
   "name": "python3"
  },
  "language_info": {
   "codemirror_mode": {
    "name": "ipython",
    "version": 3
   },
   "file_extension": ".py",
   "mimetype": "text/x-python",
   "name": "python",
   "nbconvert_exporter": "python",
   "pygments_lexer": "ipython3",
   "version": "3.9.6"
  }
 },
 "nbformat": 4,
 "nbformat_minor": 5
}
